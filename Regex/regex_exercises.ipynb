{
 "cells": [
  {
   "cell_type": "markdown",
   "id": "emerging-worry",
   "metadata": {},
   "source": [
    "# Regular Expression Exercises\n",
    "\n",
    "* Debugger: When debugging regular expressions, the best tool is [Regex101](https://regex101.com/). This is an interactive tool that let's you visualize a regular expression in action.\n",
    "* Tutorial: I tend to like RealPython's tutorials, here is their's on [Regular Expressions](https://realpython.com/regex-python/).\n",
    "* Tutorial: The [Official Python tutorial on Regular Expressions](https://docs.python.org/3/howto/regex.html) is not a bad introduction.\n",
    "* Cheat Sheet: People often make use of [Cheat Sheets](https://www.debuggex.com/cheatsheet/regex/python) when they have to do a lot of Regular Expressions.\n",
    "* Documentation: If you need it, the official [Python documentation on the `re` module](https://docs.python.org/3/library/re.html) can also be a resource."
   ]
  },
  {
   "cell_type": "markdown",
   "id": "injured-instrumentation",
   "metadata": {},
   "source": [
    "PLEASE FILL IN THE FOLLOWING:\n",
    "    \n",
    "* Your names:  Maria van Venrooy, Cole Plum\n",
    "* Link to the Github repo with this file: https://github.com/mariavanv/CISC367/tree/main/Regex"
   ]
  },
  {
   "cell_type": "code",
   "execution_count": 1,
   "id": "miniature-sarah",
   "metadata": {},
   "outputs": [],
   "source": [
    "import re"
   ]
  },
  {
   "cell_type": "markdown",
   "id": "forward-infection",
   "metadata": {},
   "source": [
    "## 1. Introduction\n",
    "\n",
    "**a)** Check whether the given strings contain `0xB0`. Display a boolean result as shown below."
   ]
  },
  {
   "cell_type": "code",
   "execution_count": 2,
   "id": "informational-richmond",
   "metadata": {},
   "outputs": [],
   "source": [
    "line1 = 'start address: 0xA0, func1 address: 0xC0'\n",
    "line2 = 'end address: 0xFF, func2 address: 0xB0'\n",
    "\n",
    "assert bool(re.search(r'0xB0', line1)) == False\n",
    "assert bool(re.search(r'0xB0', line2)) == True\n"
   ]
  },
  {
   "cell_type": "markdown",
   "id": "thirty-boutique",
   "metadata": {},
   "source": [
    "**b)** Replace all occurrences of `5` with `five` for the given string."
   ]
  },
  {
   "cell_type": "code",
   "execution_count": 18,
   "id": "junior-landscape",
   "metadata": {},
   "outputs": [],
   "source": [
    "ip = 'They ate 5 apples and 5 oranges'\n",
    "\n",
    "assert re.sub(\"5\", \"five\", ip) == 'They ate five apples and five oranges'"
   ]
  },
  {
   "cell_type": "markdown",
   "id": "earlier-accountability",
   "metadata": {},
   "source": [
    "**c)** Replace first occurrence of `5` with `five` for the given string."
   ]
  },
  {
   "cell_type": "code",
   "execution_count": 21,
   "id": "directed-edwards",
   "metadata": {},
   "outputs": [],
   "source": [
    "ip = 'They ate 5 apples and 5 oranges'\n",
    "\n",
    "assert re.sub(\"5\", \"five\", ip, count=1) == 'They ate five apples and 5 oranges'"
   ]
  },
  {
   "cell_type": "markdown",
   "id": "linear-bosnia",
   "metadata": {},
   "source": [
    "**d)** For the given list, filter all elements that do *not* contain `e`."
   ]
  },
  {
   "cell_type": "code",
   "execution_count": 31,
   "id": "planned-economics",
   "metadata": {},
   "outputs": [],
   "source": [
    "items = ['goal', 'new', 'user', 'sit', 'eat', 'dinner']\n",
    "\n",
    "assert [w for w in items if not re.search(r'e', w)] == ['goal', 'sit']"
   ]
  },
  {
   "cell_type": "markdown",
   "id": "right-spread",
   "metadata": {},
   "source": [
    "**e)** Replace all occurrences of `note` irrespective of case with `X`."
   ]
  },
  {
   "cell_type": "code",
   "execution_count": 35,
   "id": "social-stationery",
   "metadata": {},
   "outputs": [],
   "source": [
    "ip = 'This note should not be NoTeD'\n",
    "\n",
    "assert re.sub(r'note', \"X\", ip, flags=re.IGNORECASE) == 'This X should not be XD'"
   ]
  },
  {
   "cell_type": "markdown",
   "id": "romance-suggestion",
   "metadata": {},
   "source": [
    "**f)** Check if `at` is present in the given byte input data."
   ]
  },
  {
   "cell_type": "code",
   "execution_count": null,
   "id": "clinical-lighter",
   "metadata": {},
   "outputs": [],
   "source": [
    "ip = 'tiger imp goat'\n",
    "\n",
    "assert bool(re.search()) == True"
   ]
  },
  {
   "cell_type": "markdown",
   "id": "stopped-packaging",
   "metadata": {},
   "source": [
    "**g)** For the given input string, display all lines not containing `start` irrespective of case."
   ]
  },
  {
   "cell_type": "code",
   "execution_count": null,
   "id": "solid-consistency",
   "metadata": {},
   "outputs": [],
   "source": [
    "para = '''good start\n",
    "Start working on that\n",
    "project you always wanted\n",
    "stars are shining brightly\n",
    "hi there\n",
    "start and try to\n",
    "finish the book\n",
    "bye'''\n",
    "\n",
    "pat = re.compile()      ##### add your solution here\n",
    "for line in para.split('\\n'):\n",
    "    if not pat.search(line):\n",
    "        print(line)\n",
    "\n",
    "\"\"\"project you always wanted\n",
    "stars are shining brightly\n",
    "hi there\n",
    "finish the book\n",
    "bye\"\"\""
   ]
  },
  {
   "cell_type": "markdown",
   "id": "traditional-israel",
   "metadata": {},
   "source": [
    "**h)** For the given list, filter all elements that contains either `a` or `w`."
   ]
  },
  {
   "cell_type": "code",
   "execution_count": null,
   "id": "frank-subscriber",
   "metadata": {},
   "outputs": [],
   "source": [
    "items = ['goal', 'new', 'user', 'sit', 'eat', 'dinner']\n",
    "\n",
    "##### add your solution here\n",
    "assert [w for w in items if re.search() or re.search()] == ['goal', 'new', 'eat']"
   ]
  },
  {
   "cell_type": "markdown",
   "id": "activated-rebound",
   "metadata": {},
   "source": [
    "**i)** For the given list, filter all elements that contains both `e` and `n`."
   ]
  },
  {
   "cell_type": "code",
   "execution_count": null,
   "id": "electrical-friendship",
   "metadata": {},
   "outputs": [],
   "source": [
    "items = ['goal', 'new', 'user', 'sit', 'eat', 'dinner']\n",
    "\n",
    "##### add your solution here\n",
    "assert [w for w in items if re.search() and re.search()] == ['new', 'dinner']"
   ]
  },
  {
   "cell_type": "markdown",
   "id": "variable-sucking",
   "metadata": {},
   "source": [
    "**j)** For the given string, replace `0xA0` with `0x7F` and `0xC0` with `0x1F`."
   ]
  },
  {
   "cell_type": "code",
   "execution_count": null,
   "id": "smart-arrival",
   "metadata": {},
   "outputs": [],
   "source": [
    "ip = 'start address: 0xA0, func1 address: 0xC0'\n",
    "\n",
    "##### add your solution here\n",
    "assert ___ == 'start address: 0x7F, func1 address: 0x1F'"
   ]
  },
  {
   "cell_type": "markdown",
   "id": "lasting-computer",
   "metadata": {},
   "source": [
    "<br>\n",
    "\n",
    "# 2. Anchors\n",
    "\n",
    "**a)** Check if the given strings start with `be`."
   ]
  },
  {
   "cell_type": "code",
   "execution_count": 55,
   "id": "muslim-spider",
   "metadata": {},
   "outputs": [],
   "source": [
    "line1 = 'be nice'\n",
    "line2 = '\"best!\"'\n",
    "line3 = 'better?'\n",
    "line4 = 'oh no\\nbear spotted'\n",
    "\n",
    "pat = re.compile(r'^(be)')       ##### add your solution here\n",
    "assert bool(pat.search(line1)) == True\n",
    "assert bool(pat.search(line2)) == False\n",
    "assert bool(pat.search(line3)) == True\n",
    "assert bool(pat.search(line4)) == False"
   ]
  },
  {
   "cell_type": "markdown",
   "id": "closing-repeat",
   "metadata": {},
   "source": [
    "**b)** For the given input string, change only whole word `red` to `brown`"
   ]
  },
  {
   "cell_type": "code",
   "execution_count": 49,
   "id": "catholic-storage",
   "metadata": {},
   "outputs": [],
   "source": [
    "words = 'bred red spread credible'\n",
    "\n",
    "#print(re.sub(r'\\Wred\\W', \" brown \", words))\n",
    "\n",
    "assert re.sub(r'\\Wred\\W', \" brown \", words) == 'bred brown spread credible'\n"
   ]
  },
  {
   "cell_type": "markdown",
   "id": "voluntary-tours",
   "metadata": {},
   "source": [
    "**c)** For the given input list, filter all elements that contains `42` surrounded by word characters."
   ]
  },
  {
   "cell_type": "code",
   "execution_count": 54,
   "id": "sticky-queue",
   "metadata": {},
   "outputs": [],
   "source": [
    "words = ['hi42bye', 'nice1423', 'bad42', 'cool_42a', 'fake4b']\n",
    "\n",
    "assert [w for w in words if re.search(r'\\w42\\w', w)] == ['hi42bye', 'nice1423', 'cool_42a']"
   ]
  },
  {
   "cell_type": "markdown",
   "id": "unknown-brick",
   "metadata": {},
   "source": [
    "**d)** For the given input list, filter all elements that start with `den` or end with `ly`."
   ]
  },
  {
   "cell_type": "code",
   "execution_count": 9,
   "id": "administrative-russia",
   "metadata": {},
   "outputs": [],
   "source": [
    "items = ['lovely', '1\\ndentist', '2 lonely', 'eden', 'fly\\n', 'dent']\n",
    "\n",
    "assert [e for e in items if (  re.search(r'^den.*|.*ly\\Z' , e)  )] == ['lovely', '2 lonely', 'dent']\n",
    "\n",
    "\n",
    "#print([e for e in items if ( re.search(r'^den.*|.*ly\\Z' , e) )])"
   ]
  },
  {
   "cell_type": "markdown",
   "id": "computational-revolution",
   "metadata": {},
   "source": [
    "**e)** For the given input string, change whole word `mall` to `1234` only if it is at the start of a line."
   ]
  },
  {
   "cell_type": "code",
   "execution_count": null,
   "id": "clinical-catalyst",
   "metadata": {},
   "outputs": [],
   "source": [
    "para = '''\n",
    "ball fall wall tall\n",
    "mall call ball pall\n",
    "wall mall ball fall\n",
    "mallet wallet malls'''\n",
    "\n",
    "\n",
    "assert re.sub(r'mall', \"1234\", para) == \"\"\"\n",
    "ball fall wall tall\n",
    "1234 call ball pall\n",
    "wall mall ball fall\n",
    "mallet wallet malls\"\"\""
   ]
  },
  {
   "cell_type": "markdown",
   "id": "diverse-attachment",
   "metadata": {},
   "source": [
    "**f)** For the given list, filter all elements having a line starting with `den` or ending with `ly`."
   ]
  },
  {
   "cell_type": "code",
   "execution_count": null,
   "id": "inside-energy",
   "metadata": {},
   "outputs": [],
   "source": [
    "items = ['lovely', '1\\ndentist', '2 lonely', 'eden', 'fly\\nfar', 'dent']\n",
    "\n",
    "##### add your solution here\n",
    "assert ___ == ['lovely', '1\\ndentist', '2 lonely', 'fly\\nfar', 'dent']"
   ]
  },
  {
   "cell_type": "markdown",
   "id": "provincial-science",
   "metadata": {},
   "source": [
    "**g)** For the given input list, filter all whole elements `12\\nthree` irrespective of case."
   ]
  },
  {
   "cell_type": "code",
   "execution_count": null,
   "id": "frank-questionnaire",
   "metadata": {},
   "outputs": [],
   "source": [
    "items = ['12\\nthree\\n', '12\\nThree', '12\\nthree\\n4', '12\\nthree']\n",
    "##### add your solution here\n",
    "assert ___ == ['12\\nThree', '12\\nthree']"
   ]
  },
  {
   "cell_type": "markdown",
   "id": "urban-trading",
   "metadata": {},
   "source": [
    "**h)** For the given input list, replace `hand` with `X` for all elements that start with `hand` followed by at least one word character."
   ]
  },
  {
   "cell_type": "code",
   "execution_count": null,
   "id": "proprietary-bottle",
   "metadata": {},
   "outputs": [],
   "source": [
    "items = ['handed', 'hand', 'handy', 'unhanded', 'handle', 'hand-2']\n",
    "\n",
    "##### add your solution here\n",
    "assert ___ == ['Xed', 'hand', 'Xy', 'unhanded', 'Xle', 'hand-2']"
   ]
  },
  {
   "cell_type": "markdown",
   "id": "generous-brick",
   "metadata": {},
   "source": [
    "**i)** For the given input list, filter all elements starting with `h`. Additionally, replace `e` with `X` for these filtered elements."
   ]
  },
  {
   "cell_type": "code",
   "execution_count": null,
   "id": "visible-figure",
   "metadata": {},
   "outputs": [],
   "source": [
    "items = ['handed', 'hand', 'handy', 'unhanded', 'handle', 'hand-2']\n",
    "\n",
    "##### add your solution here\n",
    "assert ___ == ['handXd', 'hand', 'handy', 'handlX', 'hand-2']"
   ]
  },
  {
   "cell_type": "markdown",
   "id": "august-practitioner",
   "metadata": {},
   "source": [
    "<br>\n",
    "\n",
    "# 3. Alternation and Grouping\n",
    "\n",
    "**a)** For the given input list, filter all elements that start with `den` or end with `ly`"
   ]
  },
  {
   "cell_type": "code",
   "execution_count": 3,
   "id": "resistant-shoulder",
   "metadata": {},
   "outputs": [],
   "source": [
    "items = ['lovely', '1\\ndentist', '2 lonely', 'eden', 'fly\\n', 'dent']\n",
    "\n",
    "##### add your solution here\n",
    "assert [w for w in items if re.search(\"\\Aden.*|.*ly\\Z\", w)] == ['lovely', '2 lonely', 'dent']"
   ]
  },
  {
   "cell_type": "markdown",
   "id": "bizarre-league",
   "metadata": {},
   "source": [
    "**b)** For the given list, filter all elements having a line starting with `den` or ending with `ly`."
   ]
  },
  {
   "cell_type": "code",
   "execution_count": 4,
   "id": "outside-property",
   "metadata": {},
   "outputs": [],
   "source": [
    "items = ['lovely', '1\\ndentist', '2 lonely', 'eden', 'fly\\nfar', 'dent']\n",
    "\n",
    "##### add your solution here\n",
    "assert [w for w in items if re.search(\"(\\nden.*|^den.*)|(.*ly\\n|.*ly$)\", w)] == ['lovely', '1\\ndentist', '2 lonely', 'fly\\nfar', 'dent']"
   ]
  },
  {
   "cell_type": "markdown",
   "id": "cheap-palestine",
   "metadata": {},
   "source": [
    "**c)** For the given input strings, replace all occurrences of `removed` or `reed` or `received` or `refused` with `X`."
   ]
  },
  {
   "cell_type": "code",
   "execution_count": 5,
   "id": "original-porter",
   "metadata": {},
   "outputs": [],
   "source": [
    "s1 = 'creed refuse removed read'\n",
    "s2 = 'refused reed redo received'\n",
    "\n",
    "pat = re.compile(\"re\\w*ed\")        ##### add your solution here\n",
    "assert pat.sub('X', s1) == 'cX refuse X read'\n",
    "assert pat.sub('X', s2) == 'X X redo X'"
   ]
  },
  {
   "cell_type": "markdown",
   "id": "proud-scholarship",
   "metadata": {},
   "source": [
    "**d)** For the given input strings, replace all matches from the list `words` with `A`."
   ]
  },
  {
   "cell_type": "code",
   "execution_count": 6,
   "id": "adjacent-produce",
   "metadata": {},
   "outputs": [],
   "source": [
    "s1 = 'plate full of slate'\n",
    "s2 = \"slated for later, don't be late\"\n",
    "words = ['late', 'later', 'slated', 'late']\n",
    "\n",
    "pat = re.compile('|'.join(sorted(words, key=len, reverse=True)))        ##### add your solution here\n",
    "assert pat.sub('A', s1) == 'pA full of sA'\n",
    "assert pat.sub('A', s2) == \"A for A, don't be A\""
   ]
  },
  {
   "cell_type": "markdown",
   "id": "prospective-fossil",
   "metadata": {},
   "source": [
    "**e)** Filter all whole elements from the input list `items` based on elements listed in `words`."
   ]
  },
  {
   "cell_type": "code",
   "execution_count": 7,
   "id": "played-corpus",
   "metadata": {},
   "outputs": [],
   "source": [
    "items = ['slate', 'later', 'plate', 'late', 'slates', 'slated ']\n",
    "words = ['late', 'later', 'slated']\n",
    "\n",
    "pat = re.compile('|'.join(words))       ##### add your solution here\n",
    "\n",
    "##### add your solution here\n",
    "assert [i for i in items if re.fullmatch(pat, i)] == ['later', 'late']"
   ]
  },
  {
   "cell_type": "markdown",
   "id": "removable-musician",
   "metadata": {},
   "source": [
    "<br>\n",
    "\n",
    "# 4. Escaping metacharacters\n",
    "\n",
    "**a)** Transform the given input strings to the expected output using same logic on both strings."
   ]
  },
  {
   "cell_type": "code",
   "execution_count": 45,
   "id": "fleet-threshold",
   "metadata": {},
   "outputs": [],
   "source": [
    "str1 = '(9-2)*5+qty/3'\n",
    "str2 = '(qty+4)/2-(9-2)*5+pq/4'\n",
    "\n",
    "##### add your solution here for str1\n",
    "\n",
    "\n",
    "assert re.sub(r'\\(9\\-2\\)\\*5', '35', str1) == '35+qty/3'\n",
    "##### add your solution here for str2\n",
    "assert re.sub(r'\\(9\\-2\\)\\*5', '35', str2) == '(qty+4)/2-35+pq/4'"
   ]
  },
  {
   "cell_type": "markdown",
   "id": "dressed-desktop",
   "metadata": {},
   "source": [
    "**b)** Replace `(4)\\|` with `2` only at the start or end of given input strings."
   ]
  },
  {
   "cell_type": "code",
   "execution_count": 44,
   "id": "beneficial-hierarchy",
   "metadata": {},
   "outputs": [
    {
     "ename": "TypeError",
     "evalue": "compile() missing 1 required positional argument: 'pattern'",
     "output_type": "error",
     "traceback": [
      "\u001b[1;31m---------------------------------------------------------------------------\u001b[0m",
      "\u001b[1;31mTypeError\u001b[0m                                 Traceback (most recent call last)",
      "\u001b[1;32m<ipython-input-44-af0bdce90c22>\u001b[0m in \u001b[0;36m<module>\u001b[1;34m\u001b[0m\n\u001b[0;32m      3\u001b[0m \u001b[0ms3\u001b[0m \u001b[1;33m=\u001b[0m \u001b[1;34m'two - (4)\\\\|\\n'\u001b[0m\u001b[1;33m\u001b[0m\u001b[1;33m\u001b[0m\u001b[0m\n\u001b[0;32m      4\u001b[0m \u001b[1;33m\u001b[0m\u001b[0m\n\u001b[1;32m----> 5\u001b[1;33m \u001b[0mpat\u001b[0m \u001b[1;33m=\u001b[0m \u001b[0mre\u001b[0m\u001b[1;33m.\u001b[0m\u001b[0mcompile\u001b[0m\u001b[1;33m(\u001b[0m\u001b[1;33m)\u001b[0m        \u001b[1;31m##### add your solution here\u001b[0m\u001b[1;33m\u001b[0m\u001b[1;33m\u001b[0m\u001b[0m\n\u001b[0m\u001b[0;32m      6\u001b[0m \u001b[1;32massert\u001b[0m \u001b[0mpat\u001b[0m\u001b[1;33m.\u001b[0m\u001b[0msub\u001b[0m\u001b[1;33m(\u001b[0m\u001b[1;34m'2'\u001b[0m\u001b[1;33m,\u001b[0m \u001b[0ms1\u001b[0m\u001b[1;33m)\u001b[0m \u001b[1;33m==\u001b[0m \u001b[1;34m'2.3/(4)\\\\|6 foo 5.3-2'\u001b[0m\u001b[1;33m\u001b[0m\u001b[1;33m\u001b[0m\u001b[0m\n\u001b[0;32m      7\u001b[0m \u001b[1;32massert\u001b[0m \u001b[0mpat\u001b[0m\u001b[1;33m.\u001b[0m\u001b[0msub\u001b[0m\u001b[1;33m(\u001b[0m\u001b[1;34m'2'\u001b[0m\u001b[1;33m,\u001b[0m \u001b[0ms2\u001b[0m\u001b[1;33m)\u001b[0m \u001b[1;33m==\u001b[0m \u001b[1;34m'242 - (4)\\\\|3'\u001b[0m\u001b[1;33m\u001b[0m\u001b[1;33m\u001b[0m\u001b[0m\n",
      "\u001b[1;31mTypeError\u001b[0m: compile() missing 1 required positional argument: 'pattern'"
     ]
    }
   ],
   "source": [
    "s1 = r'2.3/(4)\\|6 foo 5.3-(4)\\|'\n",
    "s2 = r'(4)\\|42 - (4)\\|3'\n",
    "s3 = 'two - (4)\\\\|\\n'\n",
    "\n",
    "#pat = re.compile()        ##### add your solution here\n",
    "assert re.sub(r') == '2.3/(4)\\\\|6 foo 5.3-2'\n",
    "assert pat.sub('2', s2) == '242 - (4)\\\\|3'\n",
    "assert pat.sub('2', s3) == 'two - (4)\\\\|\\n'"
   ]
  },
  {
   "cell_type": "markdown",
   "id": "amazing-documentation",
   "metadata": {},
   "source": [
    "**c)** Replace any matching element from the list `items` with `X` for given the input strings. Match the elements from `items` literally. Assume no two elements of `items` will result in any matching conflict."
   ]
  },
  {
   "cell_type": "code",
   "execution_count": null,
   "id": "altered-juvenile",
   "metadata": {},
   "outputs": [],
   "source": [
    "items = ['a.b', '3+n', r'x\\y\\z', 'qty||price', '{n}']\n",
    "pat = re.compile()      ##### add your solution here\n",
    "assert pat.sub('X', '0a.bcd') == '0Xcd'\n",
    "assert pat.sub('X', 'E{n}AMPLE') == 'EXAMPLE'\n",
    "assert pat.sub('X', r'43+n2 ax\\y\\ze') == '4X2 aXe'"
   ]
  },
  {
   "cell_type": "markdown",
   "id": "administrative-relaxation",
   "metadata": {},
   "source": [
    "**d)** Replace backspace character `\\b` with a single space character for the given input string."
   ]
  },
  {
   "cell_type": "code",
   "execution_count": null,
   "id": "appropriate-speaking",
   "metadata": {},
   "outputs": [],
   "source": [
    "ip = '123\\b456'\n",
    "ip"
   ]
  },
  {
   "cell_type": "code",
   "execution_count": null,
   "id": "naughty-tobago",
   "metadata": {},
   "outputs": [],
   "source": [
    "assert re.sub() == '123 456'"
   ]
  },
  {
   "cell_type": "markdown",
   "id": "missing-pledge",
   "metadata": {},
   "source": [
    "**e)** Replace all occurrences of `\\e` with `e`."
   ]
  },
  {
   "cell_type": "code",
   "execution_count": null,
   "id": "referenced-showcase",
   "metadata": {},
   "outputs": [],
   "source": [
    "ip = r'th\\er\\e ar\\e common asp\\ects among th\\e alt\\ernations'\n",
    "\n",
    "assert re.sub() == 'there are common aspects among the alternations'"
   ]
  },
  {
   "cell_type": "markdown",
   "id": "chicken-dayton",
   "metadata": {},
   "source": [
    "**f)** Replace any matching item from the list `eqns` with `X` for given the string `ip`. Match the items from `eqns` literally."
   ]
  },
  {
   "cell_type": "code",
   "execution_count": null,
   "id": "prostate-agenda",
   "metadata": {},
   "outputs": [],
   "source": [
    "ip = '3-(a^b)+2*(a^b)-(a/b)+3'\n",
    "eqns = ['(a^b)', '(a/b)', '(a^b)+2']\n",
    "\n",
    "##### add your solution here\n",
    "\n",
    "assert pat.sub('X', ip) == '3-X*X-X+3'"
   ]
  },
  {
   "cell_type": "markdown",
   "id": "played-douglas",
   "metadata": {},
   "source": [
    "<br>\n",
    "\n",
    "# 5. Dot metacharacter and Quantifiers\n",
    "\n",
    "Since `.` metacharacter doesn't match newline character by default, assume that the input strings in the following exercises will not contain newline characters.\n",
    "\n",
    "**a)** Replace `42//5` or `42/5` with `8` for the given input."
   ]
  },
  {
   "cell_type": "code",
   "execution_count": 2,
   "id": "opposite-machinery",
   "metadata": {},
   "outputs": [],
   "source": [
    "ip = 'a+42//5-c pressure*3+42/5-14256'\n",
    "\n",
    "assert re.sub(\"42//?5\", \"8\", ip) == 'a+8-c pressure*3+8-14256'"
   ]
  },
  {
   "cell_type": "markdown",
   "id": "important-interaction",
   "metadata": {},
   "source": [
    "**b)** For the list `items`, filter all elements starting with `hand` and ending with at most one more character or `le`."
   ]
  },
  {
   "cell_type": "code",
   "execution_count": 3,
   "id": "angry-edward",
   "metadata": {},
   "outputs": [],
   "source": [
    "items = ['handed', 'hand', 'handled', 'handy', 'unhand', 'hands', 'handle']\n",
    "\n",
    "##### add your solution here\n",
    "assert [w for w in items if re.match(\"hand(.|le)?$\", w)] == ['hand', 'handy', 'hands', 'handle']"
   ]
  },
  {
   "cell_type": "markdown",
   "id": "vertical-uniform",
   "metadata": {},
   "source": [
    "**c)** Use `re.split` to get the output as shown for the given input strings."
   ]
  },
  {
   "cell_type": "code",
   "execution_count": 4,
   "id": "historic-compact",
   "metadata": {},
   "outputs": [],
   "source": [
    "eqn1 = 'a+42//5-c'\n",
    "eqn2 = 'pressure*3+42/5-14256'\n",
    "eqn3 = 'r*42-5/3+42///5-42/53+a'\n",
    "\n",
    "pat = re.compile(\"42//?5\")\n",
    "\n",
    "##### add your solution here for eqn1\n",
    "assert re.split(pat, eqn1) == ['a+', '-c']\n",
    "##### add your solution here for eqn2\n",
    "assert re.split(pat, eqn2) == ['pressure*3+', '-14256']\n",
    "##### add your solution here for eqn3\n",
    "assert re.split(pat, eqn3) == ['r*42-5/3+42///5-', '3+a']"
   ]
  },
  {
   "cell_type": "markdown",
   "id": "ecological-modeling",
   "metadata": {},
   "source": [
    "**d)** For the given input strings, remove everything from the first occurrence of `i` till end of the string."
   ]
  },
  {
   "cell_type": "code",
   "execution_count": 5,
   "id": "pursuant-april",
   "metadata": {},
   "outputs": [],
   "source": [
    "s1 = 'remove the special meaning of such constructs'\n",
    "s2 = 'characters while constructing'\n",
    "\n",
    "pat = re.compile(\"i.*$\")        ##### add your solution here\n",
    "\n",
    "assert pat.sub('', s1) == 'remove the spec'\n",
    "\n",
    "assert pat.sub('', s2) == 'characters wh'"
   ]
  },
  {
   "cell_type": "markdown",
   "id": "preliminary-disease",
   "metadata": {},
   "source": [
    "**e)** For the given strings, construct a RE to get output as shown."
   ]
  },
  {
   "cell_type": "code",
   "execution_count": 6,
   "id": "manual-florist",
   "metadata": {},
   "outputs": [],
   "source": [
    "str1 = 'a+b(addition)'\n",
    "str2 = 'a/b(division) + c%d(#modulo)'\n",
    "str3 = 'Hi there(greeting). Nice day(a(b)'\n",
    "\n",
    "remove_parentheses = re.compile(\"\\([^)]*\\)\")     ##### add your solution here\n",
    "\n",
    "assert remove_parentheses.sub('', str1) == 'a+b'\n",
    "assert remove_parentheses.sub('', str2) == 'a/b + c%d'\n",
    "assert remove_parentheses.sub('', str3) == 'Hi there. Nice day'"
   ]
  },
  {
   "cell_type": "markdown",
   "id": "designing-chart",
   "metadata": {},
   "source": [
    "**f)** Correct the given RE to get the expected output."
   ]
  },
  {
   "cell_type": "code",
   "execution_count": null,
   "id": "provincial-volunteer",
   "metadata": {},
   "outputs": [],
   "source": [
    "words = 'plink incoming tint winter in caution sentient'\n",
    "change = re.compile(r'int|in|ion|ing|inco|inter|ink')\n",
    "\n",
    "# wrong output\n",
    "assert change.sub('X', words) == 'plXk XcomXg tX wXer X cautX sentient'\n",
    "\n",
    "# expected output\n",
    "change = re.compile()       ##### add your solution here\n",
    "assert change.sub('X', words) == 'plX XmX tX wX X cautX sentient'"
   ]
  },
  {
   "cell_type": "markdown",
   "id": "inappropriate-halifax",
   "metadata": {},
   "source": [
    "**g)** For the given greedy quantifiers, what would be the equivalent form using `{m,n}` representation?\n",
    "\n",
    "* `?` is same as\n",
    "* `*` is same as\n",
    "* `+` is same as\n",
    "\n",
    "**h)** `(a*|b*)` is same as `(a|b)*` — True or False?\n",
    "\n",
    "\n",
    "**i)** For the given input strings, remove everything from the first occurrence of `test` (irrespective of case) till end of the string, provided `test` isn't at the end of the string."
   ]
  },
  {
   "cell_type": "code",
   "execution_count": null,
   "id": "jewish-rebel",
   "metadata": {},
   "outputs": [],
   "source": [
    "s1 = 'this is a Test'\n",
    "s2 = 'always test your RE for corner cases'\n",
    "s3 = 'a TEST of skill tests?'\n",
    "\n",
    "pat = re.compile()      ##### add your solution here\n",
    "\n",
    "assert pat.sub('', s1) == 'this is a Test'\n",
    "assert pat.sub('', s2) == 'always '\n",
    "assert pat.sub('', s3) == 'a '"
   ]
  },
  {
   "cell_type": "markdown",
   "id": "august-roman",
   "metadata": {},
   "source": [
    "**j)** For the input list `words`, filter all elements starting with `s` and containing `e` and `t` in any order."
   ]
  },
  {
   "cell_type": "code",
   "execution_count": null,
   "id": "violent-airline",
   "metadata": {},
   "outputs": [],
   "source": [
    "words = ['sequoia', 'subtle', 'exhibit', 'asset', 'sets', 'tests', 'site']\n",
    "\n",
    "##### add your solution here\n",
    "assert ___ == ['subtle', 'sets', 'site']"
   ]
  },
  {
   "cell_type": "markdown",
   "id": "sufficient-chase",
   "metadata": {},
   "source": [
    "**k)** For the input list `words`, remove all elements having less than `6` characters."
   ]
  },
  {
   "cell_type": "code",
   "execution_count": null,
   "id": "brown-chapel",
   "metadata": {},
   "outputs": [],
   "source": [
    "words = ['sequoia', 'subtle', 'exhibit', 'asset', 'sets', 'tests', 'site']\n",
    "\n",
    "##### add your solution here\n",
    "assert ___ == ['sequoia', 'subtle', 'exhibit']"
   ]
  },
  {
   "cell_type": "markdown",
   "id": "historical-citation",
   "metadata": {},
   "source": [
    "**l)** For the input list `words`, filter all elements starting with `s` or `t` and having a maximum of `6` characters."
   ]
  },
  {
   "cell_type": "code",
   "execution_count": null,
   "id": "adapted-straight",
   "metadata": {},
   "outputs": [],
   "source": [
    "words = ['sequoia', 'subtle', 'exhibit', 'asset', 'sets', 'tests', 'site']\n",
    "\n",
    "##### add your solution here\n",
    "assert ___ == ['subtle', 'sets', 'tests', 'site']"
   ]
  },
  {
   "cell_type": "markdown",
   "id": "indirect-facial",
   "metadata": {},
   "source": [
    "**m)** Can you reason out why this code results in the output shown? The aim was to remove all `<characters>` patterns but not the `<>` ones. The expected result was `'a 1<> b 2<> c'`."
   ]
  },
  {
   "cell_type": "code",
   "execution_count": null,
   "id": "broadband-factor",
   "metadata": {},
   "outputs": [],
   "source": [
    "ip = 'a<apple> 1<> b<bye> 2<> c<cat>'\n",
    "\n",
    "assert re.sub(r'<.+?>', '', ip) == 'a 1 2'"
   ]
  },
  {
   "cell_type": "markdown",
   "id": "dental-uganda",
   "metadata": {},
   "source": [
    "**n)** Use `re.split` to get the output as shown below for given input strings."
   ]
  },
  {
   "cell_type": "code",
   "execution_count": null,
   "id": "incorporate-workstation",
   "metadata": {},
   "outputs": [],
   "source": [
    "s1 = 'go there  //   \"this // that\"'\n",
    "s2 = 'a//b // c//d e//f // 4//5'\n",
    "s3 = '42// hi//bye//see // carefully'\n",
    "\n",
    "pat = re.compile()     ##### add your solution here\n",
    "\n",
    "assert pat.split() == ['go there', '\"this // that\"']\n",
    "assert pat.split() == ['a//b', 'c//d e//f // 4//5']\n",
    "assert pat.split() == ['42// hi//bye//see', 'carefully']"
   ]
  },
  {
   "cell_type": "markdown",
   "id": "going-spanking",
   "metadata": {},
   "source": [
    "<br>\n",
    "\n",
    "# 6. Working with matched portions\n",
    "\n",
    "**a)** For the given strings, extract the matching portion from first `is` to last `t`."
   ]
  },
  {
   "cell_type": "code",
   "execution_count": null,
   "id": "central-employer",
   "metadata": {},
   "outputs": [],
   "source": [
    "str1 = 'This the biggest fruit you have seen?'\n",
    "str2 = 'Your mission is to read and practice consistently'\n",
    "\n",
    "pat = re.compile()     ##### add your solution here\n",
    "\n",
    "##### add your solution here for str1\n",
    "assert ___ == 'is the biggest fruit'\n",
    "##### add your solution here for str2\n",
    "assert ___ == 'ission is to read and practice consistent'"
   ]
  },
  {
   "cell_type": "markdown",
   "id": "blocked-luther",
   "metadata": {},
   "source": [
    "**b)** Find the starting index of first occurrence of `is` or `the` or `was` or `to` for the given input strings."
   ]
  },
  {
   "cell_type": "code",
   "execution_count": null,
   "id": "dietary-purse",
   "metadata": {},
   "outputs": [],
   "source": [
    "s1 = 'match after the last newline character'\n",
    "s2 = 'and then you want to test'\n",
    "s3 = 'this is good bye then'\n",
    "s4 = 'who was there to see?'\n",
    "\n",
    "pat = re.compile()      ##### add your solution here\n",
    "\n",
    "##### add your solution here for s1\n",
    "assert ___ == 12\n",
    "##### add your solution here for s2\n",
    "assert ___ == 4\n",
    "##### add your solution here for s3\n",
    "assert ___ == 2\n",
    "##### add your solution here for s4\n",
    "assert ___ == 4"
   ]
  },
  {
   "cell_type": "markdown",
   "id": "subject-estonia",
   "metadata": {},
   "source": [
    "**c)** Find the starting index of last occurrence of `is` or `the` or `was` or `to` for the given input strings."
   ]
  },
  {
   "cell_type": "code",
   "execution_count": null,
   "id": "virgin-prize",
   "metadata": {},
   "outputs": [],
   "source": [
    "s1 = 'match after the last newline character'\n",
    "s2 = 'and then you want to test'\n",
    "s3 = 'this is good bye then'\n",
    "s4 = 'who was there to see?'\n",
    "\n",
    "pat = re.compile()      ##### add your solution here\n",
    "\n",
    "##### add your solution here for s1\n",
    "assert ___ == 12\n",
    "##### add your solution here for s2\n",
    "assert ___ == 18\n",
    "##### add your solution here for s3\n",
    "assert ___ == 17\n",
    "##### add your solution here for s4\n",
    "assert ___ == 14"
   ]
  },
  {
   "cell_type": "markdown",
   "id": "defensive-lexington",
   "metadata": {},
   "source": [
    "**d)** The given input string contains `:` exactly once. Extract all characters after the `:` as output."
   ]
  },
  {
   "cell_type": "code",
   "execution_count": null,
   "id": "extra-handling",
   "metadata": {},
   "outputs": [],
   "source": [
    "ip = 'fruits:apple, mango, guava, blueberry'\n",
    "\n",
    "##### add your solution here\n",
    "assert ___ == 'apple, mango, guava, blueberry'"
   ]
  },
  {
   "cell_type": "markdown",
   "id": "threaded-instrumentation",
   "metadata": {},
   "source": [
    "**e)** The given input strings contains some text followed by `-` followed by a number. Replace that number with its `log` value using `math.log()`."
   ]
  },
  {
   "cell_type": "code",
   "execution_count": null,
   "id": "adjustable-breath",
   "metadata": {},
   "outputs": [],
   "source": [
    "s1 = 'first-3.14'\n",
    "s2 = 'next-123'\n",
    "\n",
    "pat = re.compile()      ##### add your solution here\n",
    "\n",
    "import math\n",
    "assert pat.sub() == 'first-1.144222799920162'\n",
    "assert pat.sub() == 'next-4.812184355372417'"
   ]
  },
  {
   "cell_type": "markdown",
   "id": "olive-circular",
   "metadata": {},
   "source": [
    "**f)** Replace all occurrences of `par` with `spar`, `spare` with `extra` and `park` with `garden` for the given input strings."
   ]
  },
  {
   "cell_type": "code",
   "execution_count": null,
   "id": "thorough-filling",
   "metadata": {},
   "outputs": [],
   "source": [
    "str1 = 'apartment has a park'\n",
    "str2 = 'do you have a spare cable'\n",
    "str3 = 'write a parser'\n",
    "\n",
    "##### add your solution here\n",
    "\n",
    "assert pat.sub() == 'aspartment has a garden'\n",
    "assert pat.sub() == 'do you have a extra cable'\n",
    "assert pat.sub() == 'write a sparser'"
   ]
  },
  {
   "cell_type": "markdown",
   "id": "outside-basement",
   "metadata": {},
   "source": [
    "**g)** Extract all words between `(` and `)` from the given input string as a list. Assume that the input will not contain any broken parentheses."
   ]
  },
  {
   "cell_type": "code",
   "execution_count": null,
   "id": "express-childhood",
   "metadata": {},
   "outputs": [],
   "source": [
    "ip = 'another (way) to reuse (portion) matched (by) capture groups'\n",
    "\n",
    "assert re.findall() == ['way', 'portion', 'by']"
   ]
  },
  {
   "cell_type": "markdown",
   "id": "closed-blanket",
   "metadata": {},
   "source": [
    "**h)** Extract all occurrences of `<` up to next occurrence of `>`, provided there is at least one character in between `<` and `>`."
   ]
  },
  {
   "cell_type": "code",
   "execution_count": null,
   "id": "headed-lincoln",
   "metadata": {},
   "outputs": [],
   "source": [
    "ip = 'a<apple> 1<> b<bye> 2<> c<cat>'\n",
    "\n",
    "assert re.findall() == ['<apple>', '<> b<bye>', '<> c<cat>']"
   ]
  },
  {
   "cell_type": "markdown",
   "id": "consistent-dance",
   "metadata": {},
   "source": [
    "**i)** Use `re.findall` to get the output as shown below for the given input strings. Note the characters used in the input strings carefully."
   ]
  },
  {
   "cell_type": "code",
   "execution_count": null,
   "id": "magnetic-village",
   "metadata": {},
   "outputs": [],
   "source": [
    "row1 = '-2,5 4,+3 +42,-53 4356246,-357532354 '\n",
    "row2 = '1.32,-3.14 634,5.63 63.3e3,9907809345343.235 '\n",
    "\n",
    "pat = re.compile()       ##### add your solution here\n",
    "\n",
    "assert pat.findall(row1) == [('-2', '5'), ('4', '+3'), ('+42', '-53'), ('4356246', '-357532354')]\n",
    "pat.findall(row2) == [('1.32', '-3.14'), ('634', '5.63'), ('63.3e3', '9907809345343.235')]"
   ]
  },
  {
   "cell_type": "markdown",
   "id": "continental-straight",
   "metadata": {},
   "source": [
    "**j)** This is an extension to previous question.\n",
    "\n",
    "* For `row1`, find the sum of integers of each tuple element. For example, sum of `-2` and `5` is `3`.\n",
    "* For `row2`, find the sum of floating-point numbers of each tuple element. For example, sum of `1.32` and `-3.14` is `-1.82`."
   ]
  },
  {
   "cell_type": "code",
   "execution_count": null,
   "id": "bored-diesel",
   "metadata": {},
   "outputs": [],
   "source": [
    "row1 = '-2,5 4,+3 +42,-53 4356246,-357532354 '\n",
    "row2 = '1.32,-3.14 634,5.63 63.3e3,9907809345343.235 '\n",
    "\n",
    "# should be same as previous question\n",
    "pat = re.compile()       ##### add your solution here\n",
    "\n",
    "##### add your solution here for row1\n",
    "assert ___ == [3, 7, -11, -353176108]\n",
    "\n",
    "##### add your solution here for row2\n",
    "assert ___ == [-1.82, 639.63, 9907809408643.234]"
   ]
  },
  {
   "cell_type": "markdown",
   "id": "emerging-steel",
   "metadata": {},
   "source": [
    "**k)** Use `re.split` to get the output as shown below."
   ]
  },
  {
   "cell_type": "code",
   "execution_count": null,
   "id": "sitting-processing",
   "metadata": {},
   "outputs": [],
   "source": [
    "ip = '42:no-output;1000:car-truck;SQEX49801'\n",
    "\n",
    "assert re.split() == ['42', 'output', '1000', 'truck', 'SQEX49801']"
   ]
  },
  {
   "cell_type": "markdown",
   "id": "southern-candy",
   "metadata": {},
   "source": [
    "**l)** For the given list of strings, change the elements into a tuple of original element and number of times `t` occurs in that element."
   ]
  },
  {
   "cell_type": "code",
   "execution_count": null,
   "id": "frozen-joint",
   "metadata": {},
   "outputs": [],
   "source": [
    "words = ['sequoia', 'attest', 'tattletale', 'asset']\n",
    "\n",
    "##### add your solution here\n",
    "assert ___ == [('sequoia', 0), ('attest', 3), ('tattletale', 4), ('asset', 1)]"
   ]
  },
  {
   "cell_type": "markdown",
   "id": "greenhouse-hazard",
   "metadata": {},
   "source": [
    "**m)** The given input string has fields separated by `:`. Each field contains four uppercase alphabets followed optionally by two digits. Ignore the last field, which is empty. See [docs.python: Match.groups](https://docs.python.org/3/library/re.html#re.Match.groups) and use `re.finditer` to get the output as shown below. If the optional digits aren't present, show `'NA'` instead of `None`."
   ]
  },
  {
   "cell_type": "code",
   "execution_count": null,
   "id": "referenced-chicago",
   "metadata": {},
   "outputs": [],
   "source": [
    "ip = 'TWXA42:JWPA:NTED01:'\n",
    "\n",
    "##### add your solution here\n",
    "assert ___ == [('TWXA', '42'), ('JWPA', 'NA'), ('NTED', '01')]"
   ]
  },
  {
   "cell_type": "markdown",
   "id": "rolled-redhead",
   "metadata": {},
   "source": [
    ">![info](../images/info.svg) Note that this is different from `re.findall` which will just give empty string instead of `None` when a capture group doesn't participate.\n",
    "\n",
    "**n)** Convert the comma separated strings to corresponding `dict` objects as shown below."
   ]
  },
  {
   "cell_type": "code",
   "execution_count": null,
   "id": "quantitative-practitioner",
   "metadata": {},
   "outputs": [],
   "source": [
    "row1 = 'name:rohan,maths:75,phy:89,'\n",
    "row2 = 'name:rose,maths:88,phy:92,'\n",
    "\n",
    "pat = re.compile()      ##### add your solution here\n",
    "\n",
    "##### add your solution here for row1\n",
    "assert ___ == {'name': 'rohan', 'maths': '75', 'phy': '89'}\n",
    "##### add your solution here for row2\n",
    "assert ___ == {'name': 'rose', 'maths': '88', 'phy': '92'}"
   ]
  },
  {
   "cell_type": "markdown",
   "id": "surface-springer",
   "metadata": {},
   "source": [
    "<br>\n",
    "\n",
    "# 7. Character class\n",
    "\n",
    "**a)** For the list `items`, filter all elements starting with `hand` and ending with `s` or `y` or `le`."
   ]
  },
  {
   "cell_type": "code",
   "execution_count": 7,
   "id": "outside-sodium",
   "metadata": {},
   "outputs": [],
   "source": [
    "items = ['-handy', 'hand', 'handy', 'unhand', 'hands', 'handle']\n",
    "\n",
    "##### add your solution here\n",
    "assert [w for w in items if re.match(\"^hand.*([sy]|le)$\", w)] == ['handy', 'hands', 'handle']"
   ]
  },
  {
   "cell_type": "markdown",
   "id": "medieval-idaho",
   "metadata": {},
   "source": [
    "**b)** Replace all whole words `reed` or `read` or `red` with `X`."
   ]
  },
  {
   "cell_type": "code",
   "execution_count": 8,
   "id": "classified-gilbert",
   "metadata": {},
   "outputs": [],
   "source": [
    "ip = 'redo read credible :read: rod reed'\n",
    "\n",
    "##### add your solution here\n",
    "assert re.sub(\"\\\\br[ea]+d\\\\b\", \"X\", ip) == 'redo X credible :X: rod X'"
   ]
  },
  {
   "cell_type": "markdown",
   "id": "resident-mercy",
   "metadata": {},
   "source": [
    "**c)** For the list `words`, filter all elements containing `e` or `i` followed by `l` or `n`. Note that the order mentioned should be followed."
   ]
  },
  {
   "cell_type": "code",
   "execution_count": 9,
   "id": "clear-brooklyn",
   "metadata": {},
   "outputs": [],
   "source": [
    "words = ['surrender', 'unicorn', 'newer', 'door', 'empty', 'eel', 'pest']\n",
    "\n",
    "##### add your solution here\n",
    "assert [w for w in words if re.match(\".*[ei].*[ln]\", w)] == ['surrender', 'unicorn', 'eel']"
   ]
  },
  {
   "cell_type": "markdown",
   "id": "stainless-delivery",
   "metadata": {},
   "source": [
    "**d)** For the list `words`, filter all elements containing `e` or `i` and `l` or `n` in any order."
   ]
  },
  {
   "cell_type": "code",
   "execution_count": 10,
   "id": "decent-stick",
   "metadata": {},
   "outputs": [],
   "source": [
    "words = ['surrender', 'unicorn', 'newer', 'door', 'empty', 'eel', 'pest']\n",
    "\n",
    "##### add your solution here\n",
    "assert [w for w in words if re.search(\"([ie].*[ln])|([ln].*[ei])\", w)] == ['surrender', 'unicorn', 'newer', 'eel']"
   ]
  },
  {
   "cell_type": "markdown",
   "id": "brown-startup",
   "metadata": {},
   "source": [
    "**e)** Extract all hex character sequences, with `0x` optional prefix. Match the characters case insensitively, and the sequences shouldn't be surrounded by other word characters."
   ]
  },
  {
   "cell_type": "code",
   "execution_count": 11,
   "id": "intimate-indonesia",
   "metadata": {},
   "outputs": [],
   "source": [
    "str1 = '128A foo 0xfe32 34 0xbar'\n",
    "str2 = '0XDEADBEEF place 0x0ff1ce bad'\n",
    "\n",
    "r\"\\b(0x)?[a-f0-9]+\\b\"\n",
    "hex_seq = re.compile(r\"(\\b(0x)?[a-f0-9]+\\b)\", flags=re.I)        ##### add your solution here\n",
    "\n",
    "##### add your solution here for str1\n",
    "assert [w[0] for w in hex_seq.findall(str1)] == ['128A', '0xfe32', '34']\n",
    "\n",
    "##### add your solution here for str2\n",
    "assert [w[0] for w in hex_seq.findall(str2)] == ['0XDEADBEEF', '0x0ff1ce', 'bad']"
   ]
  },
  {
   "cell_type": "markdown",
   "id": "adult-snowboard",
   "metadata": {},
   "source": [
    "**f)** Delete from `(` to the next occurrence of `)` unless they contain parentheses characters in between."
   ]
  },
  {
   "cell_type": "code",
   "execution_count": null,
   "id": "driving-bennett",
   "metadata": {},
   "outputs": [],
   "source": [
    "str1 = 'def factorial()'\n",
    "str2 = 'a/b(division) + c%d(#modulo) - (e+(j/k-3)*4)'\n",
    "str3 = 'Hi there(greeting). Nice day(a(b)'\n",
    "\n",
    "remove_parentheses = re.compile()      ##### add your solution here\n",
    "\n",
    "assert ___ == remove_parentheses.sub('', str1)\n",
    "'def factorial'\n",
    "assert ___ == remove_parentheses.sub('', str2)\n",
    "'a/b + c%d - (e+*4)'\n",
    "assert ___ == remove_parentheses.sub('', str3)\n",
    "'Hi there. Nice day(a'"
   ]
  },
  {
   "cell_type": "markdown",
   "id": "addressed-television",
   "metadata": {},
   "source": [
    "**g)** For the list `words`, filter all elements not starting with `e` or `p` or `u`."
   ]
  },
  {
   "cell_type": "code",
   "execution_count": null,
   "id": "fifteen-dream",
   "metadata": {},
   "outputs": [],
   "source": [
    "words = ['surrender', 'unicorn', 'newer', 'door', 'empty', 'eel', 'pest']\n",
    "\n",
    "##### add your solution here\n",
    "assert ___ == ['surrender', 'newer', 'door']"
   ]
  },
  {
   "cell_type": "markdown",
   "id": "biological-contamination",
   "metadata": {},
   "source": [
    "**h)** For the list `words`, filter all elements not containing `u` or `w` or `ee` or `-`."
   ]
  },
  {
   "cell_type": "code",
   "execution_count": null,
   "id": "dense-rehabilitation",
   "metadata": {},
   "outputs": [],
   "source": [
    "words = ['p-t', 'you', 'tea', 'heel', 'owe', 'new', 'reed', 'ear']\n",
    "\n",
    "##### add your solution here\n",
    "assert ___ == ['tea', 'ear']"
   ]
  },
  {
   "cell_type": "markdown",
   "id": "binding-craft",
   "metadata": {},
   "source": [
    "**i)** The given input strings contain fields separated by `,` and fields can be empty too. Replace last three fields with `WHTSZ323`."
   ]
  },
  {
   "cell_type": "code",
   "execution_count": null,
   "id": "binding-fraction",
   "metadata": {},
   "outputs": [],
   "source": [
    "row1 = '(2),kite,12,,D,C,,'\n",
    "row2 = 'hi,bye,sun,moon'\n",
    "\n",
    "pat = re.compile()      ##### add your solution here\n",
    "\n",
    "assert pat.sub() == '(2),kite,12,,D,WHTSZ323'\n",
    "assert pat.sub() == 'hi,WHTSZ323'"
   ]
  },
  {
   "cell_type": "markdown",
   "id": "allied-december",
   "metadata": {},
   "source": [
    "**j)** Split the given strings based on consecutive sequence of digit or whitespace characters."
   ]
  },
  {
   "cell_type": "code",
   "execution_count": null,
   "id": "personalized-catholic",
   "metadata": {},
   "outputs": [],
   "source": [
    "str1 = 'lion \\t Ink32onion Nice'\n",
    "str2 = '**1\\f2\\n3star\\t7 77\\r**'\n",
    "\n",
    "pat = re.compile()       ##### add your solution here\n",
    "\n",
    "assert pat.split(str1) == ['lion', 'Ink', 'onion', 'Nice']\n",
    "assert pat.split(str2) == ['**', 'star', '**']"
   ]
  },
  {
   "cell_type": "markdown",
   "id": "concrete-native",
   "metadata": {},
   "source": [
    "**k)** Delete all occurrences of the sequence `<characters>` where `characters` is one or more non `>` characters and cannot be empty."
   ]
  },
  {
   "cell_type": "code",
   "execution_count": null,
   "id": "rocky-suicide",
   "metadata": {},
   "outputs": [],
   "source": [
    "ip = 'a<apple> 1<> b<bye> 2<> c<cat>'\n",
    "\n",
    "##### add your solution here\n",
    "assert ___ == 'a 1<> b 2<> c'"
   ]
  },
  {
   "cell_type": "markdown",
   "id": "printable-mistress",
   "metadata": {},
   "source": [
    "**l)** `\\b[a-z](on|no)[a-z]\\b` is same as `\\b[a-z][on]{2}[a-z]\\b`. True or False? Sample input lines shown below might help to understand the differences, if any."
   ]
  },
  {
   "cell_type": "code",
   "execution_count": null,
   "id": "interesting-decline",
   "metadata": {},
   "outputs": [],
   "source": [
    "print('known\\nmood\\nknow\\npony\\ninns')\n",
    "known\n",
    "mood\n",
    "know\n",
    "pony\n",
    "inns"
   ]
  },
  {
   "cell_type": "markdown",
   "id": "invalid-observation",
   "metadata": {},
   "source": [
    "**m)** For the given list, filter all elements containing any number sequence greater than `624`."
   ]
  },
  {
   "cell_type": "code",
   "execution_count": null,
   "id": "worst-privacy",
   "metadata": {},
   "outputs": [],
   "source": [
    "items = ['hi0000432abcd', 'car00625', '42_624 0512', '3.14 96 2 foo1234baz']\n",
    "\n",
    "##### add your solution here\n",
    "assert ___ == ['car00625', '3.14 96 2 foo1234baz']"
   ]
  },
  {
   "cell_type": "markdown",
   "id": "present-submission",
   "metadata": {},
   "source": [
    "**n)** Count the maximum depth of nested braces for the given strings. Unbalanced or wrongly ordered braces should return `-1`. Note that this will require a mix of regular expressions and Python code."
   ]
  },
  {
   "cell_type": "code",
   "execution_count": null,
   "id": "virgin-consumption",
   "metadata": {},
   "outputs": [],
   "source": [
    "def max_nested_braces(ip):\n",
    "##### add your solution here\n",
    "\n",
    "assert max_nested_braces('a*b') == 0\n",
    "assert max_nested_braces('}a+b{') == -1\n",
    "assert max_nested_braces('a*b+{}') == 1\n",
    "assert max_nested_braces('{{a+2}*{b+c}+e}') == 2\n",
    "assert max_nested_braces('{{a+2}*{b+{c*d}}+e}') == 3\n",
    "assert max_nested_braces('{{a+2}*{\\n{b+{c*d}}+e*d}}') == 4\n",
    "assert max_nested_braces('a*{b+c*{e*3.14}}}') == -1"
   ]
  },
  {
   "cell_type": "markdown",
   "id": "marked-volleyball",
   "metadata": {},
   "source": [
    "**o)** By default, `str.split` method will split on whitespace and remove empty strings from the result. Which `re` module function would you use to replicate this functionality?"
   ]
  },
  {
   "cell_type": "code",
   "execution_count": null,
   "id": "convinced-evanescence",
   "metadata": {},
   "outputs": [],
   "source": [
    "ip = ' \\t\\r  so  pole\\t\\t\\t\\n\\nlit in to \\r\\n\\v\\f  '\n",
    "\n",
    "assert ip.split() == ['so', 'pole', 'lit', 'in', 'to']\n",
    "##### add your solution here\n",
    "assert ___ == ['so', 'pole', 'lit', 'in', 'to']"
   ]
  },
  {
   "cell_type": "markdown",
   "id": "twelve-contemporary",
   "metadata": {},
   "source": [
    "**p)** Convert the given input string to two different lists as shown below."
   ]
  },
  {
   "cell_type": "code",
   "execution_count": null,
   "id": "polish-bradford",
   "metadata": {},
   "outputs": [],
   "source": [
    "ip = 'price_42 roast^\\t\\n^-ice==cat\\neast'\n",
    "\n",
    "##### add your solution here\n",
    "assert ___ == ['price_42', 'roast', 'ice', 'cat', 'east']\n",
    "\n",
    "##### add your solution here\n",
    "assert ___ == ['price_42', ' ', 'roast', '^\\t\\n^-', 'ice', '==', 'cat', '\\n', 'east']"
   ]
  },
  {
   "cell_type": "markdown",
   "id": "valued-princess",
   "metadata": {},
   "source": [
    "**q)** Filter all elements whose first non-whitespace character is not a `#` character. Any element made up of only whitespace characters should be ignored as well."
   ]
  },
  {
   "cell_type": "code",
   "execution_count": null,
   "id": "partial-montreal",
   "metadata": {},
   "outputs": [],
   "source": [
    "items = ['    #comment', '\\t\\napple #42', '#oops', 'sure', 'no#1', '\\t\\r\\f']\n",
    "\n",
    "##### add your solution here\n",
    "assert ___ == ['\\t\\napple #42', 'sure', 'no#1']"
   ]
  },
  {
   "cell_type": "markdown",
   "id": "after-wrong",
   "metadata": {},
   "source": [
    "<br>\n",
    "\n",
    "# 8. Groupings and backreferences\n",
    "\n",
    "**a)** Replace the space character that occurs after a word ending with `a` or `r` with a newline character."
   ]
  },
  {
   "cell_type": "code",
   "execution_count": null,
   "id": "regular-studio",
   "metadata": {},
   "outputs": [],
   "source": [
    "ip = 'area not a _a2_ roar took 22'\n",
    "\n",
    "assert re.sub() == \"\"\"area\n",
    "not a\n",
    "_a2_ roar\n",
    "took 22\"\"\""
   ]
  },
  {
   "cell_type": "markdown",
   "id": "rational-doctrine",
   "metadata": {},
   "source": [
    "**b)** Add `[]` around words starting with `s` and containing `e` and `t` in any order."
   ]
  },
  {
   "cell_type": "code",
   "execution_count": null,
   "id": "turned-light",
   "metadata": {},
   "outputs": [],
   "source": [
    "ip = 'sequoia subtle exhibit asset sets tests site'\n",
    "\n",
    "##### add your solution here\n",
    "assert ___ == 'sequoia [subtle] exhibit asset [sets] tests [site]'"
   ]
  },
  {
   "cell_type": "markdown",
   "id": "industrial-cargo",
   "metadata": {},
   "source": [
    "**c)** Replace all whole words with `X` that start and end with the same word character. Single character word should get replaced with `X` too, as it satisfies the stated condition."
   ]
  },
  {
   "cell_type": "code",
   "execution_count": null,
   "id": "optical-beijing",
   "metadata": {},
   "outputs": [],
   "source": [
    "ip = 'oreo not a _a2_ roar took 22'\n",
    "\n",
    "##### add your solution here\n",
    "assert ___ == 'X not X X X took X'"
   ]
  },
  {
   "cell_type": "markdown",
   "id": "silent-danger",
   "metadata": {},
   "source": [
    "**d)** Convert the given **markdown** headers to corresponding **anchor** tag. Consider the input to start with one or more `#` characters followed by space and word characters. The `name` attribute is constructed by converting the header to lowercase and replacing spaces with hyphens. Can you do it without using a capture group?"
   ]
  },
  {
   "cell_type": "code",
   "execution_count": null,
   "id": "extraordinary-career",
   "metadata": {},
   "outputs": [],
   "source": [
    "header1 = '# Regular Expressions'\n",
    "header2 = '## Compiling regular expressions'\n",
    "\n",
    "##### add your solution here for header1\n",
    "assert ___ == '# <a name=\"regular-expressions\"></a>Regular Expressions'\n",
    "##### add your solution here for header2\n",
    "assert ___ == '## <a name=\"compiling-regular-expressions\"></a>Compiling regular expressions'"
   ]
  },
  {
   "cell_type": "markdown",
   "id": "assigned-steel",
   "metadata": {},
   "source": [
    "**e)** Convert the given **markdown** anchors to corresponding **hyperlinks**."
   ]
  },
  {
   "cell_type": "code",
   "execution_count": null,
   "id": "subtle-nepal",
   "metadata": {},
   "outputs": [],
   "source": [
    "anchor1 = '# <a name=\"regular-expressions\"></a>Regular Expressions'\n",
    "anchor2 = '## <a name=\"subexpression-calls\"></a>Subexpression calls'\n",
    "\n",
    "##### add your solution here for anchor1\n",
    "assert ___ == '[Regular Expressions](#regular-expressions)'\n",
    "##### add your solution here for anchor2\n",
    "assert ___ == '[Subexpression calls](#subexpression-calls)'"
   ]
  },
  {
   "cell_type": "markdown",
   "id": "rocky-cement",
   "metadata": {},
   "source": [
    "**f)** Count the number of whole words that have at least two occurrences of consecutive repeated alphabets. For example, words like `stillness` and `Committee` should be counted but not words like `root` or `readable` or `rotational`."
   ]
  },
  {
   "cell_type": "code",
   "execution_count": null,
   "id": "narrow-repeat",
   "metadata": {},
   "outputs": [],
   "source": [
    "ip = '''oppressed abandon accommodation bloodless\n",
    "carelessness committed apparition innkeeper\n",
    "occasionally afforded embarrassment foolishness\n",
    "depended successfully succeeded\n",
    "possession cleanliness suppress'''\n",
    "\n",
    "##### add your solution here\n",
    "assert ___ == 13"
   ]
  },
  {
   "cell_type": "markdown",
   "id": "magnetic-climb",
   "metadata": {},
   "source": [
    "**g)** For the given input string, replace all occurrences of digit sequences with only the unique non-repeating sequence. For example, `232323` should be changed to `23` and `897897` should be changed to `897`. If there no repeats (for example `1234`) or if the repeats end prematurely (for example `12121`), it should not be changed."
   ]
  },
  {
   "cell_type": "code",
   "execution_count": null,
   "id": "wanted-graph",
   "metadata": {},
   "outputs": [],
   "source": [
    "ip = '1234 2323 453545354535 9339 11 60260260'\n",
    "\n",
    "##### add your solution here\n",
    "assert ___ == '1234 23 4535 9339 1 60260260'"
   ]
  },
  {
   "cell_type": "markdown",
   "id": "understood-hollow",
   "metadata": {},
   "source": [
    "**h)** Replace sequences made up of words separated by `:` or `.` by the first word of the sequence. Such sequences will end when `:` or `.` is not followed by a word character."
   ]
  },
  {
   "cell_type": "code",
   "execution_count": null,
   "id": "coupled-supply",
   "metadata": {},
   "outputs": [],
   "source": [
    "ip = 'wow:Good:2_two:five: hi-2 bye kite.777.water.'\n",
    "\n",
    "##### add your solution here\n",
    "assert ___ == 'wow hi-2 bye kite'"
   ]
  },
  {
   "cell_type": "markdown",
   "id": "technological-implement",
   "metadata": {},
   "source": [
    "**i)** Replace sequences made up of words separated by `:` or `.` by the last word of the sequence. Such sequences will end when `:` or `.` is not followed by a word character."
   ]
  },
  {
   "cell_type": "code",
   "execution_count": null,
   "id": "threaded-finance",
   "metadata": {},
   "outputs": [],
   "source": [
    "ip = 'wow:Good:2_two:five: hi-2 bye kite.777.water.'\n",
    "\n",
    "##### add your solution here\n",
    "assert ___ == 'five hi-2 bye water'"
   ]
  },
  {
   "cell_type": "markdown",
   "id": "neither-figure",
   "metadata": {},
   "source": [
    "**j)** Split the given input string on one or more repeated sequence of `cat`."
   ]
  },
  {
   "cell_type": "code",
   "execution_count": null,
   "id": "adapted-aviation",
   "metadata": {},
   "outputs": [],
   "source": [
    "ip = 'firecatlioncatcatcatbearcatcatparrot'\n",
    "\n",
    "##### add your solution here\n",
    "assert ___ == ['fire', 'lion', 'bear', 'parrot']"
   ]
  },
  {
   "cell_type": "markdown",
   "id": "royal-arcade",
   "metadata": {},
   "source": [
    "**k)** For the given input string, find all occurrences of digit sequences with at least one repeating sequence. For example, `232323` and `897897`. If the repeats end prematurely, for example `12121`, it should not be matched."
   ]
  },
  {
   "cell_type": "code",
   "execution_count": null,
   "id": "downtown-hacker",
   "metadata": {},
   "outputs": [],
   "source": [
    "ip = '1234 2323 453545354535 9339 11 60260260'\n",
    "\n",
    "pat = re.compile()      ##### add your solution here\n",
    "\n",
    "# entire sequences in the output\n",
    "##### add your solution here\n",
    "assert ___ == ['2323', '453545354535', '11']\n",
    "\n",
    "# only the unique sequence in the output\n",
    "##### add your solution here\n",
    "assert ___ == ['23', '4535', '1']"
   ]
  },
  {
   "cell_type": "markdown",
   "id": "empirical-azerbaijan",
   "metadata": {},
   "source": [
    "**l)** Convert the comma separated strings to corresponding `dict` objects as shown below. The keys are `name`, `maths` and `phy` for the three fields in the input strings."
   ]
  },
  {
   "cell_type": "code",
   "execution_count": null,
   "id": "designing-burlington",
   "metadata": {},
   "outputs": [],
   "source": [
    "row1 = 'rohan,75,89'\n",
    "row2 = 'rose,88,92'\n",
    "\n",
    "pat = re.compile()      ##### add your solution here\n",
    "\n",
    "##### add your solution here for row1\n",
    "assert ___ == {'name': 'rohan', 'maths': '75', 'phy': '89'}\n",
    "##### add your solution here for row2\n",
    "assert ___ == {'name': 'rose', 'maths': '88', 'phy': '92'}"
   ]
  },
  {
   "cell_type": "markdown",
   "id": "spatial-dialogue",
   "metadata": {},
   "source": [
    "**m)** Surround all whole words with `()`. Additionally, if the whole word is `imp` or `ant`, delete them. Can you do it with single substitution?"
   ]
  },
  {
   "cell_type": "code",
   "execution_count": null,
   "id": "aquatic-privilege",
   "metadata": {},
   "outputs": [],
   "source": [
    "ip = 'tiger imp goat eagle ant important'\n",
    "\n",
    "##### add your solution here\n",
    "assert ___ == '(tiger) () (goat) (eagle) () (important)'"
   ]
  },
  {
   "cell_type": "markdown",
   "id": "excess-liverpool",
   "metadata": {},
   "source": [
    "**n)** Filter all elements that contains a sequence of lowercase alphabets followed by `-` followed by digits. They can be optionally surrounded by `{{` and `}}`. Any partial match shouldn't be part of the output."
   ]
  },
  {
   "cell_type": "code",
   "execution_count": null,
   "id": "foster-english",
   "metadata": {},
   "outputs": [],
   "source": [
    "ip = ['{{apple-150}}', '{{mango2-100}}', '{{cherry-200', 'grape-87']\n",
    "\n",
    "##### add your solution here\n",
    "assert ___ == ['{{apple-150}}', 'grape-87']"
   ]
  },
  {
   "cell_type": "markdown",
   "id": "arranged-concept",
   "metadata": {},
   "source": [
    "**o)** The given input string has sequences made up of words separated by `:` or `.` and such sequences will end when `:` or `.` is not followed by a word character. For all such sequences, display only the last word followed by `-` followed by first word."
   ]
  },
  {
   "cell_type": "code",
   "execution_count": null,
   "id": "exceptional-saudi",
   "metadata": {},
   "outputs": [],
   "source": [
    "ip = 'wow:Good:2_two:five: hi-2 bye kite.777.water.'\n",
    "\n",
    "##### add your solution here\n",
    "assert ___ == ['five-wow', 'water-kite']"
   ]
  },
  {
   "cell_type": "markdown",
   "id": "olive-midnight",
   "metadata": {},
   "source": [
    "<br>\n",
    "\n",
    "# 9. Lookarounds\n",
    "\n",
    "Starting from here, all following problems are optional!\n",
    "\n",
    "Please use lookarounds for solving the following exercises even if you can do it without lookarounds. Unless you cannot use lookarounds for cases like variable length lookbehinds.\n",
    "\n",
    "**a)** Replace all whole words with `X` unless it is preceded by `(` character."
   ]
  },
  {
   "cell_type": "code",
   "execution_count": null,
   "id": "material-pottery",
   "metadata": {},
   "outputs": [],
   "source": [
    "ip = '(apple) guava berry) apple (mango) (grape'\n",
    "\n",
    "##### add your solution here\n",
    "assert ___ == '(apple) X X) X (mango) (grape'"
   ]
  },
  {
   "cell_type": "markdown",
   "id": "criminal-italian",
   "metadata": {},
   "source": [
    "**b)** Replace all whole words with `X` unless it is followed by `)` character."
   ]
  },
  {
   "cell_type": "code",
   "execution_count": null,
   "id": "popular-transport",
   "metadata": {},
   "outputs": [],
   "source": [
    "ip = '(apple) guava berry) apple (mango) (grape'\n",
    "\n",
    "##### add your solution here\n",
    "assert ___ == '(apple) X berry) X (mango) (X'"
   ]
  },
  {
   "cell_type": "markdown",
   "id": "willing-likelihood",
   "metadata": {},
   "source": [
    "**c)** Replace all whole words with `X` unless it is preceded by `(` or followed by `)` characters."
   ]
  },
  {
   "cell_type": "code",
   "execution_count": null,
   "id": "beautiful-harvest",
   "metadata": {},
   "outputs": [],
   "source": [
    "ip = '(apple) guava berry) apple (mango) (grape'\n",
    "\n",
    "##### add your solution here\n",
    "assert ___ == '(apple) X berry) X (mango) (grape'"
   ]
  },
  {
   "cell_type": "markdown",
   "id": "brilliant-coupon",
   "metadata": {},
   "source": [
    "**d)** Extract all whole words that do not end with `e` or `n`."
   ]
  },
  {
   "cell_type": "code",
   "execution_count": null,
   "id": "coordinated-egyptian",
   "metadata": {},
   "outputs": [],
   "source": [
    "ip = 'at row on urn e note dust n'\n",
    "\n",
    "##### add your solution here\n",
    "assert ___ == ['at', 'row', 'dust']"
   ]
  },
  {
   "cell_type": "markdown",
   "id": "trying-stockholm",
   "metadata": {},
   "source": [
    "**e)** Extract all whole words that do not start with `a` or `d` or `n`."
   ]
  },
  {
   "cell_type": "code",
   "execution_count": null,
   "id": "renewable-chaos",
   "metadata": {},
   "outputs": [],
   "source": [
    "ip = 'at row on urn e note dust n'\n",
    "\n",
    "##### add your solution here\n",
    "assert ___ == ['row', 'on', 'urn', 'e']"
   ]
  },
  {
   "cell_type": "markdown",
   "id": "mineral-biodiversity",
   "metadata": {},
   "source": [
    "**f)** Extract all whole words only if they are followed by `:` or `,` or `-`."
   ]
  },
  {
   "cell_type": "code",
   "execution_count": null,
   "id": "serial-allergy",
   "metadata": {},
   "outputs": [],
   "source": [
    "ip = 'poke,on=-=so:ink.to/is(vast)ever-sit'\n",
    "\n",
    "##### add your solution here\n",
    "assert ___ == ['poke', 'so', 'ever']"
   ]
  },
  {
   "cell_type": "markdown",
   "id": "armed-negotiation",
   "metadata": {},
   "source": [
    "**g)** Extract all whole words only if they are preceded by `=` or `/` or `-`."
   ]
  },
  {
   "cell_type": "code",
   "execution_count": null,
   "id": "sixth-plaintiff",
   "metadata": {},
   "outputs": [],
   "source": [
    "ip = 'poke,on=-=so:ink.to/is(vast)ever-sit'\n",
    "\n",
    "##### add your solution here\n",
    "assert ___ == ['so', 'is', 'sit']"
   ]
  },
  {
   "cell_type": "markdown",
   "id": "separated-complement",
   "metadata": {},
   "source": [
    "**h)** Extract all whole words only if they are preceded by `=` or `:` and followed by `:` or `.`."
   ]
  },
  {
   "cell_type": "code",
   "execution_count": null,
   "id": "familiar-yahoo",
   "metadata": {},
   "outputs": [],
   "source": [
    "ip = 'poke,on=-=so:ink.to/is(vast)ever-sit'\n",
    "\n",
    "##### add your solution here\n",
    "assert ___ == ['so', 'ink']"
   ]
  },
  {
   "cell_type": "markdown",
   "id": "sexual-arrest",
   "metadata": {},
   "source": [
    "**i)** Extract all whole words only if they are preceded by `=` or `:` or `.` or `(` or `-` and not followed by `.` or `/`."
   ]
  },
  {
   "cell_type": "code",
   "execution_count": null,
   "id": "loose-performer",
   "metadata": {},
   "outputs": [],
   "source": [
    "ip = 'poke,on=-=so:ink.to/is(vast)ever-sit'\n",
    "\n",
    "##### add your solution here\n",
    "assert ___ == ['so', 'vast', 'sit']"
   ]
  },
  {
   "cell_type": "markdown",
   "id": "environmental-russell",
   "metadata": {},
   "source": [
    "**j)** Remove leading and trailing whitespaces from all the individual fields where `,` is the field separator."
   ]
  },
  {
   "cell_type": "code",
   "execution_count": null,
   "id": "amino-circumstances",
   "metadata": {},
   "outputs": [],
   "source": [
    "csv1 = ' comma  ,separated ,values \\t\\r '\n",
    "csv2 = 'good bad,nice  ice  , 42 , ,   stall   small'\n",
    "\n",
    "remove_whitespace = re.compile()     ##### add your solution here\n",
    "\n",
    "assert remove_whitespace.sub('', csv1) == 'comma,separated,values'\n",
    "assert remove_whitespace.sub('', csv2) == 'good bad,nice  ice,42,,stall   small'"
   ]
  },
  {
   "cell_type": "markdown",
   "id": "superior-hello",
   "metadata": {},
   "source": [
    "**k)** Filter all elements that satisfy all of these rules:\n",
    "\n",
    "* should have at least two alphabets\n",
    "* should have at least 3 digits\n",
    "* should have at least one special character among `%` or `*` or `#` or `$`\n",
    "* should not end with a whitespace character"
   ]
  },
  {
   "cell_type": "code",
   "execution_count": null,
   "id": "reported-rhythm",
   "metadata": {},
   "outputs": [],
   "source": [
    "pwds = ['hunter2', 'F2H3u%9', '*X3Yz3.14\\t', 'r2_d2_42', 'A $B C1234']\n",
    "\n",
    "##### add your solution here\n",
    "assert ___ == ['F2H3u%9', 'A $B C1234']"
   ]
  },
  {
   "cell_type": "markdown",
   "id": "experimental-sessions",
   "metadata": {},
   "source": [
    "**l)** For the given string, surround all whole words with `{}` except for whole words `par` and `cat` and `apple`."
   ]
  },
  {
   "cell_type": "code",
   "execution_count": null,
   "id": "fallen-replacement",
   "metadata": {},
   "outputs": [],
   "source": [
    "ip = 'part; cat {super} rest_42 par scatter apple spar'\n",
    "\n",
    "##### add your solution here\n",
    "assert ___ == '{part}; cat {{super}} {rest_42} par {scatter} apple {spar}'"
   ]
  },
  {
   "cell_type": "markdown",
   "id": "hybrid-announcement",
   "metadata": {},
   "source": [
    "**m)** Extract integer portion of floating-point numbers for the given string. A number ending with `.` and no further digits should not be considered."
   ]
  },
  {
   "cell_type": "code",
   "execution_count": null,
   "id": "dominant-madrid",
   "metadata": {},
   "outputs": [],
   "source": [
    "ip = '12 ab32.4 go 5 2. 46.42 5'\n",
    "\n",
    "##### add your solution here\n",
    "assert ___ == ['32', '46']"
   ]
  },
  {
   "cell_type": "markdown",
   "id": "provincial-intake",
   "metadata": {},
   "source": [
    "**n)** For the given input strings, extract all overlapping two character sequences."
   ]
  },
  {
   "cell_type": "code",
   "execution_count": null,
   "id": "vocational-ribbon",
   "metadata": {},
   "outputs": [],
   "source": [
    "s1 = 'apple'\n",
    "s2 = '1.2-3:4'\n",
    "\n",
    "pat = re.compile()       ##### add your solution here\n",
    "\n",
    "##### add your solution here for s1\n",
    "assert ___ == ['ap', 'pp', 'pl', 'le']\n",
    "##### add your solution here for s2\n",
    "assert ___ == ['1.', '.2', '2-', '-3', '3:', ':4']"
   ]
  },
  {
   "cell_type": "markdown",
   "id": "cutting-webcam",
   "metadata": {},
   "source": [
    "**o)** The given input strings contain fields separated by `:` character. Delete `:` and the last field if there is a digit character anywhere before the last field."
   ]
  },
  {
   "cell_type": "code",
   "execution_count": null,
   "id": "related-champion",
   "metadata": {},
   "outputs": [],
   "source": [
    "s1 = '42:cat'\n",
    "s2 = 'twelve:a2b'\n",
    "s3 = 'we:be:he:0:a:b:bother'\n",
    "\n",
    "pat = re.compile()      ##### add your solution here\n",
    "\n",
    "assert pat.sub() == '42'\n",
    "assert pat.sub() == 'twelve:a2b'\n",
    "assert pat.sub() == 'we:be:he:0:a:b'"
   ]
  },
  {
   "cell_type": "markdown",
   "id": "synthetic-polyester",
   "metadata": {},
   "source": [
    "**p)** Extract all whole words unless they are preceded by `:` or `<=>` or `----` or `#`."
   ]
  },
  {
   "cell_type": "code",
   "execution_count": null,
   "id": "compressed-director",
   "metadata": {},
   "outputs": [],
   "source": [
    "ip = '::very--at<=>row|in.a_b#b2c=>lion----east'\n",
    "\n",
    "##### add your solution here\n",
    "assert ___ == ['at', 'in', 'a_b', 'lion']"
   ]
  },
  {
   "cell_type": "markdown",
   "id": "according-render",
   "metadata": {},
   "source": [
    "**q)** Match strings if it contains `qty` followed by `price` but not if there is **whitespace** or the string `error` between them."
   ]
  },
  {
   "cell_type": "code",
   "execution_count": null,
   "id": "popular-perry",
   "metadata": {},
   "outputs": [],
   "source": [
    "str1 = '23,qty,price,42'\n",
    "str2 = 'qty price,oh'\n",
    "str3 = '3.14,qty,6,errors,9,price,3'\n",
    "str4 = '42\\nqty-6,apple-56,price-234,error'\n",
    "str5 = '4,price,3.14,qty,4'\n",
    "\n",
    "neg = re.compile()       ##### add your solution here\n",
    "\n",
    "assert bool(neg.search(str1)) == True\n",
    "assert bool(neg.search(str2)) == False\n",
    "assert bool(neg.search(str3)) == False\n",
    "assert bool(neg.search(str4)) == True\n",
    "assert bool(neg.search(str5)) == False"
   ]
  },
  {
   "cell_type": "markdown",
   "id": "technological-clearance",
   "metadata": {},
   "source": [
    "**r)** Can you reason out why the output shown is different for these two regular expressions?"
   ]
  },
  {
   "cell_type": "code",
   "execution_count": null,
   "id": "collected-salon",
   "metadata": {},
   "outputs": [],
   "source": [
    "ip = 'I have 12, he has 2!'\n",
    "\n",
    "assert re.sub(r'\\b..\\b', '{\\g<0>}', ip) == '{I }have {12}{, }{he} has{ 2}!'\n",
    "\n",
    "assert re.sub(r'(?<!\\w)..(?!\\w)', '{\\g<0>}', ip) == 'I have {12}, {he} has {2!}'"
   ]
  },
  {
   "cell_type": "markdown",
   "id": "august-stanley",
   "metadata": {},
   "source": [
    "<br>\n",
    "\n",
    "# 10. Flags\n",
    "\n",
    "**a)** Remove from first occurrence of `hat` to last occurrence of `it` for the given input strings. Match these markers case insensitively."
   ]
  },
  {
   "cell_type": "code",
   "execution_count": null,
   "id": "native-navigation",
   "metadata": {},
   "outputs": [],
   "source": [
    "s1 = 'But Cool THAT\\nsee What okay\\nwow quite'\n",
    "s2 = 'it this hat is sliced HIT.'\n",
    "\n",
    "pat = re.compile()       ##### add your solution here\n",
    "\n",
    "assert pat.sub('', s1) == 'But Cool Te'\n",
    "assert pat.sub('', s2) == 'it this .'"
   ]
  },
  {
   "cell_type": "markdown",
   "id": "literary-aspect",
   "metadata": {},
   "source": [
    "**b)** Delete from `start` if it is at the beginning of a line up to the next occurrence of the `end` at the end of a line. Match these markers case insensitively."
   ]
  },
  {
   "cell_type": "code",
   "execution_count": null,
   "id": "frank-spyware",
   "metadata": {},
   "outputs": [],
   "source": [
    "para = '''\n",
    "good start\n",
    "start working on that\n",
    "project you always wanted\n",
    "to, do not let it end\n",
    "hi there\n",
    "start and end the end\n",
    "42\n",
    "Start and try to\n",
    "finish the End\n",
    "bye'''\n",
    "\n",
    "pat = re.compile()        ##### add your solution here\n",
    "\n",
    "assert pat.sub('', para)) == \"\"\"\n",
    "good start\n",
    "\n",
    "hi there\n",
    "\n",
    "42\n",
    "\n",
    "bye\"\"\""
   ]
  },
  {
   "cell_type": "markdown",
   "id": "comic-documentation",
   "metadata": {},
   "source": [
    "**c)** For the given input strings, match all of these three patterns:\n",
    "\n",
    "* `This` case sensitively\n",
    "* `nice` and `cool` case insensitively"
   ]
  },
  {
   "cell_type": "code",
   "execution_count": null,
   "id": "sized-complement",
   "metadata": {},
   "outputs": [],
   "source": [
    "s1 = 'This is nice and Cool'\n",
    "s2 = 'Nice and cool this is'\n",
    "s3 = 'What is so nice and cool about This?'\n",
    "\n",
    "pat = re.compile()       ##### add your solution here\n",
    "\n",
    "assert bool(pat.search(s1)) == True\n",
    "assert bool(pat.search(s2)) == False\n",
    "assert bool(pat.search(s3)) == True"
   ]
  },
  {
   "cell_type": "markdown",
   "id": "dense-superior",
   "metadata": {},
   "source": [
    "**d)** For the given input strings, match if the string begins with `Th` and also contains a line that starts with `There`."
   ]
  },
  {
   "cell_type": "code",
   "execution_count": null,
   "id": "headed-sample",
   "metadata": {},
   "outputs": [],
   "source": [
    "s1 = 'There there\\nHave a cookie'\n",
    "s2 = 'This is a mess\\nYeah?\\nThereeeee'\n",
    "s3 = 'Oh\\nThere goes the fun'\n",
    "\n",
    "pat = re.compile()     ##### add your solution here\n",
    "\n",
    "assert bool(pat.search(s1)) == True\n",
    "assert bool(pat.search(s2)) == True\n",
    "assert bool(pat.search(s3)) == False"
   ]
  },
  {
   "cell_type": "markdown",
   "id": "binary-ireland",
   "metadata": {},
   "source": [
    "**e)** Explore what the `re.DEBUG` flag does. Here's some example patterns to check out.\n",
    "\n",
    "* `re.compile(r'\\Aden|ly\\Z', flags=re.DEBUG)`\n",
    "* `re.compile(r'\\b(0x)?[\\da-f]+\\b', flags=re.DEBUG)`\n",
    "* `re.compile(r'\\b(?:0x)?[\\da-f]+\\b', flags=re.I|re.DEBUG)`\n",
    "\n",
    "<br>\n",
    "\n",
    "# 11. Unicode\n",
    "\n",
    "**a)** Output `True` or `False` depending on input string made up of ASCII characters or not. Consider the input to be non-empty strings and any character that isn't part of 7-bit ASCII set should give `False`. Do you need regular expressions for this?"
   ]
  },
  {
   "cell_type": "code",
   "execution_count": null,
   "id": "appreciated-pollution",
   "metadata": {},
   "outputs": [],
   "source": [
    "str1 = '123—456'\n",
    "str2 = 'good fοοd'\n",
    "str3 = 'happy learning!'\n",
    "str4 = 'İıſK'\n",
    "\n",
    "##### add your solution here for str1\n",
    "assert ___ == False\n",
    "##### add your solution here for str2\n",
    "assert ___ == False\n",
    "##### add your solution here for str3\n",
    "assert ___ == True\n",
    "##### add your solution here for str4\n",
    "assert ___ == False"
   ]
  },
  {
   "cell_type": "markdown",
   "id": "bright-damages",
   "metadata": {},
   "source": [
    "**b)** Does `.` quantifier with `re.ASCII` flag enabled match non-ASCII characters?\n",
    "\n",
    "**c)** Explore the following Q&A threads.\n",
    "\n",
    "* [stackoverflow: remove powered number from string](https://stackoverflow.com/questions/57553721/remove-powered-number-from-string-in-python)\n",
    "* [stackoverflow: regular expression for French characters](https://stackoverflow.com/questions/1922097/regular-expression-for-french-characters)\n",
    "\n",
    "<br>\n",
    "\n",
    "# 12. regex module\n",
    "\n",
    "This part is super optional, it has you using the non-builtin `regex` module (https://pypi.org/project/regex/). I've never actually tried it. I skimmed through its features, and it doesn't strike me as adding *that* much more functionality.\n",
    "\n",
    "**a)** Filter all elements whose first non-whitespace character is not a `#` character. Any element made up of only whitespace characters should be ignored as well."
   ]
  },
  {
   "cell_type": "code",
   "execution_count": null,
   "id": "threaded-necklace",
   "metadata": {},
   "outputs": [],
   "source": [
    "items = ['    #comment', '\\t\\napple #42', '#oops', 'sure', 'no#1', '\\t\\r\\f']\n",
    "\n",
    "##### add your solution here\n",
    "assert ___ == ['\\t\\napple #42', 'sure', 'no#1']"
   ]
  },
  {
   "cell_type": "markdown",
   "id": "unsigned-berry",
   "metadata": {},
   "source": [
    "**b)** Replace sequences made up of words separated by `:` or `.` by the first word of the sequence and the separator. Such sequences will end when `:` or `.` is not followed by a word character."
   ]
  },
  {
   "cell_type": "code",
   "execution_count": null,
   "id": "wanted-gnome",
   "metadata": {},
   "outputs": [],
   "source": [
    "ip = 'wow:Good:2_two:five: hi bye kite.777.water.'\n",
    "\n",
    "##### add your solution here\n",
    "assert ___ == 'wow: hi bye kite.'"
   ]
  },
  {
   "cell_type": "markdown",
   "id": "younger-november",
   "metadata": {},
   "source": [
    "**c)** The given list of strings has fields separated by `:` character. Delete `:` and the last field if there is a digit character anywhere before the last field."
   ]
  },
  {
   "cell_type": "code",
   "execution_count": null,
   "id": "reverse-singles",
   "metadata": {},
   "outputs": [],
   "source": [
    "items = ['42:cat', 'twelve:a2b', 'we:be:he:0:a:b:bother']\n",
    "\n",
    "##### add your solution here\n",
    "assert ___ == ['42', 'twelve:a2b', 'we:be:he:0:a:b']"
   ]
  },
  {
   "cell_type": "markdown",
   "id": "grateful-rates",
   "metadata": {},
   "source": [
    "**d)** Extract all whole words unless they are preceded by `:` or `<=>` or `----` or `#`."
   ]
  },
  {
   "cell_type": "code",
   "execution_count": null,
   "id": "furnished-bulgarian",
   "metadata": {},
   "outputs": [],
   "source": [
    "ip = '::very--at<=>row|in.a_b#b2c=>lion----east'\n",
    "\n",
    "##### add your solution here\n",
    "assert ___ == ['at', 'in', 'a_b', 'lion']"
   ]
  },
  {
   "cell_type": "markdown",
   "id": "steady-minute",
   "metadata": {},
   "source": [
    "**e)** The given input string has fields separated by `:` character. Extract all fields if the previous field contains a digit character."
   ]
  },
  {
   "cell_type": "code",
   "execution_count": null,
   "id": "impossible-coaching",
   "metadata": {},
   "outputs": [],
   "source": [
    "ip = 'vast:a2b2:ride:in:awe:b2b:3list:end'\n",
    "\n",
    "##### add your solution here\n",
    "assert ___ == ['ride', '3list', 'end']"
   ]
  },
  {
   "cell_type": "markdown",
   "id": "necessary-stereo",
   "metadata": {},
   "source": [
    "**f)** The given input string has fields separated by `:` character. Delete all fields, including the separator, unless the field contains a digit character. Stop deleting once a field with digit character is found."
   ]
  },
  {
   "cell_type": "code",
   "execution_count": null,
   "id": "growing-lincoln",
   "metadata": {},
   "outputs": [],
   "source": [
    "row1 = 'vast:a2b2:ride:in:awe:b2b:3list:end'\n",
    "row2 = 'um:no:low:3e:s4w:seer'\n",
    "\n",
    "pat = regex.compile()      ##### add your solution here\n",
    "\n",
    "assert pat.sub('', row1) == 'a2b2:ride:in:awe:b2b:3list:end'\n",
    "assert pat.sub('', row2) == '3e:s4w:seer'"
   ]
  },
  {
   "cell_type": "markdown",
   "id": "nonprofit-population",
   "metadata": {},
   "source": [
    "**g)** For the given input strings, extract `if` followed by any number of nested parentheses. Assume that there will be only one such pattern per input string."
   ]
  },
  {
   "cell_type": "code",
   "execution_count": null,
   "id": "fixed-vietnamese",
   "metadata": {},
   "outputs": [],
   "source": [
    "ip1 = 'for (((i*3)+2)/6) if(3-(k*3+4)/12-(r+2/3)) while()'\n",
    "ip2 = 'if+while if(a(b)c(d(e(f)1)2)3) for(i=1)'\n",
    "\n",
    "pat = regex.compile()       ##### add your solution here\n",
    "\n",
    "assert pat.search(ip1)[0] == 'if(3-(k*3+4)/12-(r+2/3))'\n",
    "assert pat.search(ip2)[0] == 'if(a(b)c(d(e(f)1)2)3)'"
   ]
  },
  {
   "cell_type": "markdown",
   "id": "spare-physics",
   "metadata": {},
   "source": [
    "**h)** Read about `POSIX` flag from https://pypi.org/project/regex/. Is the following code snippet showing the correct output?"
   ]
  },
  {
   "cell_type": "code",
   "execution_count": null,
   "id": "eleven-protein",
   "metadata": {},
   "outputs": [],
   "source": [
    "words = 'plink incoming tint winter in caution sentient'\n",
    "\n",
    "change = regex.compile(r'int|in|ion|ing|inco|inter|ink', flags=regex.POSIX)\n",
    "\n",
    "assert change.sub('X', words) == 'plX XmX tX wX X cautX sentient'"
   ]
  },
  {
   "cell_type": "markdown",
   "id": "previous-chrome",
   "metadata": {},
   "source": [
    "**i)** Extract all whole words for the given input strings. However, based on user input `ignore`, do not match words if they contain any character present in the `ignore` variable."
   ]
  },
  {
   "cell_type": "code",
   "execution_count": null,
   "id": "christian-crack",
   "metadata": {},
   "outputs": [],
   "source": [
    "s1 = 'match after the last newline character'\n",
    "s2 = 'and then you want to test'\n",
    "\n",
    "ignore = 'aty'\n",
    "assert regex.findall() == ['newline']\n",
    "assert regex.findall() == []\n",
    "\n",
    "ignore = 'esw'\n",
    "assert regex.findall() == ['match']\n",
    "assert regex.findall() == ['and', 'you', 'to']"
   ]
  },
  {
   "cell_type": "markdown",
   "id": "organized-sheep",
   "metadata": {},
   "source": [
    "**j)** Retain only punctuation characters for the given strings (generated from codepoints). Use Unicode character set definition for punctuation for solving this exercise."
   ]
  },
  {
   "cell_type": "code",
   "execution_count": null,
   "id": "taken-billy",
   "metadata": {},
   "outputs": [],
   "source": [
    "s1 = ''.join(chr(c) for c in range(0, 0x80))\n",
    "s2 = ''.join(chr(c) for c in range(0x80, 0x100))\n",
    "s3 = ''.join(chr(c) for c in range(0x2600, 0x27ec))\n",
    "\n",
    "pat = regex.compile()       ##### add your solution here\n",
    "\n",
    "assert pat.sub('', s1) == '!\"#%&\\'()*,-./:;?@[\\\\]_{}'\n",
    "assert pat.sub('', s2) == '¡§«¶·»¿'\n",
    "assert pat.sub('', s3) == '❨❩❪❫❬❭❮❯❰❱❲❳❴❵⟅⟆⟦⟧⟨⟩⟪⟫'"
   ]
  },
  {
   "cell_type": "markdown",
   "id": "unique-installation",
   "metadata": {},
   "source": [
    "**k)** For the given **markdown** file, replace all occurrences of the string `python` (irrespective of case) with the string `Python`. However, any match within code blocks that start with whole line ` ```python ` and end with whole line ` ``` ` shouldn't be replaced. Consider the input file to be small enough to fit memory requirements.\n",
    "\n",
    "Refer to [github: exercises folder](https://github.com/learnbyexample/py_regular_expressions/tree/master/exercises) for files `sample.md` and `expected.md` required to solve this exercise."
   ]
  },
  {
   "cell_type": "code",
   "execution_count": null,
   "id": "acknowledged-rehabilitation",
   "metadata": {},
   "outputs": [],
   "source": [
    "ip_str = open('sample.md', 'r').read()\n",
    "pat = regex.compile()      ##### add your solution here\n",
    "with open('sample_mod.md', 'w') as op_file:\n",
    "    ##### add your solution here\n",
    "\n",
    "305\n",
    "assert open('sample_mod.md').read() == open('expected.md').read()"
   ]
  },
  {
   "cell_type": "markdown",
   "id": "metric-liver",
   "metadata": {},
   "source": [
    "**l)** For the given input strings, construct a word that is made up of last characters of all the words in the input. Use last character of last word as first character, last character of last but one word as second character and so on."
   ]
  },
  {
   "cell_type": "code",
   "execution_count": null,
   "id": "homeless-success",
   "metadata": {},
   "outputs": [],
   "source": [
    "s1 = 'knack tic pi roar what'\n",
    "s2 = '42;rod;t2t2;car'\n",
    "\n",
    "pat = regex.compile()       ##### add your solution here\n",
    "\n",
    "##### add your solution here for s1\n",
    "assert ___ == 'trick'\n",
    "##### add your solution here for s2\n",
    "assert ___ == 'r2d2'"
   ]
  },
  {
   "cell_type": "markdown",
   "id": "latest-clone",
   "metadata": {},
   "source": [
    "**m)** Replicate `str.rpartition` functionality with regular expressions. Split into three parts based on last match of sequences of digits, which is `777` and `12` for the given input strings."
   ]
  },
  {
   "cell_type": "code",
   "execution_count": null,
   "id": "linear-vinyl",
   "metadata": {},
   "outputs": [],
   "source": [
    "s1 = 'Sample123string42with777numbers'\n",
    "s2 = '12apples'\n",
    "\n",
    "##### add your solution here for s1\n",
    "assert ___ == ['Sample123string42with', '777', 'numbers']\n",
    "##### add your solution here for s2\n",
    "assert ___ == ['', '12', 'apples']"
   ]
  },
  {
   "cell_type": "markdown",
   "id": "lucky-directive",
   "metadata": {},
   "source": [
    "**n)** Read about fuzzy matching on https://pypi.org/project/regex/. For the given input strings, return `True` if they are exactly same as `cat` or there is exactly one character difference. Ignore case when comparing differences. For example, `Ca2` should give `True`. `act` will be `False` even though the characters are same because position should be maintained."
   ]
  },
  {
   "cell_type": "code",
   "execution_count": null,
   "id": "developed-variance",
   "metadata": {},
   "outputs": [],
   "source": [
    "pat = regex.compile()       ##### add your solution here\n",
    "\n",
    "assert bool(pat.fullmatch('CaT')) == True\n",
    "assert bool(pat.fullmatch('scat')) == False\n",
    "assert bool(pat.fullmatch('ca.')) == True\n",
    "assert bool(pat.fullmatch('ca#')) == True\n",
    "assert bool(pat.fullmatch('c#t')) == True\n",
    "assert bool(pat.fullmatch('at')) == False\n",
    "assert bool(pat.fullmatch('act')) == False\n",
    "assert bool(pat.fullmatch('2a1')) == False"
   ]
  }
 ],
 "metadata": {
  "kernelspec": {
   "display_name": "Python 3",
   "language": "python",
   "name": "python3"
  },
  "language_info": {
   "codemirror_mode": {
    "name": "ipython",
    "version": 3
   },
   "file_extension": ".py",
   "mimetype": "text/x-python",
   "name": "python",
   "nbconvert_exporter": "python",
   "pygments_lexer": "ipython3",
   "version": "3.9.2"
  }
 },
 "nbformat": 4,
 "nbformat_minor": 5
}
