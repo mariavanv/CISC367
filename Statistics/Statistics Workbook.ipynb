{
 "cells": [
  {
   "cell_type": "code",
   "execution_count": 1,
   "id": "stock-badge",
   "metadata": {},
   "outputs": [],
   "source": [
    "import random\n",
    "random.seed(0)\n",
    "import pandas as pd\n",
    "import numpy as np\n",
    "np.random.seed(0)\n",
    "from scipy import stats\n",
    "import seaborn as sns\n",
    "import matplotlib.pyplot as plt\n",
    "from IPython.display import YouTubeVideo"
   ]
  },
  {
   "cell_type": "markdown",
   "id": "scientific-fancy",
   "metadata": {},
   "source": [
    "# Super Statistics\n",
    "\n",
    "This lesson is designed to orient you to statistical thinking and give you practice with Python's statistics library (`scipy`).\n",
    "\n",
    "The assignment will be a mixture of reading informative pages, watching videos, and answering questions. Please do your best and seek help as needed!\n",
    "\n",
    "### Learning Goals\n",
    "\n",
    "By the end of the lesson, students should be able to:\n",
    "\n",
    "* Part 1\n",
    "    * Explain the concept of probability vs. statistics\n",
    "* Part 2\n",
    "    * Generate data using a distribution function from `scipy`\n",
    "* Part 3\n",
    "    * Given a dataset, generate and interpret appropriate summary statistics using `scipy`\n",
    "    * Classify data as continuous, categorical, or binary\n",
    "    * Differentiate between paired and unpaired data\n",
    "    * Apply logarithms to manipulate a distribution\n",
    "* Part 4\n",
    "    * Determine the distribution of a dataset using `scipy`\n",
    "    * Describe and justify the use of parameteric vs. non-parameteric statistics\n",
    "* Part 5\n",
    "    * Create and interpret a statistical hypothesis\n",
    "    * Given a dataset, perform and interpret correlation analysis using `scipy`\n",
    "    * Given a hypothesis and dataset, perform and interpret an appropriate statistical test using `scipy`\n",
    "    * Explain the concept of statistical significance\n",
    "* Part 6\n",
    "    * Describe and explain the purpose of effect sizes\n",
    "    * Calculate an effect size\n",
    "\n",
    "### Caveat\n",
    "\n",
    "I want to start by admitting that I am not as good at statistics as I am at Computer Science. I did distinctly *okay* in my undergraduate statistics class. I would even say that I didn't genuinely learn statistics until I got to graduate school, and had my own datasets. However, that was the turning point - I suddenly understood things so much better when I had a context I cared about. Context is key to learning - I believe statistics is very challenging for many folks because they don't see how it applies to things they are interested in.\n",
    "\n",
    "You might walk into this assignment with more statistics knowledge than me, or alternatively you might be a complete novice. Either way, I'd like to make sure everyone leaves the assignment better than they were. This will probably include me, Dr. Bart. If you identify mistakes or errors, don't be afraid to raise them up in the Discord or the Ohyay. I am only human, this assignment was created in a single day, and I don't have a huge background in statistics. Errors or even misconceptions are likely! I'd rather we all collaboratively improve, then have been right.\n",
    "\n",
    "# Part 1) Basic Statistics\n",
    "\n",
    "Watch the following video, and then answer the following questions below.\n",
    "\n",
    "<https://youtu.be/PufDBlSsqys>"
   ]
  },
  {
   "cell_type": "markdown",
   "id": "ordered-treat",
   "metadata": {},
   "source": [
    "#### Q1.1)\n",
    "What is the difference between probablity and statistics? Define both terms clearly, especially in terms of their different goals."
   ]
  },
  {
   "cell_type": "markdown",
   "id": "instructional-marathon",
   "metadata": {},
   "source": [
    "Probability is the theoretical model for observations, whereas statistics is based on analysis of observations and experimental data. \n",
    "\n",
    "Probability is used to predict what will happen based on a perfect model, whereas statistics can be used to inform the model based off of empirical evidence and actual observations. \n",
    "\n",
    "The goal of probability is to make predictions, statistics lets us test those predictions"
   ]
  },
  {
   "cell_type": "markdown",
   "id": "neutral-dialogue",
   "metadata": {},
   "source": [
    "# Part 2) Distributions\n",
    "\n",
    "#### Q2.1)\n",
    "\n",
    "In statistics, what is a \"Random Variable\"? How is it different from an Algebraic Variable or a Computer Science Variable?"
   ]
  },
  {
   "cell_type": "markdown",
   "id": "loving-berlin",
   "metadata": {},
   "source": [
    "A random variable is a variable that follows some probability distribution. It cannot be calculated or solved for like an Algebraic Variable, as there is always some randomness to it. A computer science variable can be set by the programmer, but its value is always known."
   ]
  },
  {
   "cell_type": "markdown",
   "id": "geological-treat",
   "metadata": {},
   "source": [
    "#### Q2.2)\n",
    "In statistics, what is a \"Probability Distribution\"?"
   ]
  },
  {
   "cell_type": "markdown",
   "id": "gentle-digest",
   "metadata": {},
   "source": [
    "A probability distribution gives the probability of every possible outcome of an experiment. For example, the probability distribution for a coin flip would be .5 for \"heads\" and .5 for \"tails\". "
   ]
  },
  {
   "cell_type": "markdown",
   "id": "floppy-thomson",
   "metadata": {},
   "source": [
    "#### Q2.3)\n",
    "\n",
    "In Discrete Math, what is a \"Function\"?"
   ]
  },
  {
   "cell_type": "markdown",
   "id": "addressed-plain",
   "metadata": {},
   "source": [
    "\"A function or mapping (Defined as f:X→Y) is a relationship from elements of one set X to elements of another set Y\"\n",
    "\n",
    "Essentially, a function takes one set and transforms it into another. For exammple, if f(x) = 2x, then 1 would map to 2, 2 would map to 4, and so on.\n",
    "\n",
    "Source: https://www.tutorialspoint.com/discrete_mathematics/discrete_mathematics_functions.htm"
   ]
  },
  {
   "cell_type": "markdown",
   "id": "relative-australian",
   "metadata": {},
   "source": [
    "#### Q2.4)\n",
    "\n",
    "What is the relationship between a random variable and the concept of a \"nullary function\" like the following?"
   ]
  },
  {
   "cell_type": "code",
   "execution_count": 3,
   "id": "quarterly-arizona",
   "metadata": {},
   "outputs": [
    {
     "data": {
      "text/plain": [
       "[9, 3, 8, 2, 4, 2, 1, 9, 4, 8]"
      ]
     },
     "execution_count": 3,
     "metadata": {},
     "output_type": "execute_result"
    }
   ],
   "source": [
    "def X(): return random.randint(0, 10)\n",
    "\n",
    "[X() for i in range(10)]"
   ]
  },
  {
   "cell_type": "markdown",
   "id": "comfortable-satisfaction",
   "metadata": {},
   "source": [
    "A nullary function takes no input, and gives an output.\n",
    "\n",
    "A random variable also takes no inputs but produces a value. \n",
    "\n",
    "Relationship: random variables use nullary functions to get their value"
   ]
  },
  {
   "cell_type": "markdown",
   "id": "domestic-citizen",
   "metadata": {},
   "source": [
    "#### Q2.5) \n",
    "What is the relationship between a distribution and a function?"
   ]
  },
  {
   "cell_type": "markdown",
   "id": "western-coordinator",
   "metadata": {},
   "source": [
    "A function can create a distribution of outputs, or a function which is run on an input can alter the original distribution.\n",
    "\n",
    "A function can also be used to model the distribution through predicting the probabity of occurences."
   ]
  },
  {
   "cell_type": "markdown",
   "id": "reduced-instruction",
   "metadata": {},
   "source": [
    "Watch the following video about different probability distributions:\n",
    "\n",
    "<https://youtu.be/b9a27XN_6tg>"
   ]
  },
  {
   "cell_type": "markdown",
   "id": "valuable-heritage",
   "metadata": {},
   "source": [
    "#### Q2.6)\n",
    "\n",
    "For each of the following probability distributions:\n",
    "\n",
    "1. Provide the name of the distribution\n",
    "2. Identify it as continuous, discrete, or both\n",
    "3. Provide a brief description of the distribution and what it is used for\n",
    "4. Find an example from the real world where this distribution occurs (not one presented in the video)\n",
    "5. Provide a link to the appropriate `scipy.stats` function\n",
    "6. Use the `scipy` module's distribution functions to create an visual example"
   ]
  },
  {
   "cell_type": "markdown",
   "id": "sunrise-point",
   "metadata": {},
   "source": [
    "##### Uniform Distribution\n",
    "\n",
    "* Description: A random variable where all of outcomes are equally likely.\n",
    "* Kind: Can be both continuous or discrete\n",
    "* Example: Rolling a fair, six-sided die.\n",
    "* Link: [Continous](https://docs.scipy.org/doc/scipy/reference/generated/scipy.stats.uniform.html#scipy.stats.uniform), [Discrete](https://docs.scipy.org/doc/scipy/reference/generated/scipy.stats.randint.html)\n"
   ]
  },
  {
   "cell_type": "code",
   "execution_count": 34,
   "id": "afraid-illness",
   "metadata": {},
   "outputs": [
    {
     "data": {
      "image/png": "[encoded data removed]",
      "text/plain": [
       "<Figure size 432x288 with 1 Axes>"
      ]
     },
     "metadata": {
      "needs_background": "light"
     },
     "output_type": "display_data"
    }
   ],
   "source": [
    "random_variables = stats.uniform.rvs(size=10000)\n",
    "plt.hist(random_variables)\n",
    "plt.title(\"Randomly Generated Uniform Distribution\")\n",
    "plt.show()"
   ]
  },
  {
   "cell_type": "markdown",
   "id": "requested-device",
   "metadata": {},
   "source": [
    "##### Bernouli Distribution"
   ]
  },
  {
   "cell_type": "markdown",
   "id": "banned-walter",
   "metadata": {},
   "source": [
    "- Description: A random variable that may take one of two possible outcomes\n",
    "- Kind: Discrete\n",
    "- Example: Dr. Bart ate chicken today or he did not\n",
    "- Link: [Bernoulli Distribution](https://docs.scipy.org/doc/scipy/reference/generated/scipy.stats.bernoulli.html)"
   ]
  },
  {
   "cell_type": "code",
   "execution_count": 3,
   "id": "awful-might",
   "metadata": {},
   "outputs": [
    {
     "data": {
      "image/png": "[encoded data removed]",
      "text/plain": [
       "<Figure size 432x288 with 1 Axes>"
      ]
     },
     "metadata": {
      "needs_background": "light"
     },
     "output_type": "display_data"
    }
   ],
   "source": [
    "random_variables = stats.bernoulli.rvs(.2, size=10000)\n",
    "plt.hist(random_variables, bins=[0,.5,1], weights = np.ones_like(random_variables) / len(random_variables))\n",
    "plt.title(\"Randomly Generated Bernoulli Distribution\")\n",
    "plt.show()"
   ]
  },
  {
   "cell_type": "markdown",
   "id": "formal-surveillance",
   "metadata": {},
   "source": [
    "##### Binomial Distribution"
   ]
  },
  {
   "cell_type": "markdown",
   "id": "hydraulic-crack",
   "metadata": {},
   "source": [
    "- Description: Like a Bernoulli distribution, there are two outcomes for each iteration, however we now look at *multiple* iterations\n",
    "- Kind: Discrete\n",
    "- Example: Over the next week, what is the probability that Dr. Bart eats chicken on three of those days?\n",
    "- Link: [Binomial Distribution](https://docs.scipy.org/doc/scipy/reference/generated/scipy.stats.binom.html)"
   ]
  },
  {
   "cell_type": "code",
   "execution_count": 4,
   "id": "hybrid-obligation",
   "metadata": {},
   "outputs": [
    {
     "data": {
      "image/png": "[encoded data removed]",
      "text/plain": [
       "<Figure size 432x288 with 1 Axes>"
      ]
     },
     "metadata": {
      "needs_background": "light"
     },
     "output_type": "display_data"
    }
   ],
   "source": [
    "random_variables = stats.binom.rvs(7, .2, size=10000)\n",
    "plt.hist(random_variables, bins=[-.5, .5, 1.5, 2.5, 3.5, 4.5, 5.5, 6.5, 7.5], weights = np.ones_like(random_variables) / len(random_variables))\n",
    "plt.title(\"Randomly Generated Binomial Distribution\")\n",
    "plt.show()"
   ]
  },
  {
   "cell_type": "markdown",
   "id": "radio-sheriff",
   "metadata": {},
   "source": [
    "##### Poisson Distribution"
   ]
  },
  {
   "cell_type": "markdown",
   "id": "rough-oakland",
   "metadata": {},
   "source": [
    "- Description: Gives the probability of a certain number of events occuring in a specified interval of time or space\n",
    "- Kind: Discrete\n",
    "- Example: If the phone rings on average once every 15 minutes, whats the probability that it will ring 3 times in one hour?\n",
    "- Link: [Poisson Distribution](https://docs.scipy.org/doc/scipy/reference/generated/scipy.stats.poisson.html)"
   ]
  },
  {
   "cell_type": "code",
   "execution_count": 5,
   "id": "absolute-spectrum",
   "metadata": {},
   "outputs": [
    {
     "data": {
      "image/png": "[encoded data removed]",
      "text/plain": [
       "<Figure size 432x288 with 1 Axes>"
      ]
     },
     "metadata": {
      "needs_background": "light"
     },
     "output_type": "display_data"
    }
   ],
   "source": [
    "random_variables = stats.poisson.rvs(4, size=10000)\n",
    "plt.hist(random_variables, bins=[x-.5 for x in range(15)], weights = np.ones_like(random_variables) / len(random_variables))\n",
    "plt.title(\"Randomly Generated Poisson Distribution\")\n",
    "plt.xticks([x for x in range(14)])\n",
    "plt.show()"
   ]
  },
  {
   "cell_type": "markdown",
   "id": "exceptional-visiting",
   "metadata": {},
   "source": [
    "##### Normal Distribution"
   ]
  },
  {
   "cell_type": "markdown",
   "id": "developmental-cornwall",
   "metadata": {},
   "source": [
    "1. Normal Distribution\n",
    "2. Type: Continuous\n",
    "3. Description/Used for: The typical bell curve, used for continuous values. Most values are centered around a the mean, and values taper off as they get further from that mean.\n",
    "4. Example: height of adult females follows a normal distribution. Most women fall within a couple inches of the mean, 5 foot 4 inches, but there are also some who are much shorter or taller than that\n",
    "5. Link: https://docs.scipy.org/doc/scipy/reference/generated/scipy.stats.norm.html\n"
   ]
  },
  {
   "cell_type": "code",
   "execution_count": 6,
   "id": "dated-polyester",
   "metadata": {},
   "outputs": [
    {
     "data": {
      "text/plain": [
       "[<matplotlib.lines.Line2D at 0x2456b0a4310>]"
      ]
     },
     "execution_count": 6,
     "metadata": {},
     "output_type": "execute_result"
    },
    {
     "data": {
      "image/png": "[encoded data removed]",
      "text/plain": [
       "<Figure size 432x288 with 1 Axes>"
      ]
     },
     "metadata": {
      "needs_background": "light"
     },
     "output_type": "display_data"
    }
   ],
   "source": [
    "from scipy.stats import norm\n",
    "import matplotlib.pyplot as plt\n",
    "fig, ax = plt.subplots(1, 1)\n",
    "x = np.linspace(norm.ppf(0.01),norm.ppf(0.99), 100)\n",
    "ax.plot(x, norm.pdf(x),\n",
    "       'r-', lw=5, alpha=0.6, label='norm pdf')"
   ]
  },
  {
   "cell_type": "markdown",
   "id": "given-strand",
   "metadata": {},
   "source": [
    "##### Student's T Distribution"
   ]
  },
  {
   "cell_type": "markdown",
   "id": "activated-turning",
   "metadata": {},
   "source": [
    "- Continuous\n",
    "- The distribution is essentially a normal distribution that is more closely centered around the median making it shorter and fatter. It is used in cases where the normal distribution would be used, but for smaller sample sizes as it can accomidate outliers better. Typically it is used in statistical tests to determine if two sample means come from the same population.\n",
    "- As a fun fact and an example, the original use of the test was to characterize the distribution of raw material properties (specifically Barely's chemical properties) for use in [Guinness](https://en.wikipedia.org/wiki/Student%27s_t-test#History).\n",
    "- (Link)[https://docs.scipy.org/doc/scipy/reference/generated/scipy.stats.t.html]"
   ]
  },
  {
   "cell_type": "code",
   "execution_count": 6,
   "id": "coral-montreal",
   "metadata": {},
   "outputs": [
    {
     "data": {
      "image/png": "[encoded data removed]",
      "text/plain": [
       "<Figure size 432x288 with 1 Axes>"
      ]
     },
     "metadata": {
      "needs_background": "light"
     },
     "output_type": "display_data"
    }
   ],
   "source": [
    "from scipy.stats import t\n",
    "import matplotlib.pyplot as plt\n",
    "\n",
    "fig, ax = plt.subplots(1, 1)\n",
    "df = 5    # 5 degrees of freedom\n",
    "x = np.linspace(t.ppf(0.01,df),t.ppf(0.99,df),100) # generates an array of x using the percent point function\n",
    "\n",
    "ax.plot(x, t.pdf(x,df))\n",
    "plt.show()"
   ]
  },
  {
   "cell_type": "markdown",
   "id": "mobile-mitchell",
   "metadata": {},
   "source": [
    "##### Chi-Squared Distribution"
   ]
  },
  {
   "cell_type": "markdown",
   "id": "remarkable-amber",
   "metadata": {},
   "source": [
    "1. Chi-Squared Distribution\n",
    "2. Type: Continuous\n",
    "3. Description: An asymetric distribution with non-negative values. Curve is typically skewed to the left. Often used in hypothesis testing. Used to calculate the p-value\n",
    "4. Example: Comparing actual and expected counts of green m&m's in m&m packages\n",
    "5. Link: https://docs.scipy.org/doc/scipy/reference/generated/scipy.stats.chi2.html"
   ]
  },
  {
   "cell_type": "code",
   "execution_count": 18,
   "id": "starting-economy",
   "metadata": {},
   "outputs": [
    {
     "data": {
      "text/plain": [
       "[<matplotlib.lines.Line2D at 0x2456b2868e0>]"
      ]
     },
     "execution_count": 18,
     "metadata": {},
     "output_type": "execute_result"
    },
    {
     "data": {
      "image/png": "[encoded data removed]",
      "text/plain": [
       "<Figure size 432x288 with 1 Axes>"
      ]
     },
     "metadata": {
      "needs_background": "light"
     },
     "output_type": "display_data"
    }
   ],
   "source": [
    "from scipy.stats import chi2\n",
    "import matplotlib.pyplot as plt\n",
    "fig, ax = plt.subplots(1, 1)\n",
    "df = 55\n",
    "mean, var, skew, kurt = chi2.stats(df, moments='mvsk')\n",
    "x = np.linspace(chi2.ppf(0.01, df),\n",
    "                chi2.ppf(0.99, df), 100)\n",
    "ax.plot(x, chi2.pdf(x, df),\n",
    "       'r-', lw=5, alpha=0.6, label='chi2 pdf')\n"
   ]
  },
  {
   "cell_type": "markdown",
   "id": "electoral-company",
   "metadata": {},
   "source": [
    "##### Exponential Distribution"
   ]
  },
  {
   "cell_type": "markdown",
   "id": "contemporary-cache",
   "metadata": {},
   "source": [
    "- Continuous\n",
    "- The distribution is often used to model the time until something discrete will happen. Or in better terms, the probability that something will happen at a ceartian time. It is typically used to predict when a part will fail.\n",
    "- One example is the time in which a lightbulb will fail. The probability that a lightbulb will fail at a certian time is given by the pdf, which can be used to predict how long it is expected to run for.\n",
    "- [link](https://docs.scipy.org/doc/scipy/reference/generated/scipy.stats.expon.html)"
   ]
  },
  {
   "cell_type": "code",
   "execution_count": 4,
   "id": "accepting-exploration",
   "metadata": {},
   "outputs": [
    {
     "data": {
      "image/png": "[encoded data removed]",
      "text/plain": [
       "<Figure size 432x288 with 1 Axes>"
      ]
     },
     "metadata": {
      "needs_background": "light"
     },
     "output_type": "display_data"
    }
   ],
   "source": [
    "from scipy.stats import expon\n",
    "fig, ax = plt.subplots(1,1)\n",
    "\n",
    "lambda_val = 1.5 # lambda is the constant typcially used as the rate parameter in this distribution\n",
    "loc = 0\n",
    "scale = 1/lambda_val\n",
    "\n",
    "x = np.linspace(expon.ppf(0.01),expon.ppf(0.99), 100)\n",
    "ax.plot(x, expon.pdf(x,loc,scale))\n",
    "plt.show()"
   ]
  },
  {
   "cell_type": "markdown",
   "id": "rapid-plate",
   "metadata": {},
   "source": [
    "##### Logistic Distribution"
   ]
  },
  {
   "cell_type": "markdown",
   "id": "historic-accommodation",
   "metadata": {},
   "source": [
    "- Continuous\n",
    "- The distribution is similar to the normal distribution, but with slightly wider tails. Simplfies the math for the cumulative distribution function as it follows the logistic equation instead. Because of this, it is used in modeling growth and in regression models.\n",
    "- The world chess federation assigns its elo ratings based off of a logistic distribution, assuming that this best models the distribution of chess skills. [Source](https://en.wikipedia.org/wiki/Elo_rating_system)\n",
    "- [link](https://docs.scipy.org/doc/scipy/reference/generated/scipy.stats.genlogistic.html#scipy.stats.genlogistic)"
   ]
  },
  {
   "cell_type": "code",
   "execution_count": 5,
   "id": "capable-heading",
   "metadata": {},
   "outputs": [
    {
     "data": {
      "image/png": "[encoded data removed]",
      "text/plain": [
       "<Figure size 432x288 with 1 Axes>"
      ]
     },
     "metadata": {
      "needs_background": "light"
     },
     "output_type": "display_data"
    }
   ],
   "source": [
    "from scipy.stats import genlogistic\n",
    "\n",
    "fig, ax = plt.subplots(1, 1)\n",
    "\n",
    "c = 1.2 #shape parameter\n",
    "x = np.linspace(genlogistic.ppf(0.01,c),genlogistic.ppf(0.99,c), 100)\n",
    "ax.plot(x, genlogistic.pdf(x, c))\n",
    "plt.show()"
   ]
  },
  {
   "cell_type": "markdown",
   "id": "difficult-watch",
   "metadata": {},
   "source": [
    "# Part 3) Summary Stats\n",
    "\n",
    "For this section, you will need to use Google and ask questions."
   ]
  },
  {
   "cell_type": "markdown",
   "id": "serial-belarus",
   "metadata": {},
   "source": [
    "#### Q3.1)\n",
    "When should you use mean vs. median?"
   ]
  },
  {
   "cell_type": "markdown",
   "id": "mechanical-alpha",
   "metadata": {},
   "source": [
    "Use the mean when there's minimal skew, and minimal outliers. \n",
    "\n",
    "Use median for skewed data to get a more accurate picture of the central bahavior. Median is minimally affected by outliers."
   ]
  },
  {
   "cell_type": "markdown",
   "id": "developing-nightmare",
   "metadata": {},
   "source": [
    "#### Q3.2)\n",
    "What is the standard deviation and variance?"
   ]
  },
  {
   "cell_type": "markdown",
   "id": "scenic-ranch",
   "metadata": {},
   "source": [
    "The standard deviation is a measure of spread around the mean of the data. A low SD indicates that values are generally very close to the mean, and a high SD indicates a vide spread of data.\n",
    "\n",
    "The variance is the standard deviation squared. "
   ]
  },
  {
   "cell_type": "markdown",
   "id": "fluid-machine",
   "metadata": {},
   "source": [
    "#### Q3.3)\n",
    "\n",
    "Describe the tradeoffs between providing the standard deviation/variance vs. the 5-number summary. "
   ]
  },
  {
   "cell_type": "markdown",
   "id": "through-industry",
   "metadata": {},
   "source": [
    "The 5 number summary gives more information about how the data is spread, like if it is left-skewed or right-skewed, and how dense the values are in certain areas, whereas the standard deviation/variance only lets you know how spread out the data is generally.\n",
    "\n",
    "Standard deviation is more valuable when there are less data points, because the five number summary would not be very meaningful."
   ]
  },
  {
   "cell_type": "markdown",
   "id": "yellow-dodge",
   "metadata": {},
   "source": [
    "#### Q3.4)\n",
    "\n",
    "What is skew? Can a skewed dataset still be normally distributed?"
   ]
  },
  {
   "cell_type": "markdown",
   "id": "billion-transition",
   "metadata": {},
   "source": [
    "Skew describes the asymmetry of data. No, because a normally distributed dataset is symmetrical (that's what makes it normal)"
   ]
  },
  {
   "cell_type": "markdown",
   "id": "crazy-muscle",
   "metadata": {},
   "source": [
    "#### Q3.5)\n",
    "What is a frequency table? How is it useful for describing data?"
   ]
  },
  {
   "cell_type": "markdown",
   "id": "quantitative-usage",
   "metadata": {},
   "source": [
    "A frequency table displays the frequencies of various outcomes in a sample. It is the same data as a discrete probability distribution. It is not very useful for visualizing the data."
   ]
  },
  {
   "cell_type": "markdown",
   "id": "after-roberts",
   "metadata": {},
   "source": [
    "#### Q3.6)\n",
    "\n",
    "Observe the data shown below and classify each column shown below as either: nominal, binary, ordinal, or quantitative."
   ]
  },
  {
   "cell_type": "code",
   "execution_count": 2,
   "id": "dress-functionality",
   "metadata": {},
   "outputs": [
    {
     "data": {
      "text/html": [
       "<div>\n",
       "<style scoped>\n",
       "    .dataframe tbody tr th:only-of-type {\n",
       "        vertical-align: middle;\n",
       "    }\n",
       "\n",
       "    .dataframe tbody tr th {\n",
       "        vertical-align: top;\n",
       "    }\n",
       "\n",
       "    .dataframe thead th {\n",
       "        text-align: right;\n",
       "    }\n",
       "</style>\n",
       "<table border=\"1\" class=\"dataframe\">\n",
       "  <thead>\n",
       "    <tr style=\"text-align: right;\">\n",
       "      <th></th>\n",
       "      <th>id</th>\n",
       "      <th>material</th>\n",
       "      <th>name</th>\n",
       "      <th>development.phase</th>\n",
       "      <th>location.city</th>\n",
       "      <th>location.latitude</th>\n",
       "      <th>location.longitude</th>\n",
       "      <th>statistics.height</th>\n",
       "      <th>tall?</th>\n",
       "    </tr>\n",
       "  </thead>\n",
       "  <tbody>\n",
       "    <tr>\n",
       "      <th>0</th>\n",
       "      <td>12</td>\n",
       "      <td>steel</td>\n",
       "      <td>The Illinois</td>\n",
       "      <td>1</td>\n",
       "      <td>Chicago</td>\n",
       "      <td>0.000000</td>\n",
       "      <td>0.000000</td>\n",
       "      <td>1609.359985</td>\n",
       "      <td>True</td>\n",
       "    </tr>\n",
       "    <tr>\n",
       "      <th>1</th>\n",
       "      <td>62</td>\n",
       "      <td>composite</td>\n",
       "      <td>Chicago Spire</td>\n",
       "      <td>2</td>\n",
       "      <td>Chicago</td>\n",
       "      <td>41.889889</td>\n",
       "      <td>-87.614861</td>\n",
       "      <td>609.599976</td>\n",
       "      <td>True</td>\n",
       "    </tr>\n",
       "    <tr>\n",
       "      <th>2</th>\n",
       "      <td>68</td>\n",
       "      <td>composite</td>\n",
       "      <td>Miglin-Beitler Skyneedle</td>\n",
       "      <td>1</td>\n",
       "      <td>Chicago</td>\n",
       "      <td>41.881618</td>\n",
       "      <td>-87.634354</td>\n",
       "      <td>609.489990</td>\n",
       "      <td>True</td>\n",
       "    </tr>\n",
       "    <tr>\n",
       "      <th>3</th>\n",
       "      <td>98</td>\n",
       "      <td>composite</td>\n",
       "      <td>One World Trade Center</td>\n",
       "      <td>3</td>\n",
       "      <td>New York City</td>\n",
       "      <td>40.713112</td>\n",
       "      <td>-74.013351</td>\n",
       "      <td>541.299988</td>\n",
       "      <td>True</td>\n",
       "    </tr>\n",
       "    <tr>\n",
       "      <th>4</th>\n",
       "      <td>14269</td>\n",
       "      <td>concrete</td>\n",
       "      <td>Central Park Tower</td>\n",
       "      <td>2</td>\n",
       "      <td>New York City</td>\n",
       "      <td>40.766361</td>\n",
       "      <td>-73.980949</td>\n",
       "      <td>541.020020</td>\n",
       "      <td>True</td>\n",
       "    </tr>\n",
       "  </tbody>\n",
       "</table>\n",
       "</div>"
      ],
      "text/plain": [
       "      id   material                      name  development.phase  \\\n",
       "0     12      steel              The Illinois                  1   \n",
       "1     62  composite             Chicago Spire                  2   \n",
       "2     68  composite  Miglin-Beitler Skyneedle                  1   \n",
       "3     98  composite    One World Trade Center                  3   \n",
       "4  14269   concrete        Central Park Tower                  2   \n",
       "\n",
       "   location.city  location.latitude  location.longitude  statistics.height  \\\n",
       "0        Chicago           0.000000            0.000000        1609.359985   \n",
       "1        Chicago          41.889889          -87.614861         609.599976   \n",
       "2        Chicago          41.881618          -87.634354         609.489990   \n",
       "3  New York City          40.713112          -74.013351         541.299988   \n",
       "4  New York City          40.766361          -73.980949         541.020020   \n",
       "\n",
       "   tall?  \n",
       "0   True  \n",
       "1   True  \n",
       "2   True  \n",
       "3   True  \n",
       "4   True  "
      ]
     },
     "execution_count": 2,
     "metadata": {},
     "output_type": "execute_result"
    }
   ],
   "source": [
    "skyscrapers_full = pd.read_csv(\"https://corgis-edu.github.io/corgis/datasets/csv/skyscrapers/skyscrapers.csv\")\n",
    "# You can ignore how we calculate the fields, though it might help you understand it better\n",
    "skyscrapers_full['tall?'] = skyscrapers_full['statistics.height'] > 100\n",
    "skyscrapers_full['development.phase'] = skyscrapers_full['status.current'].map(lambda s: 3 if s in ('completed', 'demolished')\n",
    "                                                                                         else 1 if s in ('proposed', 'vision')\n",
    "                                                                                         else 2)\n",
    "skyscrapers = skyscrapers_full[['id', 'material', 'name', 'development.phase',\n",
    "                                'location.city', 'location.latitude', 'location.longitude',\n",
    "                                'statistics.height', 'tall?']]\n",
    "skyscrapers.head()"
   ]
  },
  {
   "cell_type": "markdown",
   "id": "alive-official",
   "metadata": {},
   "source": [
    "nominal, binary, ordinal, or quantitative.\n",
    "\n",
    "* `id`: nominal \n",
    "* `material`: nominal\n",
    "* `name`: nominal\n",
    "* `development.phase`: ordinal\n",
    "* `location.city`: nominal\n",
    "* `location.latitude`: quantitative\n",
    "* `location.longitude`: quantitative\n",
    "* `statistics.height`: quantitative\n",
    "* `tall?`: binary"
   ]
  },
  {
   "cell_type": "markdown",
   "id": "spoken-biography",
   "metadata": {},
   "source": [
    "#### Q3.7)\n",
    "\n",
    "For each column in the dataset above, provide appropriate summary statistics in whatever way makes the most sense to concisely describe the data."
   ]
  },
  {
   "cell_type": "code",
   "execution_count": 31,
   "id": "visible-cartridge",
   "metadata": {},
   "outputs": [
    {
     "name": "stdout",
     "output_type": "stream",
     "text": [
      "ID:\n",
      "min id:  12\n",
      "max id:  24079\n",
      "\n",
      "Material:\n",
      "concrete          1366\n",
      "steel              875\n",
      "composite          123\n",
      "steel/concrete      33\n",
      "concrete/steel      22\n",
      "masonry              9\n",
      "precast              3\n",
      "Name: material, dtype: int64\n",
      "\n",
      "Name:\n",
      "There are 2430 different buildings with unique names\n",
      "\n",
      "Development Phase:\n",
      "Counts of skycrapers in each development phase:\n",
      " 3    2116\n",
      "2     200\n",
      "1     115\n",
      "Name: development.phase, dtype: int64\n",
      "\n",
      "Location (City):\n",
      "New York City    640\n",
      "Chicago          419\n",
      "Miami            130\n",
      "Houston           68\n",
      "San Francisco     68\n",
      "                ... \n",
      "Oak Park           1\n",
      "Meridian           1\n",
      "Orange Beach       1\n",
      "Waco               1\n",
      "Harrisburg         1\n",
      "Name: location.city, Length: 160, dtype: int64\n",
      "\n",
      "Location (Latitude):\n",
      "count    2431.000000\n",
      "mean       36.971992\n",
      "std         8.705251\n",
      "min         0.000000\n",
      "25%        34.051241\n",
      "50%        40.724869\n",
      "75%        41.876270\n",
      "max        61.215210\n",
      "Name: location.latitude, dtype: float64\n",
      "\n",
      "Location (Longitude):\n",
      "count    2431.000000\n",
      "mean      -86.321463\n",
      "std        23.685243\n",
      "min      -157.980072\n",
      "25%       -92.464108\n",
      "50%       -83.045433\n",
      "75%       -73.994576\n",
      "max         0.000000\n",
      "Name: location.longitude, dtype: float64\n",
      "\n",
      "Height:\n",
      "count    2431.000000\n",
      "mean      132.445401\n",
      "std        67.825184\n",
      "min         0.000000\n",
      "25%        99.000000\n",
      "50%       124.000000\n",
      "75%       156.970001\n",
      "max      1609.359985\n",
      "Name: statistics.height, dtype: float64\n",
      "\n",
      "Tall Buildings:\n",
      "True     1790\n",
      "False     641\n",
      "Name: tall?, dtype: int64\n"
     ]
    }
   ],
   "source": [
    "print(\"ID:\")\n",
    "print(\"min id: \",skyscrapers[\"id\"].min())\n",
    "print(\"max id: \",skyscrapers[\"id\"].max())\n",
    "\n",
    "print(\"\\nMaterial:\")\n",
    "print(skyscrapers[\"material\"].value_counts())\n",
    "\n",
    "print(\"\\nName:\")\n",
    "print(\"There are 2430 different buildings with unique names\")\n",
    "\n",
    "\n",
    "print(\"\\nDevelopment Phase:\")\n",
    "print(\"Counts of skycrapers in each development phase:\\n\",skyscrapers[\"development.phase\"].value_counts())\n",
    "\n",
    "\n",
    "print(\"\\nLocation (City):\")\n",
    "print(skyscrapers[\"location.city\"].value_counts())\n",
    "\n",
    "\n",
    "print(\"\\nLocation (Latitude):\")\n",
    "print(skyscrapers[\"location.latitude\"].describe())\n",
    "\n",
    "print(\"\\nLocation (Longitude):\")\n",
    "print(skyscrapers[\"location.longitude\"].describe())\n",
    "\n",
    "print(\"\\nHeight:\")\n",
    "print(skyscrapers[\"statistics.height\"].describe())\n",
    "\n",
    "print(\"\\nTall Buildings:\")\n",
    "print(skyscrapers[\"tall?\"].value_counts())"
   ]
  },
  {
   "cell_type": "code",
   "execution_count": null,
   "id": "combined-ribbon",
   "metadata": {},
   "outputs": [],
   "source": []
  },
  {
   "cell_type": "markdown",
   "id": "clean-procurement",
   "metadata": {},
   "source": [
    "#### Q3.8)\n",
    "\n",
    "Classify each of the following scenarios as \"paired\" or \"unpaired\" data.\n",
    "\n",
    "1. We draw two random samples from the complete set of skyscrapers. Both samples have 100 skyscrapers."
   ]
  },
  {
   "cell_type": "markdown",
   "id": "governmental-pulse",
   "metadata": {},
   "source": [
    "paired"
   ]
  },
  {
   "cell_type": "markdown",
   "id": "treated-lesson",
   "metadata": {},
   "source": [
    "2. We collect a new version of the dataset, updating the `\"development.phase\"` value in order to compare it to the old value."
   ]
  },
  {
   "cell_type": "markdown",
   "id": "initial-working",
   "metadata": {},
   "source": [
    "paired"
   ]
  },
  {
   "cell_type": "markdown",
   "id": "middle-february",
   "metadata": {},
   "source": [
    "3. We collect data about the architectures of each building, in order to see if there a relationship between the builder's age and the height of the building."
   ]
  },
  {
   "cell_type": "markdown",
   "id": "ruled-oklahoma",
   "metadata": {},
   "source": [
    "unpaired"
   ]
  },
  {
   "cell_type": "markdown",
   "id": "deluxe-yeast",
   "metadata": {},
   "source": [
    "# Part 4) Normality Checks"
   ]
  },
  {
   "cell_type": "markdown",
   "id": "second-obligation",
   "metadata": {},
   "source": [
    "Read the following page about normality tests:\n",
    "\n",
    "https://machinelearningmastery.com/a-gentle-introduction-to-normality-tests-in-python/\n"
   ]
  },
  {
   "cell_type": "markdown",
   "id": "recreational-radar",
   "metadata": {},
   "source": [
    "#### Q4.1)\n",
    "\n",
    "Some skyscrapers are much taller than most skyscrapers. Demonstrate this by creating a Histogram of that data."
   ]
  },
  {
   "cell_type": "code",
   "execution_count": 3,
   "id": "powerful-terrace",
   "metadata": {},
   "outputs": [
    {
     "data": {
      "image/png": "[encoded data removed]",
      "text/plain": [
       "<Figure size 432x288 with 1 Axes>"
      ]
     },
     "metadata": {
      "needs_background": "light"
     },
     "output_type": "display_data"
    }
   ],
   "source": [
    "x = skyscrapers['statistics.height']\n",
    "ax = sns.histplot(x, bins=[x*100 for x in range(18)])\n",
    "#Show frequency of each bin\n",
    "for p in ax.patches:\n",
    "    ax.annotate(f'{p.get_height():.0f}\\n',\n",
    "                (p.get_x() + p.get_width() / 2, p.get_height()), ha='center', va='center', color='red')    \n",
    "plt.xticks([x*200 for x in range(10)])\n",
    "plt.show()"
   ]
  },
  {
   "cell_type": "markdown",
   "id": "accomplished-dodge",
   "metadata": {},
   "source": [
    "#### Q4.2)\n",
    "\n",
    "Logarithmic transformations are often used in situations like this to make the visualizations easier to read.\n",
    "Why?"
   ]
  },
  {
   "cell_type": "markdown",
   "id": "outstanding-insight",
   "metadata": {},
   "source": [
    "Logarithmic transformations are useful for transforming data that is right skewed because it makes the resulting distribution more normal. It pulls extremely high data points back towards the median very easily, giving the data less spread and making it easier to read. "
   ]
  },
  {
   "cell_type": "markdown",
   "id": "welcome-marsh",
   "metadata": {},
   "source": [
    "#### Q4.3)\n",
    "\n",
    "Create a new version of your visualization that is log transformed, by manipulating the data.\n",
    "\n",
    "Hints:\n",
    "* You might find it helpful to increase the number of bins in the final version to produce a nicer looking graph.\n",
    "* Some of the data is dirty - remove zeroes!"
   ]
  },
  {
   "cell_type": "code",
   "execution_count": 4,
   "id": "musical-bones",
   "metadata": {},
   "outputs": [
    {
     "data": {
      "image/png": "[encoded data removed]",
      "text/plain": [
       "<Figure size 432x288 with 1 Axes>"
      ]
     },
     "metadata": {
      "needs_background": "light"
     },
     "output_type": "display_data"
    }
   ],
   "source": [
    "clean_log = np.log10(x[round(x, 1) != 0.0])\n",
    "bar_w = (clean_log.max()-clean_log.min())/25\n",
    "clean_log_plt = sns.histplot(clean_log, bins=[clean_log.min() + x*bar_w for x in range(30)])\n",
    "ticks = [clean_log.min() + x*bar_w for x in range(0, 30, 3)]\n",
    "plt.xticks([round(tick,2) for tick in ticks])\n",
    "plt.show()"
   ]
  },
  {
   "cell_type": "markdown",
   "id": "limiting-constitution",
   "metadata": {},
   "source": [
    "#### Q4.4)\n",
    "\n",
    "We wish to know if the data is now normally distributed. You can use a Shapiro Wilks test in `scipy.stats` to determine if a distribution is normal. This is demonstrated below."
   ]
  },
  {
   "cell_type": "code",
   "execution_count": 125,
   "id": "electric-ferry",
   "metadata": {},
   "outputs": [
    {
     "data": {
      "image/png": "[encoded data removed]",
      "text/plain": [
       "<Figure size 432x288 with 1 Axes>"
      ]
     },
     "metadata": {
      "needs_background": "light"
     },
     "output_type": "display_data"
    },
    {
     "name": "stdout",
     "output_type": "stream",
     "text": [
      "Normally Distributed Values: 0.9873840808868408 0.4639612138271332 False\n",
      "Since the pvalue is greater than 0.05, we accept the null hypothesis that it is normally distributed.\n"
     ]
    },
    {
     "data": {
      "image/png": "[encoded data removed]",
      "text/plain": [
       "<Figure size 432x288 with 1 Axes>"
      ]
     },
     "metadata": {
      "needs_background": "light"
     },
     "output_type": "display_data"
    },
    {
     "name": "stdout",
     "output_type": "stream",
     "text": [
      "Random Values: 0.9455756545066833 0.0004289667122066021 True\n",
      "Since the pvalue is less than 0.05, we reject the null hypothesis that it is normally distributed.\n"
     ]
    }
   ],
   "source": [
    "# Mean of 50, standard deviation of 10, create 100 numbers\n",
    "normal_values = stats.norm.rvs(loc=50, scale=10, size=100)\n",
    "plt.hist(normal_values)\n",
    "plt.title(\"Normal Distribution with Mean of 50\")\n",
    "plt.ylabel(\"Frequency\")\n",
    "plt.show()\n",
    "\n",
    "test_statistic, p_value = stats.shapiro(normal_values)\n",
    "print(\"Normally Distributed Values:\", test_statistic, p_value, p_value < .05)\n",
    "print(\"Since the pvalue is greater than 0.05, we accept the null hypothesis that it is normally distributed.\")\n",
    "\n",
    "# Mean of 50, standard deviation of 10, create 100 numbers\n",
    "normal_values = stats.randint.rvs(low=0, high=100, size=100)\n",
    "plt.hist(normal_values)\n",
    "plt.title(\"Random Distribution\")\n",
    "plt.ylabel(\"Frequency\")\n",
    "plt.show()\n",
    "\n",
    "test_statistic, p_value = stats.shapiro(normal_values)\n",
    "print(\"Random Values:\", test_statistic, p_value, p_value < .05)\n",
    "print(\"Since the pvalue is less than 0.05, we reject the null hypothesis that it is normally distributed.\")"
   ]
  },
  {
   "cell_type": "markdown",
   "id": "collaborative-cornwall",
   "metadata": {},
   "source": [
    "Building off our example, determine if:\n",
    "\n",
    "1. The original untransformed heights follow a normal distribution.\n",
    "2. The log-transformed heights follow a normal distribution.\n",
    "\n",
    "Be sure to use an appropriate test."
   ]
  },
  {
   "cell_type": "code",
   "execution_count": 5,
   "id": "peaceful-collar",
   "metadata": {},
   "outputs": [
    {
     "data": {
      "image/png": "[encoded data removed]",
      "text/plain": [
       "<Figure size 432x288 with 1 Axes>"
      ]
     },
     "metadata": {
      "needs_background": "light"
     },
     "output_type": "display_data"
    },
    {
     "name": "stdout",
     "output_type": "stream",
     "text": [
      "Original height values: 0.7651559710502625 0.0 True\n",
      "Since the pvalue is less than 0.05, we reject the null hypothesis that it is normally distributed.\n",
      "\n"
     ]
    },
    {
     "data": {
      "image/png": "[encoded data removed]",
      "text/plain": [
       "<Figure size 432x288 with 1 Axes>"
      ]
     },
     "metadata": {
      "needs_background": "light"
     },
     "output_type": "display_data"
    },
    {
     "name": "stdout",
     "output_type": "stream",
     "text": [
      "Log transformed values: 0.9857645034790039 1.445548291256673e-14 True\n",
      "Since the pvalue is greater than 0.05, we accept the null hypothesis that it is normally distributed.\n",
      "\n"
     ]
    }
   ],
   "source": [
    "# Original, untransformed heights\n",
    "ax = sns.histplot(x, bins=[x*100 for x in range(18)])\n",
    "plt.title(\"Original skyscraper heights\")\n",
    "plt.ylabel(\"Frequency\")\n",
    "#Show frequency of each bin\n",
    "for p in ax.patches:\n",
    "    ax.annotate(f'{p.get_height():.0f}\\n',\n",
    "                (p.get_x() + p.get_width() / 2, p.get_height()), ha='center', va='center', color='red')    \n",
    "plt.xticks([x*200 for x in range(10)])\n",
    "plt.show()\n",
    "\n",
    "test_statistic, p_value = stats.shapiro(x)\n",
    "print(\"Original height values:\", test_statistic, p_value, p_value < .05)\n",
    "print(\"Since the pvalue is less than 0.05, we reject the null hypothesis that it is normally distributed.\\n\")\n",
    "\n",
    "# Log transformed heights\n",
    "sns.histplot(clean_log, bins=[clean_log.min() + x*bar_w for x in range(30)])\n",
    "plt.title(\"Log tarnsformed heights\")\n",
    "plt.ylabel(\"Frequency\")\n",
    "plt.show()\n",
    "\n",
    "test_statistic, p_value = stats.shapiro(clean_log)\n",
    "print(\"Log transformed values:\", test_statistic, p_value, p_value < .05)\n",
    "print(\"Since the pvalue is greater than 0.05, we accept the null hypothesis that it is normally distributed.\\n\")"
   ]
  },
  {
   "cell_type": "markdown",
   "id": "floppy-emission",
   "metadata": {},
   "source": [
    "#### Q4.5)\n",
    "\n",
    "Would it be appropriate to use parameteric statistics on this data?"
   ]
  },
  {
   "cell_type": "markdown",
   "id": "center-bottom",
   "metadata": {},
   "source": [
    "Using parametric statistics depend on the data being normally distributed. Despite the logarithmic transformation, out data is still not normally distributed, so we will **not** use parametric statistics"
   ]
  },
  {
   "cell_type": "markdown",
   "id": "binding-istanbul",
   "metadata": {},
   "source": [
    "# Part 5) Correlation Analysis\n",
    "\n",
    "Read over the following page: https://www.ncbi.nlm.nih.gov/pmc/articles/PMC2996580/"
   ]
  },
  {
   "cell_type": "markdown",
   "id": "still-dating",
   "metadata": {},
   "source": [
    "#### Q5.1)\n",
    "\n",
    "In your own words, define the following terms:\n",
    "\n",
    "1) Hypothesis"
   ]
  },
  {
   "cell_type": "markdown",
   "id": "fiscal-source",
   "metadata": {},
   "source": []
  },
  {
   "cell_type": "markdown",
   "id": "motivated-david",
   "metadata": {},
   "source": [
    "2) Hypothesis Test"
   ]
  },
  {
   "cell_type": "markdown",
   "id": "selective-devon",
   "metadata": {},
   "source": []
  },
  {
   "cell_type": "markdown",
   "id": "large-summit",
   "metadata": {},
   "source": [
    "3) P-value"
   ]
  },
  {
   "cell_type": "markdown",
   "id": "novel-copying",
   "metadata": {},
   "source": []
  },
  {
   "cell_type": "markdown",
   "id": "searching-landing",
   "metadata": {},
   "source": [
    "4) Null Hypothesis"
   ]
  },
  {
   "cell_type": "markdown",
   "id": "hungry-morning",
   "metadata": {},
   "source": []
  },
  {
   "cell_type": "markdown",
   "id": "detected-complement",
   "metadata": {},
   "source": [
    "5. \"Approaching Significance\" (read over [this webpage](https://mchankins.wordpress.com/2013/04/21/still-not-significant-2/))"
   ]
  },
  {
   "cell_type": "markdown",
   "id": "sporting-dayton",
   "metadata": {},
   "source": []
  },
  {
   "cell_type": "markdown",
   "id": "collected-movement",
   "metadata": {},
   "source": [
    "#### Q5.2)\n",
    "\n",
    "Make a list of all the criteria you should consider when choosing an appropriate statistical test.\n",
    "Additionally, embed a flowchart that can help visually demonstrate the critiera you should use."
   ]
  },
  {
   "cell_type": "markdown",
   "id": "mighty-participant",
   "metadata": {},
   "source": [
    "1. \n",
    "2.\n",
    "3.\n",
    "\n",
    "..."
   ]
  },
  {
   "cell_type": "markdown",
   "id": "marine-roads",
   "metadata": {},
   "source": [
    "#### Q5.3)\n",
    "\n",
    "For each of the following statistical test functions from `scipy`, provide the following information:\n",
    "\n",
    "* Function: The name of the function in Scipy\n",
    "* Link: The URL to the documentation of the test.\n",
    "* Test: A more human-readable name of the test\n",
    "* Description: A quick one-sentence description of the test indicating clearly what it is used for\n",
    "* Assumptions: A list of any assumptions made by the test.\n",
    "* Example: An example of how you might use this test"
   ]
  },
  {
   "cell_type": "markdown",
   "id": "unlikely-pastor",
   "metadata": {},
   "source": [
    "##### f_oneway\n",
    "\n",
    "* Function: `f_oneway`\n",
    "* Link: https://docs.scipy.org/doc/scipy/reference/generated/scipy.stats.f_oneway.html\n",
    "* Test: One-way ANOVA\n",
    "* Description: A parametric test for 2+ independent samples to determine if they have the same population mean. \n",
    "* Assumptions:\n",
    "    * Samples must be independent\n",
    "    * Population is normally distributed\n",
    "    * Populations' standard deviations are equal\n",
    "* Example: Take a big group of students, break them up by gender, and see if their heights differ by gender."
   ]
  },
  {
   "cell_type": "markdown",
   "id": "grateful-modem",
   "metadata": {},
   "source": [
    "##### pearsonr\n",
    "\n",
    "* Function: ```pearsonr```\n",
    "* Link: https://docs.scipy.org/doc/scipy/reference/generated/scipy.stats.pearsonr.html\n",
    "* Test: Pearson Correlaton Coefficient\n",
    "* Description: A coefficient that measures the linear relationship between two datasets\n",
    "* Assumptions:\n",
    "    * Both variable should be continuous\n",
    "    * Each datapoint has a value for both variables\n",
    "    * Each case/datapoint should be independent of each other\n",
    "    * There is a linear relationship between the two variables\n",
    "    * Both variables should have a normal distribution\n",
    "    * Homoscedasticity - While moving along the line of best fit, the variance should remain similar\n",
    "    * There should be no univatiate (among each variable) or bivariate (when both variables are combined) outliers\n",
    "\n",
    "* Example: Measuing the relationship between calories and sodium in different types of chips\n"
   ]
  },
  {
   "cell_type": "markdown",
   "id": "absent-veteran",
   "metadata": {},
   "source": [
    "##### spearmanr\n",
    "\n",
    "* Function: ```spearmanr```\n",
    "* Link: https://docs.scipy.org/doc/scipy/reference/generated/scipy.stats.spearmanr.html\n",
    "* Test: Spearman Correlation Coefficient\n",
    "* Description: This measures the strength and direction of association between two ranked variables.\n",
    "* Assumptions:\n",
    "    * Two variables that are either ordinal or continuous\n",
    "    * **Does not** have to be applied to linear relationship, only a monotonic one (strictly increasing or decreasing). \n",
    "      * Good to use when Pearson Correlation Coefficient assumptions are violated\n",
    "* Example: The relationship between final exam scores in physics and math class"
   ]
  },
  {
   "cell_type": "markdown",
   "id": "static-sussex",
   "metadata": {},
   "source": [
    "##### pointbiserialr\n",
    "\n",
    "* Function: ```pointbiserialr```\n",
    "* Link: https://docs.scipy.org/doc/scipy/reference/generated/scipy.stats.pointbiserialr.html\n",
    "* Test: Biserial Correlation Coefficient\n",
    "* Description: Measures the relationship between a binary variable, x, and a continuous variable, y\n",
    "* Assumptions:\n",
    "    * One variable should be continuous\n",
    "    * The other variable should be binary\n",
    "    * There are no outliers for the continuous variable for each category of te binary variable\n",
    "    * The continuous variable should be approximately normally distributed\n",
    "    * The continuous variable should have equal variances for each category of the binary variable\n",
    "* Example: Determining whether there is an association between gender and salary"
   ]
  },
  {
   "cell_type": "markdown",
   "id": "soviet-cocktail",
   "metadata": {},
   "source": [
    "##### kendalltau\n",
    "\n",
    "* Function: ```kendalltau```\n",
    "* Link: https://docs.scipy.org/doc/scipy/reference/generated/scipy.stats.kendalltau.html\n",
    "* Test: Kendall Correlation Coefficient\n",
    "* Description: A measure of rank correlation that compares the similarity of the orderings of the data when ranked by each of the quantities.\n",
    "* Assumptions:\n",
    "    * Variables must be continuous or ordinal\n",
    "    * Variables must have a monotonic relationship (direction of relationship is consistently positive or negative)\n",
    "* Example: Comparing how two interviewers ranked candidates in order of preference\n",
    "\n",
    "[Spearman correlation vs Kendall correlation](https://datascience.stackexchange.com/questions/64260/pearson-vs-spearman-vs-kendall)\n",
    "\n",
    "* In the normal case, Kendall correlation is more robust and efficient than Spearman correlation. It means that Kendall correlation is preferred when there are small samples or some outliers.\n",
    "* Kendall correlation has a O(n^2) computation complexity comparing with O(n logn) of Spearman correlation, where n is the sample size.\n",
    "* Spearman’s rho usually is larger than Kendall’s tau.\n",
    "* The interpretation of Kendall’s tau in terms of the probabilities of observing the agreeable (concordant) and non-agreeable (discordant) pairs is very direct."
   ]
  },
  {
   "cell_type": "markdown",
   "id": "square-video",
   "metadata": {},
   "source": [
    "##### ttest_1samp\n",
    "\n",
    "* Function:\n",
    "* Link:\n",
    "* Test:\n",
    "* Description:\n",
    "* Assumptions:\n",
    "* Example:"
   ]
  },
  {
   "cell_type": "markdown",
   "id": "dependent-tolerance",
   "metadata": {},
   "source": [
    "##### ttest_ind\n",
    "\n",
    "* Function:\n",
    "* Link:\n",
    "* Test:\n",
    "* Description:\n",
    "* Assumptions:\n",
    "* Example:"
   ]
  },
  {
   "cell_type": "markdown",
   "id": "impressed-spelling",
   "metadata": {},
   "source": [
    "##### ttest_rel\n",
    "\n",
    "* Function:\n",
    "* Link:\n",
    "* Test:\n",
    "* Description:\n",
    "* Assumptions:\n",
    "* Example:"
   ]
  },
  {
   "cell_type": "markdown",
   "id": "juvenile-purpose",
   "metadata": {},
   "source": [
    "##### chisquare\n",
    "\n",
    "* Function:\n",
    "* Link:\n",
    "* Test:\n",
    "* Description:\n",
    "* Assumptions:\n",
    "* Example:"
   ]
  },
  {
   "cell_type": "markdown",
   "id": "changed-color",
   "metadata": {},
   "source": [
    "##### mannwhitneyu\n",
    "\n",
    "* Function:\n",
    "* Link:\n",
    "* Test:\n",
    "* Description:\n",
    "* Assumptions:\n",
    "* Example:"
   ]
  },
  {
   "cell_type": "markdown",
   "id": "emotional-wednesday",
   "metadata": {},
   "source": [
    "##### kstest\n",
    "\n",
    "* Function:\n",
    "* Link:\n",
    "* Test:\n",
    "* Description:\n",
    "* Assumptions:\n",
    "* Example:"
   ]
  },
  {
   "cell_type": "markdown",
   "id": "portable-associate",
   "metadata": {},
   "source": [
    "##### wilcoxon\n",
    "\n",
    "* Function:\n",
    "* Link:\n",
    "* Test:\n",
    "* Description:\n",
    "* Assumptions:\n",
    "* Example:"
   ]
  },
  {
   "cell_type": "markdown",
   "id": "recreational-centre",
   "metadata": {},
   "source": [
    "##### kruskal\n",
    "\n",
    "* Function:\n",
    "* Link:\n",
    "* Test:\n",
    "* Description:\n",
    "* Assumptions:\n",
    "* Example:"
   ]
  },
  {
   "cell_type": "markdown",
   "id": "terminal-garbage",
   "metadata": {},
   "source": [
    "#### Q5.4)"
   ]
  },
  {
   "cell_type": "markdown",
   "id": "based-brisbane",
   "metadata": {},
   "source": [
    "For each scenario below, identify what test you might choose.\n",
    "\n",
    "1. If we wished to test whether there was any association between Gender and uptake of Flu vaccination which would be the best test to choose?"
   ]
  },
  {
   "cell_type": "markdown",
   "id": "saved-finnish",
   "metadata": {},
   "source": []
  },
  {
   "cell_type": "markdown",
   "id": "covered-press",
   "metadata": {},
   "source": [
    "2. If we wished to test if there was a difference between the gestational age of babies at birth (how far along the pregnancy is, in weeks) and the use of a nutritional supplement by their mothers during pregnancy which would be the best test to choose?"
   ]
  },
  {
   "cell_type": "markdown",
   "id": "adverse-accessory",
   "metadata": {},
   "source": []
  },
  {
   "cell_type": "markdown",
   "id": "opened-burton",
   "metadata": {},
   "source": [
    "3. The cotinine level was measured in women at the beginning and end of their pregnancy. The change in cotinine was presented on a Log scale. Which would be the best test to use to see if there had been a change in cotinine level during pregnancy?"
   ]
  },
  {
   "cell_type": "markdown",
   "id": "alike-blowing",
   "metadata": {},
   "source": []
  },
  {
   "cell_type": "markdown",
   "id": "great-multiple",
   "metadata": {},
   "source": [
    "4. If we wished to estimate the strength of the linear relationship between the weight of a mother and the weight of her baby at birth which would be the best test to choose?"
   ]
  },
  {
   "cell_type": "markdown",
   "id": "framed-craps",
   "metadata": {},
   "source": []
  },
  {
   "cell_type": "markdown",
   "id": "incorporate-reservoir",
   "metadata": {},
   "source": [
    "5. The pre-operative and post-operative anxiety levels of adolescent patients undergoing orthopaedic surgery were measured using the State-Trait Anxiety Inventory STAI scale. The authors reported the pre-operative anxiety levels as mean = 33.8 (SD = 5.1) and post-operative anxiety levels as mean = 38.8 (SD = 7.2). They also performed a Shapiro-Wilks Test demonstrating that the data is normal. Which would have been the most appropriate test to assess the relationship between pre and post operative anxiety?"
   ]
  },
  {
   "cell_type": "markdown",
   "id": "significant-facing",
   "metadata": {},
   "source": []
  },
  {
   "cell_type": "markdown",
   "id": "turned-walter",
   "metadata": {},
   "source": [
    "6. Salaries in the United States are heavily skewed. If you were investigating salaries between Software Engineers and non-Software Engineers, which test would be most appropriate?"
   ]
  },
  {
   "cell_type": "markdown",
   "id": "integral-murray",
   "metadata": {},
   "source": []
  },
  {
   "cell_type": "markdown",
   "id": "hungry-championship",
   "metadata": {},
   "source": [
    "7. As previously mentioned, salaries in the United States are heavily skewed. You conduct a survey of 100 folks (selected completely at random from the US), asking their salary and their \"satisfaction their salary\" with the possible responses \"Very Happy\", \"Happy\", \"Neutral\", \"Unhappy\", and \"Very Unhappy\". What test could you use to determine the relationship between these two values?"
   ]
  },
  {
   "cell_type": "markdown",
   "id": "small-canadian",
   "metadata": {},
   "source": []
  },
  {
   "cell_type": "markdown",
   "id": "liable-language",
   "metadata": {},
   "source": [
    "8. It is 2022, and the revolution has begun. It is chaos in the streets, and societal upheaval is everywhere. Strangely, you are more interested in doing data science, and are now investigating whether salaries are still skewed. You go back to the 100 folks you talked to previously, and ask them for their new salary data. What test can help you determine if there is a change?"
   ]
  },
  {
   "cell_type": "markdown",
   "id": "nominated-honolulu",
   "metadata": {},
   "source": []
  },
  {
   "cell_type": "markdown",
   "id": "bulgarian-harbor",
   "metadata": {},
   "source": [
    "#### Q5.5)\n",
    "\n",
    "Recall the skyscrapers data we looked at before."
   ]
  },
  {
   "cell_type": "code",
   "execution_count": 150,
   "id": "comparable-morris",
   "metadata": {},
   "outputs": [
    {
     "data": {
      "text/html": [
       "<div>\n",
       "<style scoped>\n",
       "    .dataframe tbody tr th:only-of-type {\n",
       "        vertical-align: middle;\n",
       "    }\n",
       "\n",
       "    .dataframe tbody tr th {\n",
       "        vertical-align: top;\n",
       "    }\n",
       "\n",
       "    .dataframe thead th {\n",
       "        text-align: right;\n",
       "    }\n",
       "</style>\n",
       "<table border=\"1\" class=\"dataframe\">\n",
       "  <thead>\n",
       "    <tr style=\"text-align: right;\">\n",
       "      <th></th>\n",
       "      <th>id</th>\n",
       "      <th>material</th>\n",
       "      <th>name</th>\n",
       "      <th>development.phase</th>\n",
       "      <th>location.city</th>\n",
       "      <th>location.latitude</th>\n",
       "      <th>location.longitude</th>\n",
       "      <th>statistics.height</th>\n",
       "      <th>tall?</th>\n",
       "    </tr>\n",
       "  </thead>\n",
       "  <tbody>\n",
       "    <tr>\n",
       "      <th>0</th>\n",
       "      <td>12</td>\n",
       "      <td>steel</td>\n",
       "      <td>The Illinois</td>\n",
       "      <td>1</td>\n",
       "      <td>Chicago</td>\n",
       "      <td>0.000000</td>\n",
       "      <td>0.000000</td>\n",
       "      <td>1609.359985</td>\n",
       "      <td>True</td>\n",
       "    </tr>\n",
       "    <tr>\n",
       "      <th>1</th>\n",
       "      <td>62</td>\n",
       "      <td>composite</td>\n",
       "      <td>Chicago Spire</td>\n",
       "      <td>2</td>\n",
       "      <td>Chicago</td>\n",
       "      <td>41.889889</td>\n",
       "      <td>-87.614861</td>\n",
       "      <td>609.599976</td>\n",
       "      <td>True</td>\n",
       "    </tr>\n",
       "    <tr>\n",
       "      <th>2</th>\n",
       "      <td>68</td>\n",
       "      <td>composite</td>\n",
       "      <td>Miglin-Beitler Skyneedle</td>\n",
       "      <td>1</td>\n",
       "      <td>Chicago</td>\n",
       "      <td>41.881618</td>\n",
       "      <td>-87.634354</td>\n",
       "      <td>609.489990</td>\n",
       "      <td>True</td>\n",
       "    </tr>\n",
       "    <tr>\n",
       "      <th>3</th>\n",
       "      <td>98</td>\n",
       "      <td>composite</td>\n",
       "      <td>One World Trade Center</td>\n",
       "      <td>3</td>\n",
       "      <td>New York City</td>\n",
       "      <td>40.713112</td>\n",
       "      <td>-74.013351</td>\n",
       "      <td>541.299988</td>\n",
       "      <td>True</td>\n",
       "    </tr>\n",
       "    <tr>\n",
       "      <th>4</th>\n",
       "      <td>14269</td>\n",
       "      <td>concrete</td>\n",
       "      <td>Central Park Tower</td>\n",
       "      <td>2</td>\n",
       "      <td>New York City</td>\n",
       "      <td>40.766361</td>\n",
       "      <td>-73.980949</td>\n",
       "      <td>541.020020</td>\n",
       "      <td>True</td>\n",
       "    </tr>\n",
       "  </tbody>\n",
       "</table>\n",
       "</div>"
      ],
      "text/plain": [
       "      id   material                      name  development.phase  \\\n",
       "0     12      steel              The Illinois                  1   \n",
       "1     62  composite             Chicago Spire                  2   \n",
       "2     68  composite  Miglin-Beitler Skyneedle                  1   \n",
       "3     98  composite    One World Trade Center                  3   \n",
       "4  14269   concrete        Central Park Tower                  2   \n",
       "\n",
       "   location.city  location.latitude  location.longitude  statistics.height  \\\n",
       "0        Chicago           0.000000            0.000000        1609.359985   \n",
       "1        Chicago          41.889889          -87.614861         609.599976   \n",
       "2        Chicago          41.881618          -87.634354         609.489990   \n",
       "3  New York City          40.713112          -74.013351         541.299988   \n",
       "4  New York City          40.766361          -73.980949         541.020020   \n",
       "\n",
       "   tall?  \n",
       "0   True  \n",
       "1   True  \n",
       "2   True  \n",
       "3   True  \n",
       "4   True  "
      ]
     },
     "execution_count": 150,
     "metadata": {},
     "output_type": "execute_result"
    }
   ],
   "source": [
    "skyscrapers.head()"
   ]
  },
  {
   "cell_type": "markdown",
   "id": "convenient-washington",
   "metadata": {},
   "source": [
    "Is there a relationship between a Skyscrapers latitude and height?"
   ]
  },
  {
   "cell_type": "code",
   "execution_count": null,
   "id": "gorgeous-fraction",
   "metadata": {},
   "outputs": [],
   "source": []
  },
  {
   "cell_type": "markdown",
   "id": "first-variance",
   "metadata": {},
   "source": [
    "Are `New York City` skyscrapers bigger than `Chicago` skyscrapers?"
   ]
  },
  {
   "cell_type": "code",
   "execution_count": null,
   "id": "burning-asthma",
   "metadata": {},
   "outputs": [],
   "source": []
  },
  {
   "cell_type": "markdown",
   "id": "treated-morning",
   "metadata": {},
   "source": [
    "In the dataset, completed skyscrapers are phase 3, in-progress skyscrapers are phase 2, and not-started skyscrapers are phase 1.\n",
    "Considering only skyscrapers made with concrete and steel, is there a difference in the distribution of the different development phases between the two materials? "
   ]
  },
  {
   "cell_type": "code",
   "execution_count": 157,
   "id": "brave-suicide",
   "metadata": {},
   "outputs": [
    {
     "data": {
      "text/html": [
       "<div>\n",
       "<style scoped>\n",
       "    .dataframe tbody tr th:only-of-type {\n",
       "        vertical-align: middle;\n",
       "    }\n",
       "\n",
       "    .dataframe tbody tr th {\n",
       "        vertical-align: top;\n",
       "    }\n",
       "\n",
       "    .dataframe thead th {\n",
       "        text-align: right;\n",
       "    }\n",
       "</style>\n",
       "<table border=\"1\" class=\"dataframe\">\n",
       "  <thead>\n",
       "    <tr style=\"text-align: right;\">\n",
       "      <th>development.phase</th>\n",
       "      <th>1</th>\n",
       "      <th>2</th>\n",
       "      <th>3</th>\n",
       "    </tr>\n",
       "    <tr>\n",
       "      <th>material</th>\n",
       "      <th></th>\n",
       "      <th></th>\n",
       "      <th></th>\n",
       "    </tr>\n",
       "  </thead>\n",
       "  <tbody>\n",
       "    <tr>\n",
       "      <th>concrete</th>\n",
       "      <td>99</td>\n",
       "      <td>162</td>\n",
       "      <td>1105</td>\n",
       "    </tr>\n",
       "    <tr>\n",
       "      <th>steel</th>\n",
       "      <td>9</td>\n",
       "      <td>10</td>\n",
       "      <td>856</td>\n",
       "    </tr>\n",
       "  </tbody>\n",
       "</table>\n",
       "</div>"
      ],
      "text/plain": [
       "development.phase   1    2     3\n",
       "material                        \n",
       "concrete           99  162  1105\n",
       "steel               9   10   856"
      ]
     },
     "execution_count": 157,
     "metadata": {},
     "output_type": "execute_result"
    }
   ],
   "source": []
  },
  {
   "cell_type": "markdown",
   "id": "postal-softball",
   "metadata": {},
   "source": [
    "# Part 6) Effect Sizes\n",
    "\n",
    "Watch the videos, and answer the questions.\n",
    "\n",
    "https://youtu.be/PyNzbDbjs1Y"
   ]
  },
  {
   "cell_type": "markdown",
   "id": "packed-earth",
   "metadata": {},
   "source": [
    "#### Q6.1)\n",
    "\n",
    "Why is it important to present p-values AND effect sizes?"
   ]
  },
  {
   "cell_type": "markdown",
   "id": "retired-course",
   "metadata": {},
   "source": []
  },
  {
   "cell_type": "markdown",
   "id": "ecological-carbon",
   "metadata": {},
   "source": [
    "#### Q6.2)\n",
    "\n",
    "The video briefly suggests some ways to calculate effect size. For each of the following, give a brief explanation:\n"
   ]
  },
  {
   "cell_type": "markdown",
   "id": "governing-comedy",
   "metadata": {},
   "source": [
    "* Pearson Correlation: \n",
    "* R Squared: \n",
    "* Cohen's d Effect Size: \n",
    "* Eta Squared:\n",
    "* Odds Ratio:"
   ]
  },
  {
   "cell_type": "markdown",
   "id": "cutting-water",
   "metadata": {},
   "source": [
    "#### Q6.3)\n",
    "\n",
    "Watch the following video, then answer the question below.\n",
    "\n",
    "https://youtu.be/6uYNVCy-8NA"
   ]
  },
  {
   "cell_type": "markdown",
   "id": "after-briefing",
   "metadata": {},
   "source": [
    "In the video, the speaker suggests concrete ways to interpret effect sizes. However, Cohen warned about turning effect size numbers into ideas of \"small\", \"medium\", and \"large\". What is dangerous about interpreting effect size values?"
   ]
  },
  {
   "cell_type": "markdown",
   "id": "color-listing",
   "metadata": {},
   "source": []
  },
  {
   "cell_type": "markdown",
   "id": "super-frank",
   "metadata": {},
   "source": [
    "#### Q6.4)\n",
    "\n",
    "Your arch-nemesis stands up and reports, \"In our study, we found a significant difference between the control group and the treatment group. Clearly, my research team deserves more funding.\" You raise your hand to ask a question - what do you ask?"
   ]
  },
  {
   "cell_type": "markdown",
   "id": "bound-aside",
   "metadata": {},
   "source": []
  },
  {
   "cell_type": "markdown",
   "id": "incoming-peoples",
   "metadata": {},
   "source": [
    "#### Q6.5)\n",
    "\n",
    "Previously, you were asked to calculate whether there was a significant difference between `New York City` and `Chicago` skyscrapers. Now provide a measure of effect size to fully characterize their difference."
   ]
  },
  {
   "cell_type": "code",
   "execution_count": null,
   "id": "animal-record",
   "metadata": {},
   "outputs": [],
   "source": []
  }
 ],
 "metadata": {
  "kernelspec": {
   "display_name": "Python 3",
   "language": "python",
   "name": "python3"
  },
  "language_info": {
   "codemirror_mode": {
    "name": "ipython",
    "version": 3
   },
   "file_extension": ".py",
   "mimetype": "text/x-python",
   "name": "python",
   "nbconvert_exporter": "python",
   "pygments_lexer": "ipython3",
   "version": "3.9.2"
  }
 },
 "nbformat": 4,
 "nbformat_minor": 5
}
