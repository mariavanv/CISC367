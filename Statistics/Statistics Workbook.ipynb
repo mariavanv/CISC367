{
 "cells": [
  {
   "cell_type": "code",
   "execution_count": 1,
   "id": "better-ivory",
   "metadata": {},
   "outputs": [],
   "source": [
    "import random\n",
    "random.seed(0)\n",
    "import pandas as pd\n",
    "import numpy as np\n",
    "np.random.seed(0)\n",
    "from scipy import stats\n",
    "import seaborn as sns\n",
    "import matplotlib.pyplot as plt\n",
    "from IPython.display import YouTubeVideo"
   ]
  },
  {
   "cell_type": "markdown",
   "id": "received-people",
   "metadata": {},
   "source": [
    "# Super Statistics\n",
    "\n",
    "This lesson is designed to orient you to statistical thinking and give you practice with Python's statistics library (`scipy`).\n",
    "\n",
    "The assignment will be a mixture of reading informative pages, watching videos, and answering questions. Please do your best and seek help as needed!\n",
    "\n",
    "### Learning Goals\n",
    "\n",
    "By the end of the lesson, students should be able to:\n",
    "\n",
    "* Part 1\n",
    "    * Explain the concept of probability vs. statistics\n",
    "* Part 2\n",
    "    * Generate data using a distribution function from `scipy`\n",
    "* Part 3\n",
    "    * Given a dataset, generate and interpret appropriate summary statistics using `scipy`\n",
    "    * Classify data as continuous, categorical, or binary\n",
    "    * Differentiate between paired and unpaired data\n",
    "    * Apply logarithms to manipulate a distribution\n",
    "* Part 4\n",
    "    * Determine the distribution of a dataset using `scipy`\n",
    "    * Describe and justify the use of parameteric vs. non-parameteric statistics\n",
    "* Part 5\n",
    "    * Create and interpret a statistical hypothesis\n",
    "    * Given a dataset, perform and interpret correlation analysis using `scipy`\n",
    "    * Given a hypothesis and dataset, perform and interpret an appropriate statistical test using `scipy`\n",
    "    * Explain the concept of statistical significance\n",
    "* Part 6\n",
    "    * Describe and explain the purpose of effect sizes\n",
    "    * Calculate an effect size\n",
    "\n",
    "### Caveat\n",
    "\n",
    "I want to start by admitting that I am not as good at statistics as I am at Computer Science. I did distinctly *okay* in my undergraduate statistics class. I would even say that I didn't genuinely learn statistics until I got to graduate school, and had my own datasets. However, that was the turning point - I suddenly understood things so much better when I had a context I cared about. Context is key to learning - I believe statistics is very challenging for many folks because they don't see how it applies to things they are interested in.\n",
    "\n",
    "You might walk into this assignment with more statistics knowledge than me, or alternatively you might be a complete novice. Either way, I'd like to make sure everyone leaves the assignment better than they were. This will probably include me, Dr. Bart. If you identify mistakes or errors, don't be afraid to raise them up in the Discord or the Ohyay. I am only human, this assignment was created in a single day, and I don't have a huge background in statistics. Errors or even misconceptions are likely! I'd rather we all collaboratively improve, then have been right.\n",
    "\n",
    "# Part 1) Basic Statistics\n",
    "\n",
    "Watch the following video, and then answer the following questions below.\n",
    "\n",
    "<https://youtu.be/PufDBlSsqys>"
   ]
  },
  {
   "cell_type": "markdown",
   "id": "rural-palestine",
   "metadata": {},
   "source": [
    "#### Q1.1)\n",
    "What is the difference between probablity and statistics? Define both terms clearly, especially in terms of their different goals."
   ]
  },
  {
   "cell_type": "markdown",
   "id": "spare-poison",
   "metadata": {},
   "source": [
    "Probability is the theoretical model for observations, whereas statistics is based on analysis of observations and experimental data. \n",
    "\n",
    "Probability is used to predict what will happen based on a perfect model, whereas statistics can be used to inform the model based off of empirical evidence and actual observations. \n",
    "\n",
    "The goal of probability is to make predictions, statistics lets us test those predictions"
   ]
  },
  {
   "cell_type": "markdown",
   "id": "altered-inflation",
   "metadata": {},
   "source": [
    "# Part 2) Distributions\n",
    "\n",
    "#### Q2.1)\n",
    "\n",
    "In statistics, what is a \"Random Variable\"? How is it different from an Algebraic Variable or a Computer Science Variable?"
   ]
  },
  {
   "cell_type": "markdown",
   "id": "about-ethics",
   "metadata": {},
   "source": [
    "A random variable is a variable that follows some probability distribution. It cannot be calculated or solved for like an Algebraic Variable, as there is always some randomness to it. A computer science variable can be set by the programmer, but its value is always known."
   ]
  },
  {
   "cell_type": "markdown",
   "id": "equipped-april",
   "metadata": {},
   "source": [
    "#### Q2.2)\n",
    "In statistics, what is a \"Probability Distribution\"?"
   ]
  },
  {
   "cell_type": "markdown",
   "id": "human-india",
   "metadata": {},
   "source": [
    "A probability distribution gives the probability of every possible outcome of an experiment. For example, the probability distribution for a coin flip would be .5 for \"heads\" and .5 for \"tails\". "
   ]
  },
  {
   "cell_type": "markdown",
   "id": "polished-reservation",
   "metadata": {},
   "source": [
    "#### Q2.3)\n",
    "\n",
    "In Discrete Math, what is a \"Function\"?"
   ]
  },
  {
   "cell_type": "markdown",
   "id": "dental-appreciation",
   "metadata": {},
   "source": [
    "\"A function or mapping (Defined as f:X→Y) is a relationship from elements of one set X to elements of another set Y\"\n",
    "\n",
    "Essentially, a function takes one set and transforms it into another. For exammple, if f(x) = 2x, then 1 would map to 2, 2 would map to 4, and so on.\n",
    "\n",
    "Source: https://www.tutorialspoint.com/discrete_mathematics/discrete_mathematics_functions.htm"
   ]
  },
  {
   "cell_type": "markdown",
   "id": "integral-polish",
   "metadata": {},
   "source": [
    "#### Q2.4)\n",
    "\n",
    "What is the relationship between a random variable and the concept of a \"nullary function\" like the following?"
   ]
  },
  {
   "cell_type": "code",
   "execution_count": 3,
   "id": "integral-visiting",
   "metadata": {},
   "outputs": [
    {
     "data": {
      "text/plain": [
       "[9, 3, 8, 2, 4, 2, 1, 9, 4, 8]"
      ]
     },
     "execution_count": 3,
     "metadata": {},
     "output_type": "execute_result"
    }
   ],
   "source": [
    "def X(): return random.randint(0, 10)\n",
    "\n",
    "[X() for i in range(10)]"
   ]
  },
  {
   "cell_type": "markdown",
   "id": "latin-history",
   "metadata": {},
   "source": [
    "A nullary function takes no input, and gives an output.\n",
    "\n",
    "A random variable also takes no inputs but produces a value. \n",
    "\n",
    "Relationship: random variables use nullary functions to get their value"
   ]
  },
  {
   "cell_type": "markdown",
   "id": "welsh-naples",
   "metadata": {},
   "source": [
    "#### Q2.5) \n",
    "What is the relationship between a distribution and a function?"
   ]
  },
  {
   "cell_type": "markdown",
   "id": "random-conclusion",
   "metadata": {},
   "source": [
    "A function can create a distribution of outputs, or a function which is run on an input can alter the original distribution.\n",
    "\n",
    "A function can also be used to model the distribution through predicting the probabity of occurences."
   ]
  },
  {
   "cell_type": "markdown",
   "id": "central-queue",
   "metadata": {},
   "source": [
    "Watch the following video about different probability distributions:\n",
    "\n",
    "<https://youtu.be/b9a27XN_6tg>"
   ]
  },
  {
   "cell_type": "markdown",
   "id": "prescription-meditation",
   "metadata": {},
   "source": [
    "#### Q2.6)\n",
    "\n",
    "For each of the following probability distributions:\n",
    "\n",
    "1. Provide the name of the distribution\n",
    "2. Identify it as continuous, discrete, or both\n",
    "3. Provide a brief description of the distribution and what it is used for\n",
    "4. Find an example from the real world where this distribution occurs (not one presented in the video)\n",
    "5. Provide a link to the appropriate `scipy.stats` function\n",
    "6. Use the `scipy` module's distribution functions to create an visual example"
   ]
  },
  {
   "cell_type": "markdown",
   "id": "exclusive-michigan",
   "metadata": {},
   "source": [
    "##### Uniform Distribution\n",
    "\n",
    "* Description: A random variable where all of outcomes are equally likely.\n",
    "* Kind: Can be both continuous or discrete\n",
    "* Example: Rolling a fair, six-sided die.\n",
    "* Link: [Continous](https://docs.scipy.org/doc/scipy/reference/generated/scipy.stats.uniform.html#scipy.stats.uniform), [Discrete](https://docs.scipy.org/doc/scipy/reference/generated/scipy.stats.randint.html)\n"
   ]
  },
  {
   "cell_type": "code",
   "execution_count": 34,
   "id": "vulnerable-female",
   "metadata": {},
   "outputs": [
    {
     "data": {
      "image/png": "[encoded data removed]",
      "text/plain": [
       "<Figure size 432x288 with 1 Axes>"
      ]
     },
     "metadata": {
      "needs_background": "light"
     },
     "output_type": "display_data"
    }
   ],
   "source": [
    "random_variables = stats.uniform.rvs(size=10000)\n",
    "plt.hist(random_variables)\n",
    "plt.title(\"Randomly Generated Uniform Distribution\")\n",
    "plt.show()"
   ]
  },
  {
   "cell_type": "markdown",
   "id": "unable-trouble",
   "metadata": {},
   "source": [
    "##### Bernouli Distribution"
   ]
  },
  {
   "cell_type": "markdown",
   "id": "compliant-variance",
   "metadata": {},
   "source": [
    "1. Bernouli\n",
    "2. Discrete\n",
    "3. Used when only 2 outcomes are possible\n",
    "4. Example: "
   ]
  },
  {
   "cell_type": "code",
   "execution_count": null,
   "id": "dress-expense",
   "metadata": {},
   "outputs": [],
   "source": []
  },
  {
   "cell_type": "markdown",
   "id": "surface-assessment",
   "metadata": {},
   "source": [
    "##### Binomial Distribution"
   ]
  },
  {
   "cell_type": "markdown",
   "id": "racial-jurisdiction",
   "metadata": {},
   "source": [
    "1. Binomial\n",
    "2. Uniform"
   ]
  },
  {
   "cell_type": "code",
   "execution_count": null,
   "id": "adapted-harris",
   "metadata": {},
   "outputs": [],
   "source": []
  },
  {
   "cell_type": "markdown",
   "id": "imported-evans",
   "metadata": {},
   "source": [
    "##### Poisson Distribution"
   ]
  },
  {
   "cell_type": "markdown",
   "id": "electrical-fraud",
   "metadata": {},
   "source": []
  },
  {
   "cell_type": "code",
   "execution_count": null,
   "id": "outstanding-focus",
   "metadata": {},
   "outputs": [],
   "source": []
  },
  {
   "cell_type": "markdown",
   "id": "advised-acting",
   "metadata": {},
   "source": [
    "##### Normal Distribution"
   ]
  },
  {
   "cell_type": "markdown",
   "id": "public-functionality",
   "metadata": {},
   "source": []
  },
  {
   "cell_type": "code",
   "execution_count": null,
   "id": "common-hello",
   "metadata": {},
   "outputs": [],
   "source": []
  },
  {
   "cell_type": "markdown",
   "id": "pregnant-ready",
   "metadata": {},
   "source": [
    "##### Student's T Distribution"
   ]
  },
  {
   "cell_type": "markdown",
   "id": "recreational-necessity",
   "metadata": {},
   "source": [
    "1. Student's T Distribution or just T Distribuiton\n",
    "2. Continuous\n",
    "3. The distribution is essentially a normal distribution that is more closely centered around the median making it shorter and fatter. It is used in cases where the normal distribution would be used, but for smaller sample sizes as it can accomidate outliers better. Typically it is used in statistical tests to determine if two sample means come from the same population.\n",
    "4. As a fun fact and an example, the original use of the test was to characterize the distribution of raw material properties (specifically Barely's chemical properties) for use in [Guinness](https://en.wikipedia.org/wiki/Student%27s_t-test#History).\n",
    "5. (Link)[https://docs.scipy.org/doc/scipy/reference/generated/scipy.stats.t.html]\n",
    "6. A visual example is given as:"
   ]
  },
  {
   "cell_type": "code",
   "execution_count": 18,
   "id": "indonesian-determination",
   "metadata": {},
   "outputs": [
    {
     "data": {
      "text/plain": [
       "[<matplotlib.lines.Line2D at 0x123a7fb0>]"
      ]
     },
     "execution_count": 18,
     "metadata": {},
     "output_type": "execute_result"
    },
    {
     "data": {
      "image/png": "[encoded data removed]",
      "text/plain": [
       "<Figure size 432x288 with 1 Axes>"
      ]
     },
     "metadata": {
      "needs_background": "light"
     },
     "output_type": "display_data"
    }
   ],
   "source": [
    "from scipy.stats import t\n",
    "import matplotlib.pyplot as plt\n",
    "\n",
    "fig, ax = plt.subplots(1, 1)\n",
    "df = 5    # 5 degrees of freedom\n",
    "x = np.linspace(t.ppf(0.01,df),t.ppf(0.99,df),100) # generates an array of x using the percent point function\n",
    "\n",
    "ax.plot(x, t.pdf(x,df))"
   ]
  },
  {
   "cell_type": "markdown",
   "id": "contrary-arctic",
   "metadata": {},
   "source": [
    "##### Chi-Squared Distribution"
   ]
  },
  {
   "cell_type": "markdown",
   "id": "representative-endorsement",
   "metadata": {},
   "source": []
  },
  {
   "cell_type": "code",
   "execution_count": null,
   "id": "functional-float",
   "metadata": {},
   "outputs": [],
   "source": []
  },
  {
   "cell_type": "markdown",
   "id": "trying-estimate",
   "metadata": {},
   "source": [
    "##### Exponential Distribution"
   ]
  },
  {
   "cell_type": "markdown",
   "id": "changed-garage",
   "metadata": {},
   "source": []
  },
  {
   "cell_type": "code",
   "execution_count": null,
   "id": "duplicate-productivity",
   "metadata": {},
   "outputs": [],
   "source": []
  },
  {
   "cell_type": "markdown",
   "id": "stuck-bulgaria",
   "metadata": {},
   "source": [
    "##### Logistic Distribution"
   ]
  },
  {
   "cell_type": "markdown",
   "id": "supreme-failure",
   "metadata": {},
   "source": []
  },
  {
   "cell_type": "code",
   "execution_count": null,
   "id": "floral-instrument",
   "metadata": {},
   "outputs": [],
   "source": []
  },
  {
   "cell_type": "markdown",
   "id": "corrected-recognition",
   "metadata": {},
   "source": [
    "# Part 3) Summary Stats\n",
    "\n",
    "For this section, you will need to use Google and ask questions."
   ]
  },
  {
   "cell_type": "markdown",
   "id": "square-prairie",
   "metadata": {},
   "source": [
    "#### Q3.1)\n",
    "When should you use mean vs. median?"
   ]
  },
  {
   "cell_type": "markdown",
   "id": "injured-finding",
   "metadata": {},
   "source": []
  },
  {
   "cell_type": "markdown",
   "id": "completed-confirmation",
   "metadata": {},
   "source": [
    "#### Q3.2)\n",
    "What is the standard deviation and variance?"
   ]
  },
  {
   "cell_type": "markdown",
   "id": "homeless-reply",
   "metadata": {},
   "source": []
  },
  {
   "cell_type": "markdown",
   "id": "charged-radio",
   "metadata": {},
   "source": [
    "#### Q3.3)\n",
    "\n",
    "Describe the tradeoffs between providing the standard deviation/variance vs. the 5-number summary. "
   ]
  },
  {
   "cell_type": "markdown",
   "id": "mental-wrapping",
   "metadata": {},
   "source": []
  },
  {
   "cell_type": "markdown",
   "id": "copyrighted-broad",
   "metadata": {},
   "source": [
    "#### Q3.4)\n",
    "\n",
    "What is skew? Can a skewed dataset still be normally distributed?"
   ]
  },
  {
   "cell_type": "markdown",
   "id": "according-enemy",
   "metadata": {},
   "source": []
  },
  {
   "cell_type": "markdown",
   "id": "tracked-mercy",
   "metadata": {},
   "source": [
    "#### Q3.5)\n",
    "What is a frequency table? How is it useful for describing data?"
   ]
  },
  {
   "cell_type": "code",
   "execution_count": null,
   "id": "presidential-sector",
   "metadata": {},
   "outputs": [],
   "source": []
  },
  {
   "cell_type": "markdown",
   "id": "played-middle",
   "metadata": {},
   "source": [
    "#### Q3.6)\n",
    "\n",
    "Observe the data shown below and classify each column shown below as either: nominal, binary, ordinal, or quantitative."
   ]
  },
  {
   "cell_type": "code",
   "execution_count": 86,
   "id": "removable-newfoundland",
   "metadata": {},
   "outputs": [
    {
     "data": {
      "text/html": [
       "<div>\n",
       "<style scoped>\n",
       "    .dataframe tbody tr th:only-of-type {\n",
       "        vertical-align: middle;\n",
       "    }\n",
       "\n",
       "    .dataframe tbody tr th {\n",
       "        vertical-align: top;\n",
       "    }\n",
       "\n",
       "    .dataframe thead th {\n",
       "        text-align: right;\n",
       "    }\n",
       "</style>\n",
       "<table border=\"1\" class=\"dataframe\">\n",
       "  <thead>\n",
       "    <tr style=\"text-align: right;\">\n",
       "      <th></th>\n",
       "      <th>id</th>\n",
       "      <th>material</th>\n",
       "      <th>name</th>\n",
       "      <th>development.phase</th>\n",
       "      <th>location.city</th>\n",
       "      <th>location.latitude</th>\n",
       "      <th>location.longitude</th>\n",
       "      <th>statistics.height</th>\n",
       "      <th>tall?</th>\n",
       "    </tr>\n",
       "  </thead>\n",
       "  <tbody>\n",
       "    <tr>\n",
       "      <th>0</th>\n",
       "      <td>12</td>\n",
       "      <td>steel</td>\n",
       "      <td>The Illinois</td>\n",
       "      <td>1</td>\n",
       "      <td>Chicago</td>\n",
       "      <td>0.000000</td>\n",
       "      <td>0.000000</td>\n",
       "      <td>1609.359985</td>\n",
       "      <td>True</td>\n",
       "    </tr>\n",
       "    <tr>\n",
       "      <th>1</th>\n",
       "      <td>62</td>\n",
       "      <td>composite</td>\n",
       "      <td>Chicago Spire</td>\n",
       "      <td>2</td>\n",
       "      <td>Chicago</td>\n",
       "      <td>41.889889</td>\n",
       "      <td>-87.614861</td>\n",
       "      <td>609.599976</td>\n",
       "      <td>True</td>\n",
       "    </tr>\n",
       "    <tr>\n",
       "      <th>2</th>\n",
       "      <td>68</td>\n",
       "      <td>composite</td>\n",
       "      <td>Miglin-Beitler Skyneedle</td>\n",
       "      <td>1</td>\n",
       "      <td>Chicago</td>\n",
       "      <td>41.881618</td>\n",
       "      <td>-87.634354</td>\n",
       "      <td>609.489990</td>\n",
       "      <td>True</td>\n",
       "    </tr>\n",
       "    <tr>\n",
       "      <th>3</th>\n",
       "      <td>98</td>\n",
       "      <td>composite</td>\n",
       "      <td>One World Trade Center</td>\n",
       "      <td>3</td>\n",
       "      <td>New York City</td>\n",
       "      <td>40.713112</td>\n",
       "      <td>-74.013351</td>\n",
       "      <td>541.299988</td>\n",
       "      <td>True</td>\n",
       "    </tr>\n",
       "    <tr>\n",
       "      <th>4</th>\n",
       "      <td>14269</td>\n",
       "      <td>concrete</td>\n",
       "      <td>Central Park Tower</td>\n",
       "      <td>2</td>\n",
       "      <td>New York City</td>\n",
       "      <td>40.766361</td>\n",
       "      <td>-73.980949</td>\n",
       "      <td>541.020020</td>\n",
       "      <td>True</td>\n",
       "    </tr>\n",
       "  </tbody>\n",
       "</table>\n",
       "</div>"
      ],
      "text/plain": [
       "      id   material                      name  development.phase  \\\n",
       "0     12      steel              The Illinois                  1   \n",
       "1     62  composite             Chicago Spire                  2   \n",
       "2     68  composite  Miglin-Beitler Skyneedle                  1   \n",
       "3     98  composite    One World Trade Center                  3   \n",
       "4  14269   concrete        Central Park Tower                  2   \n",
       "\n",
       "   location.city  location.latitude  location.longitude  statistics.height  \\\n",
       "0        Chicago           0.000000            0.000000        1609.359985   \n",
       "1        Chicago          41.889889          -87.614861         609.599976   \n",
       "2        Chicago          41.881618          -87.634354         609.489990   \n",
       "3  New York City          40.713112          -74.013351         541.299988   \n",
       "4  New York City          40.766361          -73.980949         541.020020   \n",
       "\n",
       "   tall?  \n",
       "0   True  \n",
       "1   True  \n",
       "2   True  \n",
       "3   True  \n",
       "4   True  "
      ]
     },
     "execution_count": 86,
     "metadata": {},
     "output_type": "execute_result"
    }
   ],
   "source": [
    "skyscrapers_full = pd.read_csv(\"https://corgis-edu.github.io/corgis/datasets/csv/skyscrapers/skyscrapers.csv\")\n",
    "# You can ignore how we calculate the fields, though it might help you understand it better\n",
    "skyscrapers_full['tall?'] = skyscrapers_full['statistics.height'] > 100\n",
    "skyscrapers_full['development.phase'] = skyscrapers_full['status.current'].map(lambda s: 3 if s in ('completed', 'demolished')\n",
    "                                                                                         else 1 if s in ('proposed', 'vision')\n",
    "                                                                                         else 2)\n",
    "skyscrapers = skyscrapers_full[['id', 'material', 'name', 'development.phase',\n",
    "                                'location.city', 'location.latitude', 'location.longitude',\n",
    "                                'statistics.height', 'tall?']]\n",
    "skyscrapers.head()"
   ]
  },
  {
   "cell_type": "markdown",
   "id": "hidden-honduras",
   "metadata": {},
   "source": [
    "* `id`: \n",
    "* `material`: \n",
    "* `name`: \n",
    "* `development.phase`: \n",
    "* `location.city`: \n",
    "* `location.latitude`: \n",
    "* `location.longitude`: \n",
    "* `statistics.height`: \n",
    "* `tall?`: "
   ]
  },
  {
   "cell_type": "markdown",
   "id": "practical-magazine",
   "metadata": {},
   "source": [
    "#### Q3.7)\n",
    "\n",
    "For each column in the dataset above, provide appropriate summary statistics in whatever way makes the most sense to concisely describe the data."
   ]
  },
  {
   "cell_type": "code",
   "execution_count": 87,
   "id": "universal-flexibility",
   "metadata": {},
   "outputs": [
    {
     "name": "stdout",
     "output_type": "stream",
     "text": [
      "ID:\n",
      "Material:\n",
      "Name:\n",
      "Development Phase:\n",
      "Location (City):\n",
      "Location (Latitude):\n",
      "Location (Longitude):\n",
      "Height:\n",
      "Tall Buildings:\n"
     ]
    }
   ],
   "source": [
    "print(\"ID:\")\n",
    "\n",
    "\n",
    "print(\"Material:\")\n",
    "\n",
    "\n",
    "print(\"Name:\")\n",
    "\n",
    "\n",
    "print(\"Development Phase:\")\n",
    "\n",
    "\n",
    "print(\"Location (City):\")\n",
    "\n",
    "\n",
    "print(\"Location (Latitude):\")\n",
    "\n",
    "\n",
    "print(\"Location (Longitude):\")\n",
    "\n",
    "\n",
    "print(\"Height:\")\n",
    "\n",
    "\n",
    "print(\"Tall Buildings:\")"
   ]
  },
  {
   "cell_type": "markdown",
   "id": "banner-depression",
   "metadata": {},
   "source": [
    "#### Q3.8)\n",
    "\n",
    "Classify each of the following scenarios as \"paired\" or \"unpaired\" data.\n",
    "\n",
    "1. We draw two random samples from the complete set of skyscrapers. Both samples have 100 skyscrapers."
   ]
  },
  {
   "cell_type": "markdown",
   "id": "clinical-sacramento",
   "metadata": {},
   "source": []
  },
  {
   "cell_type": "markdown",
   "id": "significant-pharmaceutical",
   "metadata": {},
   "source": [
    "2. We collect a new version of the dataset, updating the `\"development.phase\"` value in order to compare it to the old value."
   ]
  },
  {
   "cell_type": "markdown",
   "id": "external-exemption",
   "metadata": {},
   "source": []
  },
  {
   "cell_type": "markdown",
   "id": "altered-complexity",
   "metadata": {},
   "source": [
    "3. We collect data about the architectures of each building, in order to see if there a relationship between the builder's age and the height of the building."
   ]
  },
  {
   "cell_type": "markdown",
   "id": "pending-lincoln",
   "metadata": {},
   "source": []
  },
  {
   "cell_type": "markdown",
   "id": "professional-criticism",
   "metadata": {},
   "source": [
    "# Part 4) Normality Checks"
   ]
  },
  {
   "cell_type": "markdown",
   "id": "owned-agent",
   "metadata": {},
   "source": [
    "Read the following page about normality tests:\n",
    "\n",
    "https://machinelearningmastery.com/a-gentle-introduction-to-normality-tests-in-python/\n"
   ]
  },
  {
   "cell_type": "markdown",
   "id": "israeli-scene",
   "metadata": {},
   "source": [
    "#### Q4.1)\n",
    "\n",
    "Some skyscrapers are much taller than most skyscrapers. Demonstrate this by creating a Histogram of that data."
   ]
  },
  {
   "cell_type": "code",
   "execution_count": null,
   "id": "arbitrary-alberta",
   "metadata": {},
   "outputs": [],
   "source": [
    "skyscrapers['statistics.height']\n",
    "# ..."
   ]
  },
  {
   "cell_type": "markdown",
   "id": "direct-sensitivity",
   "metadata": {},
   "source": [
    "#### Q4.2)\n",
    "\n",
    "Logarithmic transformations are often used in situations like this to make the visualizations easier to read.\n",
    "Why?"
   ]
  },
  {
   "cell_type": "markdown",
   "id": "reasonable-relative",
   "metadata": {},
   "source": []
  },
  {
   "cell_type": "markdown",
   "id": "comparable-large",
   "metadata": {},
   "source": [
    "#### Q4.3)\n",
    "\n",
    "Create a new version of your visualization that is log transformed, by manipulating the data.\n",
    "\n",
    "Hints:\n",
    "* You might find it helpful to increase the number of bins in the final version to produce a nicer looking graph.\n",
    "* Some of the data is dirty - remove zeroes!"
   ]
  },
  {
   "cell_type": "code",
   "execution_count": null,
   "id": "mighty-above",
   "metadata": {},
   "outputs": [],
   "source": []
  },
  {
   "cell_type": "markdown",
   "id": "occupational-hayes",
   "metadata": {},
   "source": [
    "#### Q4.4)\n",
    "\n",
    "We wish to know if the data is now normally distributed. You can use a Shapiro Wilks test in `scipy.stats` to determine if a distribution is normal. This is demonstrated below."
   ]
  },
  {
   "cell_type": "code",
   "execution_count": 125,
   "id": "classical-round",
   "metadata": {},
   "outputs": [
    {
     "data": {
      "image/png": "[encoded data removed]",
      "text/plain": [
       "<Figure size 432x288 with 1 Axes>"
      ]
     },
     "metadata": {
      "needs_background": "light"
     },
     "output_type": "display_data"
    },
    {
     "name": "stdout",
     "output_type": "stream",
     "text": [
      "Normally Distributed Values: 0.9873840808868408 0.4639612138271332 False\n",
      "Since the pvalue is greater than 0.05, we accept the null hypothesis that it is normally distributed.\n"
     ]
    },
    {
     "data": {
      "image/png": "[encoded data removed]",
      "text/plain": [
       "<Figure size 432x288 with 1 Axes>"
      ]
     },
     "metadata": {
      "needs_background": "light"
     },
     "output_type": "display_data"
    },
    {
     "name": "stdout",
     "output_type": "stream",
     "text": [
      "Random Values: 0.9455756545066833 0.0004289667122066021 True\n",
      "Since the pvalue is less than 0.05, we reject the null hypothesis that it is normally distributed.\n"
     ]
    }
   ],
   "source": [
    "# Mean of 50, standard deviation of 10, create 100 numbers\n",
    "normal_values = stats.norm.rvs(loc=50, scale=10, size=100)\n",
    "plt.hist(normal_values)\n",
    "plt.title(\"Normal Distribution with Mean of 50\")\n",
    "plt.ylabel(\"Frequency\")\n",
    "plt.show()\n",
    "\n",
    "test_statistic, p_value = stats.shapiro(normal_values)\n",
    "print(\"Normally Distributed Values:\", test_statistic, p_value, p_value < .05)\n",
    "print(\"Since the pvalue is greater than 0.05, we accept the null hypothesis that it is normally distributed.\")\n",
    "\n",
    "# Mean of 50, standard deviation of 10, create 100 numbers\n",
    "normal_values = stats.randint.rvs(low=0, high=100, size=100)\n",
    "plt.hist(normal_values)\n",
    "plt.title(\"Random Distribution\")\n",
    "plt.ylabel(\"Frequency\")\n",
    "plt.show()\n",
    "\n",
    "test_statistic, p_value = stats.shapiro(normal_values)\n",
    "print(\"Random Values:\", test_statistic, p_value, p_value < .05)\n",
    "print(\"Since the pvalue is less than 0.05, we reject the null hypothesis that it is normally distributed.\")"
   ]
  },
  {
   "cell_type": "markdown",
   "id": "fantastic-reach",
   "metadata": {},
   "source": [
    "Building off our example, determine if:\n",
    "\n",
    "1. The original untransformed heights follow a normal distribution.\n",
    "2. The log-transformed heights follow a normal distribution.\n",
    "\n",
    "Be sure to use an appropriate test."
   ]
  },
  {
   "cell_type": "code",
   "execution_count": null,
   "id": "smaller-shirt",
   "metadata": {},
   "outputs": [],
   "source": []
  },
  {
   "cell_type": "markdown",
   "id": "bottom-embassy",
   "metadata": {},
   "source": [
    "#### Q4.5)\n",
    "\n",
    "Would it be appropriate to use parameteric statistics on this data?"
   ]
  },
  {
   "cell_type": "markdown",
   "id": "classified-player",
   "metadata": {},
   "source": []
  },
  {
   "cell_type": "markdown",
   "id": "moved-toner",
   "metadata": {},
   "source": [
    "# Part 5) Correlation Analysis\n",
    "\n",
    "Read over the following page: https://www.ncbi.nlm.nih.gov/pmc/articles/PMC2996580/"
   ]
  },
  {
   "cell_type": "markdown",
   "id": "sexual-pepper",
   "metadata": {},
   "source": [
    "#### Q5.1)\n",
    "\n",
    "In your own words, define the following terms:\n",
    "\n",
    "1) Hypothesis"
   ]
  },
  {
   "cell_type": "markdown",
   "id": "incorrect-session",
   "metadata": {},
   "source": []
  },
  {
   "cell_type": "markdown",
   "id": "tamil-exposure",
   "metadata": {},
   "source": [
    "2) Hypothesis Test"
   ]
  },
  {
   "cell_type": "markdown",
   "id": "solved-poker",
   "metadata": {},
   "source": []
  },
  {
   "cell_type": "markdown",
   "id": "driven-configuration",
   "metadata": {},
   "source": [
    "3) P-value"
   ]
  },
  {
   "cell_type": "markdown",
   "id": "organized-archive",
   "metadata": {},
   "source": []
  },
  {
   "cell_type": "markdown",
   "id": "compact-dictionary",
   "metadata": {},
   "source": [
    "4) Null Hypothesis"
   ]
  },
  {
   "cell_type": "markdown",
   "id": "artistic-appointment",
   "metadata": {},
   "source": []
  },
  {
   "cell_type": "markdown",
   "id": "magnetic-wales",
   "metadata": {},
   "source": [
    "5. \"Approaching Significance\" (read over [this webpage](https://mchankins.wordpress.com/2013/04/21/still-not-significant-2/))"
   ]
  },
  {
   "cell_type": "markdown",
   "id": "compound-conspiracy",
   "metadata": {},
   "source": []
  },
  {
   "cell_type": "markdown",
   "id": "seven-means",
   "metadata": {},
   "source": [
    "#### Q5.2)\n",
    "\n",
    "Make a list of all the criteria you should consider when choosing an appropriate statistical test.\n",
    "Additionally, embed a flowchart that can help visually demonstrate the critiera you should use."
   ]
  },
  {
   "cell_type": "markdown",
   "id": "closed-surge",
   "metadata": {},
   "source": [
    "1. \n",
    "2.\n",
    "3.\n",
    "\n",
    "..."
   ]
  },
  {
   "cell_type": "markdown",
   "id": "about-belly",
   "metadata": {},
   "source": [
    "#### Q5.3)\n",
    "\n",
    "For each of the following statistical test functions from `scipy`, provide the following information:\n",
    "\n",
    "* Function: The name of the function in Scipy\n",
    "* Link: The URL to the documentation of the test.\n",
    "* Test: A more human-readable name of the test\n",
    "* Description: A quick one-sentence description of the test indicating clearly what it is used for\n",
    "* Assumptions: A list of any assumptions made by the test.\n",
    "* Example: An example of how you might use this test"
   ]
  },
  {
   "cell_type": "markdown",
   "id": "arctic-polish",
   "metadata": {},
   "source": [
    "##### f_oneway\n",
    "\n",
    "* Function: `f_oneway`\n",
    "* Link: https://docs.scipy.org/doc/scipy/reference/generated/scipy.stats.f_oneway.html\n",
    "* Test: One-way ANOVA\n",
    "* Description: A parametric test for 2+ independent samples to determine if they have the same population mean. \n",
    "* Assumptions:\n",
    "    * Samples must be independent\n",
    "    * Population is normally distributed\n",
    "    * Populations' standard deviations are equal\n",
    "* Example: Take a big group of students, break them up by gender, and see if their heights differ by gender."
   ]
  },
  {
   "cell_type": "markdown",
   "id": "advance-ontario",
   "metadata": {},
   "source": [
    "##### pearsonr\n",
    "\n",
    "* Function:\n",
    "* Link:\n",
    "* Test:\n",
    "* Description:\n",
    "* Assumptions:\n",
    "* Example:"
   ]
  },
  {
   "cell_type": "markdown",
   "id": "hungarian-register",
   "metadata": {},
   "source": [
    "##### spearmanr\n",
    "\n",
    "* Function:\n",
    "* Link:\n",
    "* Test:\n",
    "* Description:\n",
    "* Assumptions:\n",
    "* Example:"
   ]
  },
  {
   "cell_type": "markdown",
   "id": "honest-debut",
   "metadata": {},
   "source": [
    "##### pointbiseralr\n",
    "\n",
    "* Function:\n",
    "* Link:\n",
    "* Test:\n",
    "* Description:\n",
    "* Assumptions:\n",
    "* Example:"
   ]
  },
  {
   "cell_type": "markdown",
   "id": "blocked-brisbane",
   "metadata": {},
   "source": [
    "##### kendalltau\n",
    "\n",
    "* Function:\n",
    "* Link:\n",
    "* Test:\n",
    "* Description:\n",
    "* Assumptions:\n",
    "* Example:"
   ]
  },
  {
   "cell_type": "markdown",
   "id": "convertible-firewall",
   "metadata": {},
   "source": [
    "##### ttest_1samp\n",
    "\n",
    "* Function:\n",
    "* Link:\n",
    "* Test:\n",
    "* Description:\n",
    "* Assumptions:\n",
    "* Example:"
   ]
  },
  {
   "cell_type": "markdown",
   "id": "ultimate-generic",
   "metadata": {},
   "source": [
    "##### ttest_ind\n",
    "\n",
    "* Function:\n",
    "* Link:\n",
    "* Test:\n",
    "* Description:\n",
    "* Assumptions:\n",
    "* Example:"
   ]
  },
  {
   "cell_type": "markdown",
   "id": "impaired-viewer",
   "metadata": {},
   "source": [
    "##### ttest_rel\n",
    "\n",
    "* Function:\n",
    "* Link:\n",
    "* Test:\n",
    "* Description:\n",
    "* Assumptions:\n",
    "* Example:"
   ]
  },
  {
   "cell_type": "markdown",
   "id": "varied-potato",
   "metadata": {},
   "source": [
    "##### chisquare\n",
    "\n",
    "* Function:\n",
    "* Link:\n",
    "* Test:\n",
    "* Description:\n",
    "* Assumptions:\n",
    "* Example:"
   ]
  },
  {
   "cell_type": "markdown",
   "id": "postal-database",
   "metadata": {},
   "source": [
    "##### mannwhitneyu\n",
    "\n",
    "* Function:\n",
    "* Link:\n",
    "* Test:\n",
    "* Description:\n",
    "* Assumptions:\n",
    "* Example:"
   ]
  },
  {
   "cell_type": "markdown",
   "id": "material-health",
   "metadata": {},
   "source": [
    "##### kstest\n",
    "\n",
    "* Function:\n",
    "* Link:\n",
    "* Test:\n",
    "* Description:\n",
    "* Assumptions:\n",
    "* Example:"
   ]
  },
  {
   "cell_type": "markdown",
   "id": "continuing-queue",
   "metadata": {},
   "source": [
    "##### wilcoxon\n",
    "\n",
    "* Function:\n",
    "* Link:\n",
    "* Test:\n",
    "* Description:\n",
    "* Assumptions:\n",
    "* Example:"
   ]
  },
  {
   "cell_type": "markdown",
   "id": "conventional-cabin",
   "metadata": {},
   "source": [
    "##### kruskal\n",
    "\n",
    "* Function:\n",
    "* Link:\n",
    "* Test:\n",
    "* Description:\n",
    "* Assumptions:\n",
    "* Example:"
   ]
  },
  {
   "cell_type": "markdown",
   "id": "immune-british",
   "metadata": {},
   "source": [
    "#### Q5.4)"
   ]
  },
  {
   "cell_type": "markdown",
   "id": "lonely-shepherd",
   "metadata": {},
   "source": [
    "For each scenario below, identify what test you might choose.\n",
    "\n",
    "1. If we wished to test whether there was any association between Gender and uptake of Flu vaccination which would be the best test to choose?"
   ]
  },
  {
   "cell_type": "markdown",
   "id": "wrapped-pakistan",
   "metadata": {},
   "source": []
  },
  {
   "cell_type": "markdown",
   "id": "considered-colors",
   "metadata": {},
   "source": [
    "2. If we wished to test if there was a difference between the gestational age of babies at birth (how far along the pregnancy is, in weeks) and the use of a nutritional supplement by their mothers during pregnancy which would be the best test to choose?"
   ]
  },
  {
   "cell_type": "markdown",
   "id": "stunning-professional",
   "metadata": {},
   "source": []
  },
  {
   "cell_type": "markdown",
   "id": "rolled-tomato",
   "metadata": {},
   "source": [
    "3. The cotinine level was measured in women at the beginning and end of their pregnancy. The change in cotinine was presented on a Log scale. Which would be the best test to use to see if there had been a change in cotinine level during pregnancy?"
   ]
  },
  {
   "cell_type": "markdown",
   "id": "mighty-leonard",
   "metadata": {},
   "source": []
  },
  {
   "cell_type": "markdown",
   "id": "apparent-brass",
   "metadata": {},
   "source": [
    "4. If we wished to estimate the strength of the linear relationship between the weight of a mother and the weight of her baby at birth which would be the best test to choose?"
   ]
  },
  {
   "cell_type": "markdown",
   "id": "studied-dream",
   "metadata": {},
   "source": []
  },
  {
   "cell_type": "markdown",
   "id": "retained-athletics",
   "metadata": {},
   "source": [
    "5. The pre-operative and post-operative anxiety levels of adolescent patients undergoing orthopaedic surgery were measured using the State-Trait Anxiety Inventory STAI scale. The authors reported the pre-operative anxiety levels as mean = 33.8 (SD = 5.1) and post-operative anxiety levels as mean = 38.8 (SD = 7.2). They also performed a Shapiro-Wilks Test demonstrating that the data is normal. Which would have been the most appropriate test to assess the relationship between pre and post operative anxiety?"
   ]
  },
  {
   "cell_type": "markdown",
   "id": "judicial-continent",
   "metadata": {},
   "source": []
  },
  {
   "cell_type": "markdown",
   "id": "universal-steal",
   "metadata": {},
   "source": [
    "6. Salaries in the United States are heavily skewed. If you were investigating salaries between Software Engineers and non-Software Engineers, which test would be most appropriate?"
   ]
  },
  {
   "cell_type": "markdown",
   "id": "figured-romania",
   "metadata": {},
   "source": []
  },
  {
   "cell_type": "markdown",
   "id": "sudden-junction",
   "metadata": {},
   "source": [
    "7. As previously mentioned, salaries in the United States are heavily skewed. You conduct a survey of 100 folks (selected completely at random from the US), asking their salary and their \"satisfaction their salary\" with the possible responses \"Very Happy\", \"Happy\", \"Neutral\", \"Unhappy\", and \"Very Unhappy\". What test could you use to determine the relationship between these two values?"
   ]
  },
  {
   "cell_type": "markdown",
   "id": "naughty-federation",
   "metadata": {},
   "source": []
  },
  {
   "cell_type": "markdown",
   "id": "hydraulic-institution",
   "metadata": {},
   "source": [
    "8. It is 2022, and the revolution has begun. It is chaos in the streets, and societal upheaval is everywhere. Strangely, you are more interested in doing data science, and are now investigating whether salaries are still skewed. You go back to the 100 folks you talked to previously, and ask them for their new salary data. What test can help you determine if there is a change?"
   ]
  },
  {
   "cell_type": "markdown",
   "id": "renewable-fields",
   "metadata": {},
   "source": []
  },
  {
   "cell_type": "markdown",
   "id": "subsequent-specific",
   "metadata": {},
   "source": [
    "#### Q5.5)\n",
    "\n",
    "Recall the skyscrapers data we looked at before."
   ]
  },
  {
   "cell_type": "code",
   "execution_count": 150,
   "id": "aggregate-bridges",
   "metadata": {},
   "outputs": [
    {
     "data": {
      "text/html": [
       "<div>\n",
       "<style scoped>\n",
       "    .dataframe tbody tr th:only-of-type {\n",
       "        vertical-align: middle;\n",
       "    }\n",
       "\n",
       "    .dataframe tbody tr th {\n",
       "        vertical-align: top;\n",
       "    }\n",
       "\n",
       "    .dataframe thead th {\n",
       "        text-align: right;\n",
       "    }\n",
       "</style>\n",
       "<table border=\"1\" class=\"dataframe\">\n",
       "  <thead>\n",
       "    <tr style=\"text-align: right;\">\n",
       "      <th></th>\n",
       "      <th>id</th>\n",
       "      <th>material</th>\n",
       "      <th>name</th>\n",
       "      <th>development.phase</th>\n",
       "      <th>location.city</th>\n",
       "      <th>location.latitude</th>\n",
       "      <th>location.longitude</th>\n",
       "      <th>statistics.height</th>\n",
       "      <th>tall?</th>\n",
       "    </tr>\n",
       "  </thead>\n",
       "  <tbody>\n",
       "    <tr>\n",
       "      <th>0</th>\n",
       "      <td>12</td>\n",
       "      <td>steel</td>\n",
       "      <td>The Illinois</td>\n",
       "      <td>1</td>\n",
       "      <td>Chicago</td>\n",
       "      <td>0.000000</td>\n",
       "      <td>0.000000</td>\n",
       "      <td>1609.359985</td>\n",
       "      <td>True</td>\n",
       "    </tr>\n",
       "    <tr>\n",
       "      <th>1</th>\n",
       "      <td>62</td>\n",
       "      <td>composite</td>\n",
       "      <td>Chicago Spire</td>\n",
       "      <td>2</td>\n",
       "      <td>Chicago</td>\n",
       "      <td>41.889889</td>\n",
       "      <td>-87.614861</td>\n",
       "      <td>609.599976</td>\n",
       "      <td>True</td>\n",
       "    </tr>\n",
       "    <tr>\n",
       "      <th>2</th>\n",
       "      <td>68</td>\n",
       "      <td>composite</td>\n",
       "      <td>Miglin-Beitler Skyneedle</td>\n",
       "      <td>1</td>\n",
       "      <td>Chicago</td>\n",
       "      <td>41.881618</td>\n",
       "      <td>-87.634354</td>\n",
       "      <td>609.489990</td>\n",
       "      <td>True</td>\n",
       "    </tr>\n",
       "    <tr>\n",
       "      <th>3</th>\n",
       "      <td>98</td>\n",
       "      <td>composite</td>\n",
       "      <td>One World Trade Center</td>\n",
       "      <td>3</td>\n",
       "      <td>New York City</td>\n",
       "      <td>40.713112</td>\n",
       "      <td>-74.013351</td>\n",
       "      <td>541.299988</td>\n",
       "      <td>True</td>\n",
       "    </tr>\n",
       "    <tr>\n",
       "      <th>4</th>\n",
       "      <td>14269</td>\n",
       "      <td>concrete</td>\n",
       "      <td>Central Park Tower</td>\n",
       "      <td>2</td>\n",
       "      <td>New York City</td>\n",
       "      <td>40.766361</td>\n",
       "      <td>-73.980949</td>\n",
       "      <td>541.020020</td>\n",
       "      <td>True</td>\n",
       "    </tr>\n",
       "  </tbody>\n",
       "</table>\n",
       "</div>"
      ],
      "text/plain": [
       "      id   material                      name  development.phase  \\\n",
       "0     12      steel              The Illinois                  1   \n",
       "1     62  composite             Chicago Spire                  2   \n",
       "2     68  composite  Miglin-Beitler Skyneedle                  1   \n",
       "3     98  composite    One World Trade Center                  3   \n",
       "4  14269   concrete        Central Park Tower                  2   \n",
       "\n",
       "   location.city  location.latitude  location.longitude  statistics.height  \\\n",
       "0        Chicago           0.000000            0.000000        1609.359985   \n",
       "1        Chicago          41.889889          -87.614861         609.599976   \n",
       "2        Chicago          41.881618          -87.634354         609.489990   \n",
       "3  New York City          40.713112          -74.013351         541.299988   \n",
       "4  New York City          40.766361          -73.980949         541.020020   \n",
       "\n",
       "   tall?  \n",
       "0   True  \n",
       "1   True  \n",
       "2   True  \n",
       "3   True  \n",
       "4   True  "
      ]
     },
     "execution_count": 150,
     "metadata": {},
     "output_type": "execute_result"
    }
   ],
   "source": [
    "skyscrapers.head()"
   ]
  },
  {
   "cell_type": "markdown",
   "id": "average-stage",
   "metadata": {},
   "source": [
    "Is there a relationship between a Skyscrapers latitude and height?"
   ]
  },
  {
   "cell_type": "code",
   "execution_count": null,
   "id": "animated-purpose",
   "metadata": {},
   "outputs": [],
   "source": []
  },
  {
   "cell_type": "markdown",
   "id": "checked-bread",
   "metadata": {},
   "source": [
    "Are `New York City` skyscrapers bigger than `Chicago` skyscrapers?"
   ]
  },
  {
   "cell_type": "code",
   "execution_count": null,
   "id": "respiratory-amateur",
   "metadata": {},
   "outputs": [],
   "source": []
  },
  {
   "cell_type": "markdown",
   "id": "composite-representative",
   "metadata": {},
   "source": [
    "In the dataset, completed skyscrapers are phase 3, in-progress skyscrapers are phase 2, and not-started skyscrapers are phase 1.\n",
    "Considering only skyscrapers made with concrete and steel, is there a difference in the distribution of the different development phases between the two materials? "
   ]
  },
  {
   "cell_type": "code",
   "execution_count": 157,
   "id": "creative-quilt",
   "metadata": {},
   "outputs": [
    {
     "data": {
      "text/html": [
       "<div>\n",
       "<style scoped>\n",
       "    .dataframe tbody tr th:only-of-type {\n",
       "        vertical-align: middle;\n",
       "    }\n",
       "\n",
       "    .dataframe tbody tr th {\n",
       "        vertical-align: top;\n",
       "    }\n",
       "\n",
       "    .dataframe thead th {\n",
       "        text-align: right;\n",
       "    }\n",
       "</style>\n",
       "<table border=\"1\" class=\"dataframe\">\n",
       "  <thead>\n",
       "    <tr style=\"text-align: right;\">\n",
       "      <th>development.phase</th>\n",
       "      <th>1</th>\n",
       "      <th>2</th>\n",
       "      <th>3</th>\n",
       "    </tr>\n",
       "    <tr>\n",
       "      <th>material</th>\n",
       "      <th></th>\n",
       "      <th></th>\n",
       "      <th></th>\n",
       "    </tr>\n",
       "  </thead>\n",
       "  <tbody>\n",
       "    <tr>\n",
       "      <th>concrete</th>\n",
       "      <td>99</td>\n",
       "      <td>162</td>\n",
       "      <td>1105</td>\n",
       "    </tr>\n",
       "    <tr>\n",
       "      <th>steel</th>\n",
       "      <td>9</td>\n",
       "      <td>10</td>\n",
       "      <td>856</td>\n",
       "    </tr>\n",
       "  </tbody>\n",
       "</table>\n",
       "</div>"
      ],
      "text/plain": [
       "development.phase   1    2     3\n",
       "material                        \n",
       "concrete           99  162  1105\n",
       "steel               9   10   856"
      ]
     },
     "execution_count": 157,
     "metadata": {},
     "output_type": "execute_result"
    }
   ],
   "source": []
  },
  {
   "cell_type": "markdown",
   "id": "corresponding-chase",
   "metadata": {},
   "source": [
    "# Part 6) Effect Sizes\n",
    "\n",
    "Watch the videos, and answer the questions.\n",
    "\n",
    "https://youtu.be/PyNzbDbjs1Y"
   ]
  },
  {
   "cell_type": "markdown",
   "id": "large-morrison",
   "metadata": {},
   "source": [
    "#### Q6.1)\n",
    "\n",
    "Why is it important to present p-values AND effect sizes?"
   ]
  },
  {
   "cell_type": "markdown",
   "id": "streaming-attention",
   "metadata": {},
   "source": []
  },
  {
   "cell_type": "markdown",
   "id": "involved-monkey",
   "metadata": {},
   "source": [
    "#### Q6.2)\n",
    "\n",
    "The video briefly suggests some ways to calculate effect size. For each of the following, give a brief explanation:\n"
   ]
  },
  {
   "cell_type": "markdown",
   "id": "resident-variance",
   "metadata": {},
   "source": [
    "* Pearson Correlation: \n",
    "* R Squared: \n",
    "* Cohen's d Effect Size: \n",
    "* Eta Squared:\n",
    "* Odds Ratio:"
   ]
  },
  {
   "cell_type": "markdown",
   "id": "destroyed-canal",
   "metadata": {},
   "source": [
    "#### Q6.3)\n",
    "\n",
    "Watch the following video, then answer the question below.\n",
    "\n",
    "https://youtu.be/6uYNVCy-8NA"
   ]
  },
  {
   "cell_type": "markdown",
   "id": "leading-matrix",
   "metadata": {},
   "source": [
    "In the video, the speaker suggests concrete ways to interpret effect sizes. However, Cohen warned about turning effect size numbers into ideas of \"small\", \"medium\", and \"large\". What is dangerous about interpreting effect size values?"
   ]
  },
  {
   "cell_type": "markdown",
   "id": "closing-concept",
   "metadata": {},
   "source": []
  },
  {
   "cell_type": "markdown",
   "id": "adolescent-service",
   "metadata": {},
   "source": [
    "#### Q6.4)\n",
    "\n",
    "Your arch-nemesis stands up and reports, \"In our study, we found a significant difference between the control group and the treatment group. Clearly, my research team deserves more funding.\" You raise your hand to ask a question - what do you ask?"
   ]
  },
  {
   "cell_type": "markdown",
   "id": "aggregate-click",
   "metadata": {},
   "source": []
  },
  {
   "cell_type": "markdown",
   "id": "wicked-overview",
   "metadata": {},
   "source": [
    "#### Q6.5)\n",
    "\n",
    "Previously, you were asked to calculate whether there was a significant difference between `New York City` and `Chicago` skyscrapers. Now provide a measure of effect size to fully characterize their difference."
   ]
  },
  {
   "cell_type": "code",
   "execution_count": null,
   "id": "previous-eligibility",
   "metadata": {},
   "outputs": [],
   "source": []
  }
 ],
 "metadata": {
  "kernelspec": {
   "display_name": "Python 3",
   "language": "python",
   "name": "python3"
  },
  "language_info": {
   "codemirror_mode": {
    "name": "ipython",
    "version": 3
   },
   "file_extension": ".py",
   "mimetype": "text/x-python",
   "name": "python",
   "nbconvert_exporter": "python",
   "pygments_lexer": "ipython3",
   "version": "3.7.2"
  }
 },
 "nbformat": 4,
 "nbformat_minor": 5
}
