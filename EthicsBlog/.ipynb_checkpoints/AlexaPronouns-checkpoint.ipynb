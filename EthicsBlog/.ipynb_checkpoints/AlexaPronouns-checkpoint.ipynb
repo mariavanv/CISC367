{
 "cells": [
  {
   "cell_type": "code",
   "execution_count": 44,
   "id": "external-telling",
   "metadata": {},
   "outputs": [],
   "source": [
    "import pandas as pd \n",
    "import numpy as np\n",
    "import matplotlib.pyplot as plt\n",
    "\n",
    "df = pd.read_csv(\"amazon_alexa.tsv\", sep='\\t' ) \n"
   ]
  },
  {
   "cell_type": "code",
   "execution_count": 45,
   "id": "south-posting",
   "metadata": {},
   "outputs": [],
   "source": [
    "shedf = df[df['verified_reviews'].str.contains(\" she \") |\n",
    "          df['verified_reviews'].str.contains(\" her \") |\n",
    "          df['verified_reviews'].str.contains(\" hers \")]\n",
    "#shedf['verified_reviews']"
   ]
  },
  {
   "cell_type": "code",
   "execution_count": 46,
   "id": "superb-carnival",
   "metadata": {},
   "outputs": [],
   "source": [
    "hedf = df[df['verified_reviews'].str.contains(\" he \")|\n",
    "          df['verified_reviews'].str.contains(\" his \")|\n",
    "          df['verified_reviews'].str.contains(\" him \")]\n",
    "#hedf"
   ]
  },
  {
   "cell_type": "code",
   "execution_count": 47,
   "id": "ecological-peninsula",
   "metadata": {},
   "outputs": [],
   "source": [
    "itdf = df[df['verified_reviews'].str.contains(\" it \") |\n",
    "         df['verified_reviews'].str.contains(\" its \")]\n",
    "#itdf['verified_reviews']"
   ]
  },
  {
   "cell_type": "code",
   "execution_count": 30,
   "id": "alternative-buyer",
   "metadata": {},
   "outputs": [
    {
     "name": "stdout",
     "output_type": "stream",
     "text": [
      "Reviews containing 'it' :  996\n",
      "Reviews containing 'she':  174\n",
      "Reviews containing 'he' :  41\n"
     ]
    }
   ],
   "source": [
    "print(\"Reviews containing 'it' : \", len(itdf))\n",
    "print(\"Reviews containing 'she': \", len(shedf))\n",
    "print(\"Reviews containing 'he' : \", len(hedf))"
   ]
  }
 ],
 "metadata": {
  "kernelspec": {
   "display_name": "Python 3",
   "language": "python",
   "name": "python3"
  },
  "language_info": {
   "codemirror_mode": {
    "name": "ipython",
    "version": 3
   },
   "file_extension": ".py",
   "mimetype": "text/x-python",
   "name": "python",
   "nbconvert_exporter": "python",
   "pygments_lexer": "ipython3",
   "version": "3.9.1"
  }
 },
 "nbformat": 4,
 "nbformat_minor": 5
}
