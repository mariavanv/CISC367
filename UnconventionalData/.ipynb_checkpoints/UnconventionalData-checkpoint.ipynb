{
 "cells": [
  {
   "cell_type": "code",
   "execution_count": 4,
   "id": "fundamental-comparative",
   "metadata": {},
   "outputs": [
    {
     "data": {
      "text/plain": [
       "the         2640\n",
       ".           2323\n",
       "of          1580\n",
       "to          1384\n",
       "and         1174\n",
       "a            977\n",
       "in           694\n",
       "is           612\n",
       "for          524\n",
       "that         507\n",
       "be           431\n",
       "data         407\n",
       "The          361\n",
       "are          349\n",
       "with         337\n",
       "as           307\n",
       "students     259\n",
       "can          257\n",
       "this         247\n",
       "course       233\n",
       "it           222\n",
       "or           221\n",
       "on           210\n",
       "an           190\n",
       "their        182\n",
       "was          176\n",
       "Data         171\n",
       "by           171\n",
       "not          168\n",
       "I            155\n",
       "dtype: int64"
      ]
     },
     "execution_count": 4,
     "metadata": {},
     "output_type": "execute_result"
    }
   ],
   "source": [
    "import fitz\n",
    "import pandas as pd\n",
    "from collections import Counter\n",
    "\n",
    "doc = fitz.open('dissertation.pdf')\n",
    "text = \"\".join(page.get_text(\"text\") for page in doc)\n",
    "words = pd.Series(text.split())\n",
    "words.value_counts().head(30)"
   ]
  },
  {
   "cell_type": "code",
   "execution_count": 5,
   "id": "seven-hanging",
   "metadata": {},
   "outputs": [
    {
     "data": {
      "text/html": [
       "<div>\n",
       "<style scoped>\n",
       "    .dataframe tbody tr th:only-of-type {\n",
       "        vertical-align: middle;\n",
       "    }\n",
       "\n",
       "    .dataframe tbody tr th {\n",
       "        vertical-align: top;\n",
       "    }\n",
       "\n",
       "    .dataframe thead th {\n",
       "        text-align: right;\n",
       "    }\n",
       "</style>\n",
       "<table border=\"1\" class=\"dataframe\">\n",
       "  <thead>\n",
       "    <tr style=\"text-align: right;\">\n",
       "      <th></th>\n",
       "      <th>0</th>\n",
       "      <th>1</th>\n",
       "      <th>2</th>\n",
       "      <th>3</th>\n",
       "      <th>4</th>\n",
       "    </tr>\n",
       "  </thead>\n",
       "  <tbody>\n",
       "    <tr>\n",
       "      <th>0</th>\n",
       "      <td>Fall</td>\n",
       "      <td>2020 Fall Term</td>\n",
       "      <td></td>\n",
       "      <td>2021 Fall Term</td>\n",
       "      <td></td>\n",
       "    </tr>\n",
       "    <tr>\n",
       "      <th>1</th>\n",
       "      <td>First Day of Classes</td>\n",
       "      <td>Tue</td>\n",
       "      <td>September 1</td>\n",
       "      <td>Tue</td>\n",
       "      <td>August 31</td>\n",
       "    </tr>\n",
       "    <tr>\n",
       "      <th>2</th>\n",
       "      <td>Labor Day - Classes Will Meet</td>\n",
       "      <td>Mon</td>\n",
       "      <td>September 7</td>\n",
       "      <td></td>\n",
       "      <td></td>\n",
       "    </tr>\n",
       "    <tr>\n",
       "      <th>3</th>\n",
       "      <td>Labor Day - Classes Suspended</td>\n",
       "      <td></td>\n",
       "      <td></td>\n",
       "      <td>Mon</td>\n",
       "      <td>September 6</td>\n",
       "    </tr>\n",
       "    <tr>\n",
       "      <th>4</th>\n",
       "      <td>Last day to add or drop courses</td>\n",
       "      <td>Tue</td>\n",
       "      <td>September 15</td>\n",
       "      <td>Tue</td>\n",
       "      <td>September 14</td>\n",
       "    </tr>\n",
       "    <tr>\n",
       "      <th>...</th>\n",
       "      <td>...</td>\n",
       "      <td>...</td>\n",
       "      <td>...</td>\n",
       "      <td>...</td>\n",
       "      <td>...</td>\n",
       "    </tr>\n",
       "    <tr>\n",
       "      <th>70</th>\n",
       "      <td>Summer Session - 10 week - classes begin</td>\n",
       "      <td>Mon</td>\n",
       "      <td>June 7</td>\n",
       "      <td>Mon</td>\n",
       "      <td>June 6</td>\n",
       "    </tr>\n",
       "    <tr>\n",
       "      <th>71</th>\n",
       "      <td>Last day to add or drop courses</td>\n",
       "      <td>Wed</td>\n",
       "      <td>June 16</td>\n",
       "      <td>Wed</td>\n",
       "      <td>June 15</td>\n",
       "    </tr>\n",
       "    <tr>\n",
       "      <th>72</th>\n",
       "      <td>Last day to change registration or withdraw fr...</td>\n",
       "      <td>Thur</td>\n",
       "      <td>July 15</td>\n",
       "      <td>Thur</td>\n",
       "      <td>July 14</td>\n",
       "    </tr>\n",
       "    <tr>\n",
       "      <th>73</th>\n",
       "      <td>Final Exams</td>\n",
       "      <td>Fri</td>\n",
       "      <td>August 13</td>\n",
       "      <td>Fri</td>\n",
       "      <td>August 12</td>\n",
       "    </tr>\n",
       "    <tr>\n",
       "      <th>74</th>\n",
       "      <td>Deadline for 10-week grades to be posted to UDSIS</td>\n",
       "      <td>Tue</td>\n",
       "      <td>August 17</td>\n",
       "      <td>Tue</td>\n",
       "      <td>August 16</td>\n",
       "    </tr>\n",
       "  </tbody>\n",
       "</table>\n",
       "<p>75 rows × 5 columns</p>\n",
       "</div>"
      ],
      "text/plain": [
       "                                                    0               1  \\\n",
       "0                                                Fall  2020 Fall Term   \n",
       "1                                First Day of Classes             Tue   \n",
       "2                       Labor Day - Classes Will Meet             Mon   \n",
       "3                       Labor Day - Classes Suspended                   \n",
       "4                     Last day to add or drop courses             Tue   \n",
       "..                                                ...             ...   \n",
       "70           Summer Session - 10 week - classes begin             Mon   \n",
       "71                    Last day to add or drop courses             Wed   \n",
       "72  Last day to change registration or withdraw fr...            Thur   \n",
       "73                                        Final Exams             Fri   \n",
       "74  Deadline for 10-week grades to be posted to UDSIS             Tue   \n",
       "\n",
       "               2               3             4  \n",
       "0                 2021 Fall Term                \n",
       "1    September 1             Tue     August 31  \n",
       "2    September 7                                \n",
       "3                            Mon   September 6  \n",
       "4   September 15             Tue  September 14  \n",
       "..           ...             ...           ...  \n",
       "70        June 7             Mon        June 6  \n",
       "71       June 16             Wed       June 15  \n",
       "72       July 15            Thur       July 14  \n",
       "73     August 13             Fri     August 12  \n",
       "74     August 17             Tue     August 16  \n",
       "\n",
       "[75 rows x 5 columns]"
      ]
     },
     "execution_count": 5,
     "metadata": {},
     "output_type": "execute_result"
    }
   ],
   "source": [
    "import camelot\n",
    "tables = camelot.read_pdf('calendar.pdf')\n",
    "df = tables[0].df\n",
    "df"
   ]
  },
  {
   "cell_type": "code",
   "execution_count": 6,
   "id": "established-dakota",
   "metadata": {},
   "outputs": [],
   "source": [
    "import requests\n",
    "import pprint\n",
    "from PIL import Image\n",
    "import io\n",
    "import pytesseract\n",
    "\n",
    "\n",
    "# Set a User Agent to avoid being blocked\n",
    "data = requests.get(\"https://www.reddit.com/r/comics/.json\", headers = {'User-agent': 'your bot 0.1'}).json()\n",
    "\n",
    "#pprint(data)"
   ]
  },
  {
   "cell_type": "code",
   "execution_count": 9,
   "id": "continental-advice",
   "metadata": {},
   "outputs": [
    {
     "name": "stdout",
     "output_type": "stream",
     "text": [
      "the       15\n",
      "A          7\n",
      "a          7\n",
      "to         5\n",
      "you        5\n",
      "          ..\n",
      "great      1\n",
      "artist     1\n",
      "time       1\n",
      "can        1\n",
      "local      1\n",
      "Length: 258, dtype: int64\n"
     ]
    }
   ],
   "source": [
    "#From the prequal memes subreddit\n",
    "\n",
    "urls = {'https://i.redd.it/udrvo4yro9171.png', \n",
    "        'https://preview.redd.it/4bvncbx7p8171.jpg?width=640&crop=smart&auto=webp&s=fd92c55d6ed373597c76f9ceb2664b3c84a8b5d0',\n",
    "        'https://preview.redd.it/lryovlvhl8171.png?width=640&crop=smart&auto=webp&s=7eb59e324ac42808b6f8bd8b3f7f316281ce27a9',\n",
    "        'https://preview.redd.it/lsbyc0oxk7171.jpg?width=640&crop=smart&auto=webp&s=c90a0d5125b6cfc9f981a3e74bcd55157ba3cbe1',\n",
    "        'https://preview.redd.it/ivdx3t3mp9171.jpg?width=640&crop=smart&auto=webp&s=4c12b5b8a1ae682f12b1088a372e21871b3b6869',\n",
    "        'https://preview.redd.it/x1zvwsqhc9171.jpg?width=640&crop=smart&auto=webp&s=21f745df5e197078a2d0f6e942cab1cb4510b633',\n",
    "        'https://preview.redd.it/5itsthb079171.jpg?width=640&crop=smart&auto=webp&s=0a0aa66be4b52626fedd5f8446927af356887dfc',\n",
    "        'https://preview.redd.it/nay1zmv835171.jpg?width=640&crop=smart&auto=webp&s=f1d005e42b79a39f99a7c7586c4686fd82f5143c',\n",
    "        'https://preview.redd.it/csiv19l006171.jpg?width=640&crop=smart&auto=webp&s=1bab8f3a833f69486482d26bc5ae979a5f94db38',\n",
    "        'https://preview.redd.it/uc94rqsvr3171.jpg?width=640&crop=smart&auto=webp&s=d86ca51985fad16b8cdbab05f5f80550c95289af',\n",
    "        'https://preview.redd.it/332u4agks8171.jpg?width=640&crop=smart&auto=webp&s=2e8814759349dd8d36002559fb295fed4e17effd',\n",
    "        'https://preview.redd.it/4dsood4tr3171.jpg?width=640&crop=smart&auto=webp&s=c87c0ac61c0020065d1a3f252d7883286a2ac851',\n",
    "        'https://preview.redd.it/rsdbgcyv98171.png?width=640&crop=smart&auto=webp&s=113313eee0d29a12b6e2375a7656be55cb7aa93b',\n",
    "        'https://preview.redd.it/pfi7ay0xo2171.jpg?width=640&crop=smart&auto=webp&s=90e83422c0df304f6d10e5ed0ba76fe577cb6957'\n",
    "       }\n",
    "\n",
    "\n",
    "prequaltext = ''\n",
    "\n",
    "for url in urls:\n",
    "    response = requests.get(url)\n",
    "    img = Image.open(io.BytesIO(response.content))\n",
    "    prequaltext = prequaltext + pytesseract.image_to_string(img)\n",
    "\n",
    "words = pd.Series(prequaltext.split())\n",
    "print(words.value_counts())"
   ]
  },
  {
   "cell_type": "code",
   "execution_count": 13,
   "id": "banned-alfred",
   "metadata": {},
   "outputs": [
    {
     "data": {
      "image/png": "[encoded data removed]",
      "text/plain": [
       "<Figure size 432x288 with 1 Axes>"
      ]
     },
     "metadata": {
      "needs_background": "light"
     },
     "output_type": "display_data"
    }
   ],
   "source": [
    "\n",
    "from collections import Counter\n",
    "import numpy as np\n",
    "import matplotlib.pyplot as plt\n",
    "\n",
    "\n",
    "\n",
    "word_list = words\n",
    "\n",
    "counts = Counter(word_list)\n",
    "\n",
    "labels, values = zip(*counts.items())\n",
    "\n",
    "# sort your values in descending order\n",
    "indSort = np.argsort(values)[::-1]\n",
    "\n",
    "# rearrange your data\n",
    "labels = np.array(labels)[indSort]\n",
    "values = np.array(values)[indSort]\n",
    "\n",
    "indexes = np.arange(len(labels))\n",
    "\n",
    "bar_width = 1\n",
    "\n",
    "plt.bar(indexes, values)\n",
    "\n",
    "# add labels\n",
    "plt.xticks(indexes + bar_width, labels)\n",
    "plt.show()\n",
    "\n",
    "#source: https://stackoverflow.com/questions/35596128/how-to-generate-a-word-frequency-histogram-where-bars-are-ordered-according-to"
   ]
  },
  {
   "cell_type": "code",
   "execution_count": 10,
   "id": "worthy-nursery",
   "metadata": {},
   "outputs": [
    {
     "name": "stdout",
     "output_type": "stream",
     "text": [
      "0.11203473771061043\n"
     ]
    }
   ],
   "source": [
    "from textblob import TextBlob\n",
    "\n",
    "blob = TextBlob(text)\n",
    "print(blob.sentiment.polarity)\n"
   ]
  },
  {
   "cell_type": "markdown",
   "id": "fatal-tutorial",
   "metadata": {},
   "source": [
    "Slightly positive"
   ]
  },
  {
   "cell_type": "code",
   "execution_count": null,
   "id": "legitimate-transformation",
   "metadata": {},
   "outputs": [],
   "source": []
  }
 ],
 "metadata": {
  "kernelspec": {
   "display_name": "Python 3",
   "language": "python",
   "name": "python3"
  },
  "language_info": {
   "codemirror_mode": {
    "name": "ipython",
    "version": 3
   },
   "file_extension": ".py",
   "mimetype": "text/x-python",
   "name": "python",
   "nbconvert_exporter": "python",
   "pygments_lexer": "ipython3",
   "version": "3.9.1"
  }
 },
 "nbformat": 4,
 "nbformat_minor": 5
}
