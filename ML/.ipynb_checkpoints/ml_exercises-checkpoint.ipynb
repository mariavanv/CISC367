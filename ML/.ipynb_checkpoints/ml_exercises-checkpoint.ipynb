{
 "cells": [
  {
   "cell_type": "markdown",
   "id": "known-defense",
   "metadata": {},
   "source": [
    "# Questions\n",
    "\n",
    "Fill in your name and the link to this file on your github.\n",
    "\n",
    "* Name: Maria van Venrooy\n",
    "* Link to github URL: https://github.com/mariavanv/CISC367/tree/main/ML"
   ]
  },
  {
   "cell_type": "code",
   "execution_count": 1,
   "id": "enabling-parent",
   "metadata": {},
   "outputs": [],
   "source": [
    "import pandas as pd\n",
    "import numpy as np\n",
    "import scipy.stats as st\n",
    "import matplotlib.pyplot as plt\n",
    "import scipy\n",
    "\n",
    "from sklearn.naive_bayes import GaussianNB\n",
    "from sklearn import metrics\n",
    "from sklearn import datasets\n",
    "from sklearn.model_selection import train_test_split"
   ]
  },
  {
   "cell_type": "markdown",
   "id": "banner-credits",
   "metadata": {},
   "source": [
    "# ML: Linear Regression\n",
    "\n",
    "So this starts with linear regression. If you want a deeper dive than what I cover in class, you can refer to [this page](https://realpython.com/linear-regression-in-python/)\n",
    "\n",
    "The exercises come from this workbook, which has somewhat helpful explanations too: https://csmastersuh.github.io/data_analysis_with_python_2020/linear_regression.html"
   ]
  },
  {
   "cell_type": "markdown",
   "id": "reflected-integral",
   "metadata": {},
   "source": [
    "# Exercise 10: Linear Regression\n",
    "\n",
    "You'll need to make up some data for this. Don't spend too much time on this one, it's less interesting compared to the others."
   ]
  },
  {
   "cell_type": "code",
   "execution_count": 2,
   "id": "norman-glory",
   "metadata": {},
   "outputs": [
    {
     "data": {
      "text/plain": [
       "array([ 0.        ,  0.52631579,  1.05263158,  1.57894737,  2.10526316,\n",
       "        2.63157895,  3.15789474,  3.68421053,  4.21052632,  4.73684211,\n",
       "        5.26315789,  5.78947368,  6.31578947,  6.84210526,  7.36842105,\n",
       "        7.89473684,  8.42105263,  8.94736842,  9.47368421, 10.        ])"
      ]
     },
     "metadata": {},
     "output_type": "display_data"
    },
    {
     "data": {
      "text/plain": [
       "array([ 1.6914968 ,  1.54691817,  0.89948667,  4.89128808,  5.67740126,\n",
       "        6.60070376,  6.40299345,  8.33193467, 11.74754875, 12.04641005,\n",
       "       11.60503136, 14.02993721, 13.55504124, 14.54131348, 16.32486711,\n",
       "       18.37318219, 18.59975606, 18.75702241, 20.48684856, 21.64860774])"
      ]
     },
     "metadata": {},
     "output_type": "display_data"
    },
    {
     "data": {
      "image/png": "[encoded data removed]",
      "text/plain": [
       "<Figure size 432x288 with 1 Axes>"
      ]
     },
     "metadata": {
      "needs_background": "light"
     },
     "output_type": "display_data"
    }
   ],
   "source": [
    "n=20\n",
    "# Linearly increasing x values\n",
    "x = np.linspace(0, 10, n)\n",
    "# Wonky line of points\n",
    "y = x*2 + 1 + 1*np.random.randn(n)\n",
    "display(x, y)\n",
    "plt.scatter(x, y)\n",
    "#plt.show()\n",
    "\n",
    "model = np.polyfit(x,y,1)\n",
    "predict = np.poly1d(model)\n",
    "x_lin_reg = x\n",
    "y_lin_reg = predict(x_lin_reg)\n",
    "plt.plot(x_lin_reg, y_lin_reg, c = 'r')\n",
    "plt.show()\n",
    "# Do actual linear regression here"
   ]
  },
  {
   "cell_type": "markdown",
   "id": "central-river",
   "metadata": {},
   "source": [
    "# Exercise 11: Mystery Data\n",
    "\n",
    "This one is far more interesting. You can download the file from [here](https://raw.githubusercontent.com/AnkS4/hy-data-analysis-with-python-2020/master/part05-e11_mystery_data/src/mystery_data.tsv). Make sure it gets the right filename!\n",
    "\n",
    "You don't need to define any functions, as they demand, although you might find that helpful to do."
   ]
  },
  {
   "cell_type": "code",
   "execution_count": 8,
   "id": "handed-exemption",
   "metadata": {},
   "outputs": [
    {
     "name": "stdout",
     "output_type": "stream",
     "text": [
      "Coefficient of X1 is 3.0000000000000244\n",
      "Coefficient of X2 is -0.9999999999999867\n",
      "Coefficient of X3 is 6.99999999999999\n",
      "Coefficient of X4 is 9.769962616701378e-15\n",
      "Coefficient of X5 is -19.999999999999993\n"
     ]
    }
   ],
   "source": [
    "from sklearn.linear_model import LinearRegression\n",
    "\n",
    "df11 = pd.read_csv(\"mystery_data.tsv\", sep='\\t')\n",
    "\n",
    "model = LinearRegression(fit_intercept=False)\n",
    "model.fit(df11.iloc[:,0:5], df.iloc[:,5])\n",
    "\n",
    "coefs = model.coef_\n",
    "\n",
    "for i, co in enumerate(coefs):\n",
    "        print(f\"Coefficient of X{i+1} is {co}\")\n"
   ]
  },
  {
   "cell_type": "markdown",
   "id": "given-banking",
   "metadata": {},
   "source": [
    "I think all of the features are needed except for x4, because it's coefficient is reallllyyyy tiny"
   ]
  },
  {
   "cell_type": "markdown",
   "id": "dramatic-madison",
   "metadata": {},
   "source": [
    "## Exercise 12: Coefficient of Determination\n",
    "\n",
    "Read over this entire problem, parts 1 and 2.\n",
    "\n",
    "This reuses the same `mystery_data.tsv` file as before.\n",
    "\n",
    "Again, you do not need to define their function. Just calculate the R2 scores and print them, as they direct."
   ]
  },
  {
   "cell_type": "code",
   "execution_count": 11,
   "id": "certified-catch",
   "metadata": {},
   "outputs": [
    {
     "name": "stdout",
     "output_type": "stream",
     "text": [
      "R2-score with feature(s) X: 1.0\n",
      "R2-score with feature(s) X2: 0.01856867054794764\n",
      "R2-score with feature(s) X3: 0.00027043105921675803\n",
      "R2-score with feature(s) X4: 0.08699933347375\n",
      "R2-score with feature(s) X5: 0.0014204162338299353\n",
      "R2-score with feature(s) X6: 0.8607959696159544\n"
     ]
    }
   ],
   "source": [
    "from sklearn import linear_model\n",
    "\n",
    "df12 = pd.read_csv(\"mystery_data.tsv\", sep=\"\\t\")\n",
    "\n",
    "x = df12.iloc[:,0:5]\n",
    "y = df.iloc[:,5]\n",
    "\n",
    "reg = linear_model.LinearRegression()\n",
    "reg.fit(x,y)\n",
    "scores = []\n",
    "scores.append(reg.score(x,y))\n",
    "for i in x:\n",
    "    reg.fit(df[i].values.reshape(-1,1),y)\n",
    "    score = reg.score(df[i].values.reshape(-1,1),y)\n",
    "    scores.append(score)\n",
    "    \n",
    "for i, n in enumerate(scores):\n",
    "    if i==0:\n",
    "        print(f\"R2-score with feature(s) X: {n}\")\n",
    "    else:\n",
    "        print(f\"R2-score with feature(s) X{i+1}: {n}\")\n",
    "        \n"
   ]
  },
  {
   "cell_type": "markdown",
   "id": "earned-launch",
   "metadata": {},
   "source": [
    "## Exercise 13: Cycling Weather\n",
    "\n",
    "I've already prepared the data that they require for this assignment. You can download it [here](https://gist.githubusercontent.com/acbart/466174a04e9a2505c4c25f91fc6dd4f6/raw/726865070677ec7dede17a08095624e0ea35e7cd/biking.csv).\n",
    "\n",
    "The first column is the index, you can safely ignore it. The next 7 columns are straightforward. The last few columns are locations in Finland that have measuring stations. I recommend using `Baana` as they say in the instructions for testing.\n"
   ]
  },
  {
   "cell_type": "code",
   "execution_count": 30,
   "id": "commercial-cooler",
   "metadata": {},
   "outputs": [
    {
     "name": "stdout",
     "output_type": "stream",
     "text": [
      "Baana:\n",
      "Reg coef for 'precipitation':  -52.179548960018785\n",
      "Reg coef for 'snow depth':  -32.93766860685709\n",
      "Reg coef for 'Temperature':  169.24225037357726\n",
      "Score: ' 0.5750246253469835\n"
     ]
    }
   ],
   "source": [
    "df13 = pd.read_csv(\"biking.csv.txt\")\n",
    "\n",
    "reg = linear_model.LinearRegression(fit_intercept=True)\n",
    "\n",
    "\n",
    "X = df13[['Precipitation amount (mm)', 'Snow depth (cm)', 'Air temperature (degC)']]\n",
    "y = df13[['Baana']]\n",
    "\n",
    "\n",
    "reg.fit(X, y)\n",
    "\n",
    "coef = reg.coef_[0]\n",
    "\n",
    "print(\"Baana:\")\n",
    "\n",
    "print(\"Reg coef for 'precipitation': \" , coef[0])\n",
    "print(\"Reg coef for 'snow depth': \" , coef[1])\n",
    "print(\"Reg coef for 'Temperature': \" , coef[2])\n",
    "print(\"Score: '\" , reg.score(X,y))"
   ]
  },
  {
   "cell_type": "markdown",
   "id": "fundamental-airfare",
   "metadata": {},
   "source": [
    "# ML Naive Bayes Classification\n",
    "\n",
    "This is the next section of the exercises, from: https://csmastersuh.github.io/data_analysis_with_python_2020/bayes.html\n",
    "\n",
    "In addition to the reading, I recommend this video: https://www.youtube.com/watch?v=CPqOCI0ahss\n",
    "\n",
    "\n",
    "## Exercise 1: Blob Classification\n",
    "\n",
    "(**OPTIONAL**) This one is very vague, and they're actually asking you to generate your own test data using the `make_blobs` function from `sklearn`'s `datasets` submodule. I've already started that work for you. But honestly if you want to skip it, I don't think it's a helpful starting question."
   ]
  },
  {
   "cell_type": "code",
   "execution_count": 31,
   "id": "sustained-laser",
   "metadata": {},
   "outputs": [
    {
     "name": "stdout",
     "output_type": "stream",
     "text": [
      "The accuracy score is None\n",
      "array([[2.0, 2.0, 0.0, 2.5, None],\n",
      "       [2.0, 3.0, 1.0, 1.5, None],\n",
      "       [2.0, 2.0, 6.0, 3.5, None],\n",
      "       [2.0, 2.0, 3.0, 1.2, None],\n",
      "       [2.0, 4.0, 4.0, 2.7, None]], dtype=object)\n"
     ]
    }
   ],
   "source": [
    "def blob_classification(X, y):\n",
    "    # Put ML stuff here\n",
    "    pass\n",
    "\n",
    "# Create the training data and validation data\n",
    "X, y = datasets.make_blobs(100, 2, centers=2, random_state=2, cluster_std=2.5)\n",
    "# Run your ML predictions\n",
    "print(\"The accuracy score is\", blob_classification(X, y))\n",
    "# Run this on some new data\n",
    "a=np.array([[2, 2, 0, 2.5],\n",
    "            [2, 3, 1, 1.5],\n",
    "            [2, 2, 6, 3.5],\n",
    "            [2, 2, 3, 1.2],\n",
    "            [2, 4, 4, 2.7]])\n",
    "accuracies = []\n",
    "for row in a:\n",
    "    X,y = datasets.make_blobs(100, int(row[0]), centers=int(row[1]),\n",
    "                              random_state=int(row[2]), cluster_std=row[3])\n",
    "    accuracies.append(blob_classification(X, y))\n",
    "print(repr(np.hstack([a, np.array(accuracies)[:,np.newaxis]])))\n",
    "# The last column should be the categorizations"
   ]
  },
  {
   "cell_type": "markdown",
   "id": "conditional-compromise",
   "metadata": {},
   "source": [
    "## Exercise 2: Plant Classification\n",
    "\n",
    "This is a much better question. The Iris dataset is a classic: https://en.wikipedia.org/wiki/Iris_flower_data_set\n",
    "\n",
    "The wikipedia page gives an example of how to load the dataset."
   ]
  },
  {
   "cell_type": "code",
   "execution_count": 38,
   "id": "original-vienna",
   "metadata": {},
   "outputs": [
    {
     "name": "stdout",
     "output_type": "stream",
     "text": [
      "Accuracy:  0.9666666666666667\n"
     ]
    }
   ],
   "source": [
    "from sklearn.datasets import load_iris\n",
    "from sklearn import naive_bayes\n",
    "\n",
    "iris = load_iris()\n",
    "\n",
    "X, y = iris.data, iris.target\n",
    "\n",
    "X_train, X_test, y_train, y_test = train_test_split(X, y, test_size=0.2, random_state=0)\n",
    "\n",
    "modelplant = naive_bayes.GaussianNB()\n",
    "modelplant.fit(X_train, y_train)\n",
    "\n",
    "plantpredict = modelplant.predict(X_test)\n",
    "\n",
    "print(\"Accuracy: \" , metrics.accuracy_score(y_test, plantpredict))"
   ]
  },
  {
   "cell_type": "markdown",
   "id": "billion-flooring",
   "metadata": {},
   "source": [
    "## Exercise 3: Word Classification\n",
    "\n",
    "(**Skip**)\n",
    "\n",
    "This one is too much. They give some of the data as an XML file. It's an interesting problem, and you can find the data (and solution) [here](https://github.com/AnkS4/hy-data-analysis-with-python-2020/tree/master/part06-e03_word_classification/src) if you want to tackle it, but I'm skipping it.\n"
   ]
  },
  {
   "cell_type": "code",
   "execution_count": null,
   "id": "surprising-geometry",
   "metadata": {},
   "outputs": [],
   "source": [
    "Skip!!"
   ]
  },
  {
   "cell_type": "markdown",
   "id": "noted-israel",
   "metadata": {},
   "source": [
    "## Exercise 4: Spam Detection\n",
    "\n",
    "Download [ham.txt.gz](https://github.com/AnkS4/hy-data-analysis-with-python-2020/raw/master/part06-e04_spam_detection/src/ham.txt.gz) and [spam.txt.gz](https://github.com/AnkS4/hy-data-analysis-with-python-2020/raw/master/part06-e04_spam_detection/src/spam.txt.gz).\n",
    "\n",
    "This one is much more interesting and reasonable. It requires processing some large text files, but that's actually the easiest part, as shown in the code below. The idea is that you have spam (bad emails) and ham (good emails), and you want to determine which is which. I've done similar email processing (detecting job ads for a conference) and I was impressed with how easily I could train a little data and get very good results."
   ]
  },
  {
   "cell_type": "code",
   "execution_count": 57,
   "id": "seven-horror",
   "metadata": {},
   "outputs": [
    {
     "name": "stdout",
     "output_type": "stream",
     "text": [
      "Number of spam emails loaded as strings: 500\n",
      "Number of ham emails loaded as strings: 2500\n",
      "Accuracy score: 0.9693333333333334\n",
      "23 messages miclassified out of 750\n"
     ]
    }
   ],
   "source": [
    "import gzip\n",
    "from sklearn.feature_extraction.text import CountVectorizer\n",
    "from sklearn.naive_bayes import MultinomialNB\n",
    "from sklearn.metrics import accuracy_score\n",
    "\n",
    "# Load the spam emails as strings in a list.\n",
    "with gzip.open('spam.txt.gz', 'rb') as spam_file:\n",
    "    spam = spam_file.readlines()\n",
    "print(\"Number of spam emails loaded as strings:\", len(spam))\n",
    "\n",
    "# Now do the same thing with the `ham.txt.gz`\n",
    "with gzip.open('ham.txt.gz', 'rb') as ham_file:\n",
    "    ham = ham_file.readlines()\n",
    "print(\"Number of ham emails loaded as strings:\", len(ham))\n",
    "\n",
    "# And then do the actual ML stuff\n",
    "X = ham + spam\n",
    "vectorizer = CountVectorizer()\n",
    "X = vectorizer.fit_transform(X).toarray()\n",
    "\n",
    "y = np.zeros(len(X))\n",
    "y[len(ham):] = 1\n",
    "\n",
    "X_train, X_test, y_train, y_test = train_test_split(X, y, random_state=0, train_size=0.75)\n",
    "model = MultinomialNB()\n",
    "model.fit(X_train, y_train)\n",
    "y_pred = model.predict(X_test)\n",
    "\n",
    "score = accuracy_score(y_test, y_pred)\n",
    "miss = (y_test != y_pred).sum()\n",
    "\n",
    "print(\"Accuracy score:\", score)\n",
    "print(f\"{miss} messages miclassified out of {len(X_test)}\")\n"
   ]
  },
  {
   "cell_type": "markdown",
   "id": "english-amendment",
   "metadata": {},
   "source": [
    "# ML Clustering\n",
    "\n",
    "This is the last section: https://csmastersuh.github.io/data_analysis_with_python_2020/clustering.html\n",
    "\n",
    "This section is one of the most interesting in my opinion. K-Means is a pretty straightforward tool, and is really worth learning how to use it."
   ]
  },
  {
   "cell_type": "markdown",
   "id": "julian-motel",
   "metadata": {},
   "source": [
    "## Exercise 5: Plant Clustering\n",
    "\n",
    "Same deal as before; use the IRIS dataset. Since this has so many parameters, it can be tricky to make a good visualization."
   ]
  },
  {
   "cell_type": "code",
   "execution_count": 60,
   "id": "expressed-accident",
   "metadata": {},
   "outputs": [
    {
     "name": "stdout",
     "output_type": "stream",
     "text": [
      "Accuracy:  0.8933333333333333\n"
     ]
    }
   ],
   "source": [
    "from sklearn.cluster import KMeans\n",
    "from sklearn.metrics import accuracy_score\n",
    "\n",
    "iris = load_iris()\n",
    "\n",
    "X, y = iris.data, iris.target\n",
    "\n",
    "clustmodel = KMeans(3, random_state=0)\n",
    "clustmodel.fit(X)\n",
    "\n",
    "\n",
    "perm = []\n",
    "\n",
    "for i in range(3):\n",
    "        idx =  clustmodel.labels_ == i\n",
    "        # Choose the most common label among data points in the cluster\n",
    "        new_label=scipy.stats.mode(y[idx])[0][0]\n",
    "        perm.append(new_label)\n",
    "        \n",
    "new_labels = [perm[label] for label in clustmodel.labels_]\n",
    "        \n",
    "        \n",
    "print(\"Accuracy: \" , accuracy_score(y,new_labels))"
   ]
  },
  {
   "cell_type": "markdown",
   "id": "convenient-thesis",
   "metadata": {},
   "source": [
    "## Exercise 6: Non-convex Clusters\n",
    "\n",
    "The data for this question is [here](https://raw.githubusercontent.com/AnkS4/hy-data-analysis-with-python-2020/master/part06-e06_nonconvex_clusters/src/data.tsv).\n",
    "\n",
    "This one shows off a different clustering algorithm ([`DBSCAN`](https://scikit-learn.org/stable/modules/generated/sklearn.cluster.DBSCAN.html)), which is \"Good for data which contains clusters of similar density\". I wasn't very familiar with DBSCAN, but it does seem much better than KMeans. It doesn't require you to figure out the number of clusters, and seems to be tricked less by unusual data. [This page](https://www.kdnuggets.com/2020/04/dbscan-clustering-algorithm-machine-learning.html) was very helpful in breaking that difference down.\n",
    "\n",
    "The reference answer uses a `for` loop and `np.arange` to try `e` values from 0.05 to 0.2 in 0.05 increments, but I don't mind if you just manually try some different `e` values.\n",
    "\n",
    "Please do make a visualization with clusters colored, since I think that really highlights what we are doing!"
   ]
  },
  {
   "cell_type": "code",
   "execution_count": 66,
   "id": "owned-profit",
   "metadata": {},
   "outputs": [
    {
     "name": "stdout",
     "output_type": "stream",
     "text": [
      "    eps  Score  Clusters  Outliers\n",
      "0  0.10    NaN       2.0       3.0\n",
      "1  0.15    NaN       2.0       0.0\n"
     ]
    }
   ],
   "source": [
    "from sklearn.cluster import DBSCAN\n",
    "\n",
    "df6 = pd.read_csv(\"data.tsv.txt\", sep=\"\\t\")\n",
    "X = df6[[\"X1\",\"X2\"]]\n",
    "y = df6[\"y\"]\n",
    "\n",
    "results = []\n",
    "\n",
    "for e in np.arange(0.05, 0.2, 0.05):\n",
    "    model = DBSCAN(e)\n",
    "    model.fit(X)\n",
    "    idx = model.labels_ == -1\n",
    "    outliers = np.sum(idx)\n",
    "    clusters = max(model.labels_) + 1\n",
    "    \n",
    "    if clusters == len(y.unique()):\n",
    "        #permutation = find_permutation(clusters, y, model.labels_)\n",
    "        permutation=[]\n",
    "        for i in range(clusters):\n",
    "            idx = model.labels_ == i\n",
    "            # Choose the most common label among data points in the cluster\n",
    "            new_label=scipy.stats.mode(y[idx])[0][0]\n",
    "            permutation.append(new_label)\n",
    "        \n",
    "        \n",
    "            score = accuracy_score(y[idx], [permutation[label] for label in model.labels_[idx]])\n",
    "        else:\n",
    "            score = np.nan\n",
    "        results.append([e, score, clusters, outliers])\n",
    "        \n",
    "print(pd.DataFrame(data=results, columns=[\"eps\", \"Score\", \"Clusters\", \"Outliers\"], dtype=\"float64\")\n",
    ")"
   ]
  },
  {
   "cell_type": "markdown",
   "id": "temporal-somalia",
   "metadata": {},
   "source": [
    "## Exercise 7: Binding Sites\n",
    "\n",
    "Download the [`data.seq` file](https://raw.githubusercontent.com/AnkS4/hy-data-analysis-with-python-2020/master/part06-e07_binding_sites/src/data.seq); note that it is just a plain textual data file, despite the fancy extension.\n",
    "\n",
    "They ask you to define `get_features_and_labels` to accept a filename, even though there's only one test file. Up to you if you want to hardcode the file path in or make it a flexible function.\n",
    "\n",
    "There are multiple parts here, and they ask you to compare the euclidean and hamming distance. I think it's worth thinking about - if you don't get what they mean, do ask!"
   ]
  },
  {
   "cell_type": "code",
   "execution_count": 68,
   "id": "gentle-removal",
   "metadata": {},
   "outputs": [],
   "source": [
    "\n",
    "# The `find_permutation` function provided in the text, for your convenience\n",
    "def find_permutation(n_clusters, real_labels, labels):\n",
    "    permutation=[]\n",
    "    for i in range(n_clusters):\n",
    "        idx = labels == i\n",
    "        # Choose the most common label among data points in the cluster\n",
    "        new_label=scipy.stats.mode(real_labels[idx])[0][0]\n",
    "        permutation.append(new_label)\n",
    "    return permutation\n",
    "\n",
    "#this one looks like a lot and I think my time will be better spend working more on the final"
   ]
  },
  {
   "cell_type": "code",
   "execution_count": null,
   "id": "cardiac-robertson",
   "metadata": {},
   "outputs": [],
   "source": []
  }
 ],
 "metadata": {
  "kernelspec": {
   "display_name": "Python 3",
   "language": "python",
   "name": "python3"
  },
  "language_info": {
   "codemirror_mode": {
    "name": "ipython",
    "version": 3
   },
   "file_extension": ".py",
   "mimetype": "text/x-python",
   "name": "python",
   "nbconvert_exporter": "python",
   "pygments_lexer": "ipython3",
   "version": "3.9.1"
  }
 },
 "nbformat": 4,
 "nbformat_minor": 5
}
