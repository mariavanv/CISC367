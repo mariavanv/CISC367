{
 "cells": [
  {
   "cell_type": "markdown",
   "id": "rocky-model",
   "metadata": {},
   "source": [
    "# Midterm Project - Background\n",
    "Maria van Venrooy \n",
    "\n",
    "## Societal Problem to explore: \n",
    "Litter and plastic pollution. \n",
    "Negative Effects of Plastic polution Include:\n",
    "- Plastic blocks storm drains, impeding the flow of water\n",
    "- Plastic pollution is detrimental to human health\n",
    "- Harmful to animals when consumed accidentally\n",
    "- Areas with large amounts of plastic waste are unattractive to tourists\n",
    "\n",
    "Sources: \n",
    "- https://thewatershed.org/how-does-plastic-pollution-harm-water/\n",
    "-  https://www.eartheclipse.com/pollution/fatal-effects-of-plastic-pollution.html\n",
    "\n",
    "## Research Question(s): \n",
    "1. Has the amount of waste recovered at beach clean ups increased or decreased over time? \n",
    "2. The data set includes data about the exact numbers of specific types of trash found. For example, the number of cigarette butts, balloons, and plastic utensils. Question: Has the amount of cigarette trash decreased as cigarette smoking becomes less popular?\n",
    "3. Are there certain kinds of trash that are found more in one season than another?\n",
    "4. Does having more participants in the cleanup result in more trash recovered?\n",
    "5. What percent of waste recovered is from single-use plastics?\n",
    "6. What is the most commonly found item?\n",
    "\n",
    "\n",
    "## Justification:\n",
    "Learning more about the nature of the waste recovered at these clean-up events will allow us to see what types of waste are most likely to affect our water systems, and therefore which types of waste we should focus on eliminating. We can also learn about the effectiveness of these types of cleanups, and potentially learn the ideal number of participants and the ideal time of year for a cleanup. \n",
    "\n",
    "## Dataset:\n",
    "Delaware Coastal Cleanup Results from Open Data Delaware \n",
    "\n",
    "Link: https://data.delaware.gov/Energy-and-Environment/Delaware-Coastal-Cleanup-Results/jumg-zbb3\n",
    "\n",
    "## Ethical Concerns:\n",
    "I am not aware of any ethical concerns at this time. "
   ]
  },
  {
   "cell_type": "code",
   "execution_count": null,
   "id": "deluxe-monday",
   "metadata": {},
   "outputs": [],
   "source": []
  }
 ],
 "metadata": {
  "kernelspec": {
   "display_name": "Python 3",
   "language": "python",
   "name": "python3"
  },
  "language_info": {
   "codemirror_mode": {
    "name": "ipython",
    "version": 3
   },
   "file_extension": ".py",
   "mimetype": "text/x-python",
   "name": "python",
   "nbconvert_exporter": "python",
   "pygments_lexer": "ipython3",
   "version": "3.9.1"
  }
 },
 "nbformat": 4,
 "nbformat_minor": 5
}
