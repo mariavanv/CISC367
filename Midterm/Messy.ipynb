{
 "cells": [
  {
   "cell_type": "markdown",
   "id": "aging-paragraph",
   "metadata": {},
   "source": [
    "# Messy Midterm \n",
    "\n",
    "Get the data into a dataframe:"
   ]
  },
  {
   "cell_type": "code",
   "execution_count": 2,
   "id": "qualified-match",
   "metadata": {},
   "outputs": [
    {
     "data": {
      "text/html": [
       "<div>\n",
       "<style scoped>\n",
       "    .dataframe tbody tr th:only-of-type {\n",
       "        vertical-align: middle;\n",
       "    }\n",
       "\n",
       "    .dataframe tbody tr th {\n",
       "        vertical-align: top;\n",
       "    }\n",
       "\n",
       "    .dataframe thead th {\n",
       "        text-align: right;\n",
       "    }\n",
       "</style>\n",
       "<table border=\"1\" class=\"dataframe\">\n",
       "  <thead>\n",
       "    <tr style=\"text-align: right;\">\n",
       "      <th></th>\n",
       "      <th>County</th>\n",
       "      <th>Location Lat-Long</th>\n",
       "      <th>Cleanup Type</th>\n",
       "      <th>Cleanup Date</th>\n",
       "      <th>Cleanup Site</th>\n",
       "      <th>Adults</th>\n",
       "      <th>Children</th>\n",
       "      <th>People</th>\n",
       "      <th>Pounds</th>\n",
       "      <th>Miles</th>\n",
       "      <th>...</th>\n",
       "      <th>Tampons/Tampon Applicators</th>\n",
       "      <th>Foam Pieces</th>\n",
       "      <th>Glass Pieces</th>\n",
       "      <th>Plastic Pieces</th>\n",
       "      <th>Clothing, Shoes</th>\n",
       "      <th>Shotgun Shells/Wadding</th>\n",
       "      <th>Light Bulbs/Tubes</th>\n",
       "      <th>Batteries</th>\n",
       "      <th>Cars/Car Parts</th>\n",
       "      <th>55-Gallon Drums</th>\n",
       "    </tr>\n",
       "  </thead>\n",
       "  <tbody>\n",
       "    <tr>\n",
       "      <th>0</th>\n",
       "      <td>Kent</td>\n",
       "      <td>(39.102739, -75.402356)</td>\n",
       "      <td>Beach</td>\n",
       "      <td>09/20/2008</td>\n",
       "      <td>Kitts Hummock</td>\n",
       "      <td>NaN</td>\n",
       "      <td>NaN</td>\n",
       "      <td>45</td>\n",
       "      <td>1500.0</td>\n",
       "      <td>1.0</td>\n",
       "      <td>...</td>\n",
       "      <td>15.0</td>\n",
       "      <td>NaN</td>\n",
       "      <td>NaN</td>\n",
       "      <td>NaN</td>\n",
       "      <td>11.0</td>\n",
       "      <td>70.0</td>\n",
       "      <td>1.0</td>\n",
       "      <td>NaN</td>\n",
       "      <td>4.0</td>\n",
       "      <td>3.0</td>\n",
       "    </tr>\n",
       "    <tr>\n",
       "      <th>1</th>\n",
       "      <td>Kent</td>\n",
       "      <td>(39.085748, -75.421875)</td>\n",
       "      <td>Beach</td>\n",
       "      <td>09/20/2008</td>\n",
       "      <td>Ted Harvey WLA/ Ted Harvey Wildlife Area</td>\n",
       "      <td>NaN</td>\n",
       "      <td>NaN</td>\n",
       "      <td>45</td>\n",
       "      <td>165.0</td>\n",
       "      <td>2.0</td>\n",
       "      <td>...</td>\n",
       "      <td>NaN</td>\n",
       "      <td>NaN</td>\n",
       "      <td>NaN</td>\n",
       "      <td>NaN</td>\n",
       "      <td>4.0</td>\n",
       "      <td>33.0</td>\n",
       "      <td>2.0</td>\n",
       "      <td>NaN</td>\n",
       "      <td>NaN</td>\n",
       "      <td>NaN</td>\n",
       "    </tr>\n",
       "    <tr>\n",
       "      <th>2</th>\n",
       "      <td>New Castle</td>\n",
       "      <td>(39.738765, -75.53939)</td>\n",
       "      <td>Beach</td>\n",
       "      <td>09/20/2008</td>\n",
       "      <td>E. 7th Street - Barbiarz Park</td>\n",
       "      <td>NaN</td>\n",
       "      <td>NaN</td>\n",
       "      <td>18</td>\n",
       "      <td>180.0</td>\n",
       "      <td>1.0</td>\n",
       "      <td>...</td>\n",
       "      <td>NaN</td>\n",
       "      <td>NaN</td>\n",
       "      <td>NaN</td>\n",
       "      <td>NaN</td>\n",
       "      <td>20.0</td>\n",
       "      <td>NaN</td>\n",
       "      <td>2.0</td>\n",
       "      <td>4.0</td>\n",
       "      <td>3.0</td>\n",
       "      <td>NaN</td>\n",
       "    </tr>\n",
       "    <tr>\n",
       "      <th>3</th>\n",
       "      <td>New Castle</td>\n",
       "      <td>(39.664715, -75.557785)</td>\n",
       "      <td>Beach</td>\n",
       "      <td>09/20/2008</td>\n",
       "      <td>Battery Park</td>\n",
       "      <td>NaN</td>\n",
       "      <td>NaN</td>\n",
       "      <td>51</td>\n",
       "      <td>892.0</td>\n",
       "      <td>0.5</td>\n",
       "      <td>...</td>\n",
       "      <td>48.0</td>\n",
       "      <td>NaN</td>\n",
       "      <td>NaN</td>\n",
       "      <td>NaN</td>\n",
       "      <td>37.0</td>\n",
       "      <td>12.0</td>\n",
       "      <td>2.0</td>\n",
       "      <td>0.0</td>\n",
       "      <td>19.0</td>\n",
       "      <td>0.0</td>\n",
       "    </tr>\n",
       "    <tr>\n",
       "      <th>4</th>\n",
       "      <td>New Castle</td>\n",
       "      <td>(39.504724, -75.580976)</td>\n",
       "      <td>Beach</td>\n",
       "      <td>09/20/2008</td>\n",
       "      <td>Augustine Beach Boat Ramp</td>\n",
       "      <td>NaN</td>\n",
       "      <td>NaN</td>\n",
       "      <td>70</td>\n",
       "      <td>2200.0</td>\n",
       "      <td>1.0</td>\n",
       "      <td>...</td>\n",
       "      <td>5.0</td>\n",
       "      <td>NaN</td>\n",
       "      <td>NaN</td>\n",
       "      <td>NaN</td>\n",
       "      <td>14.0</td>\n",
       "      <td>NaN</td>\n",
       "      <td>NaN</td>\n",
       "      <td>NaN</td>\n",
       "      <td>2.0</td>\n",
       "      <td>NaN</td>\n",
       "    </tr>\n",
       "  </tbody>\n",
       "</table>\n",
       "<p>5 rows × 59 columns</p>\n",
       "</div>"
      ],
      "text/plain": [
       "       County        Location Lat-Long Cleanup Type Cleanup Date  \\\n",
       "0        Kent  (39.102739, -75.402356)        Beach   09/20/2008   \n",
       "1        Kent  (39.085748, -75.421875)        Beach   09/20/2008   \n",
       "2  New Castle   (39.738765, -75.53939)        Beach   09/20/2008   \n",
       "3  New Castle  (39.664715, -75.557785)        Beach   09/20/2008   \n",
       "4  New Castle  (39.504724, -75.580976)        Beach   09/20/2008   \n",
       "\n",
       "                               Cleanup Site  Adults  Children  People  Pounds  \\\n",
       "0                             Kitts Hummock     NaN       NaN      45  1500.0   \n",
       "1  Ted Harvey WLA/ Ted Harvey Wildlife Area     NaN       NaN      45   165.0   \n",
       "2             E. 7th Street - Barbiarz Park     NaN       NaN      18   180.0   \n",
       "3                              Battery Park     NaN       NaN      51   892.0   \n",
       "4                 Augustine Beach Boat Ramp     NaN       NaN      70  2200.0   \n",
       "\n",
       "   Miles  ...  Tampons/Tampon Applicators  Foam Pieces  Glass Pieces  \\\n",
       "0    1.0  ...                        15.0          NaN           NaN   \n",
       "1    2.0  ...                         NaN          NaN           NaN   \n",
       "2    1.0  ...                         NaN          NaN           NaN   \n",
       "3    0.5  ...                        48.0          NaN           NaN   \n",
       "4    1.0  ...                         5.0          NaN           NaN   \n",
       "\n",
       "   Plastic Pieces  Clothing, Shoes  Shotgun Shells/Wadding  Light Bulbs/Tubes  \\\n",
       "0             NaN             11.0                    70.0                1.0   \n",
       "1             NaN              4.0                    33.0                2.0   \n",
       "2             NaN             20.0                     NaN                2.0   \n",
       "3             NaN             37.0                    12.0                2.0   \n",
       "4             NaN             14.0                     NaN                NaN   \n",
       "\n",
       "   Batteries  Cars/Car Parts  55-Gallon Drums  \n",
       "0        NaN             4.0              3.0  \n",
       "1        NaN             NaN              NaN  \n",
       "2        4.0             3.0              NaN  \n",
       "3        0.0            19.0              0.0  \n",
       "4        NaN             2.0              NaN  \n",
       "\n",
       "[5 rows x 59 columns]"
      ]
     },
     "execution_count": 2,
     "metadata": {},
     "output_type": "execute_result"
    }
   ],
   "source": [
    "import pandas as pd \n",
    "\n",
    "df = pd.read_csv(\"Delaware_Coastal_Cleanup_Results.csv\") \n",
    "    \n",
    "df.head()\n",
    "    "
   ]
  },
  {
   "cell_type": "markdown",
   "id": "progressive-friday",
   "metadata": {},
   "source": [
    "I want to get some general information to help me better understand the data set"
   ]
  },
  {
   "cell_type": "code",
   "execution_count": 5,
   "id": "engaged-earthquake",
   "metadata": {},
   "outputs": [
    {
     "data": {
      "text/plain": [
       "Sussex        277\n",
       "Kent          139\n",
       "New Castle     78\n",
       "Name: County, dtype: int64"
      ]
     },
     "execution_count": 5,
     "metadata": {},
     "output_type": "execute_result"
    }
   ],
   "source": [
    "df[\"County\"].value_counts()"
   ]
  },
  {
   "cell_type": "code",
   "execution_count": 6,
   "id": "black-syndication",
   "metadata": {},
   "outputs": [
    {
     "data": {
      "text/plain": [
       "Beach                                 312\n",
       "Land (beach, shoreline and inland)    180\n",
       "Watercraft                              2\n",
       "Name: Cleanup Type, dtype: int64"
      ]
     },
     "execution_count": 6,
     "metadata": {},
     "output_type": "execute_result"
    }
   ],
   "source": [
    "df[\"Cleanup Type\"].value_counts()"
   ]
  },
  {
   "cell_type": "markdown",
   "id": "impaired-emission",
   "metadata": {},
   "source": [
    "Mostly beach and land, just 2 by watercraft"
   ]
  },
  {
   "cell_type": "code",
   "execution_count": 7,
   "id": "norman-barcelona",
   "metadata": {},
   "outputs": [
    {
     "data": {
      "text/plain": [
       "Bethany Beach                             13\n",
       "Battery Park                              12\n",
       "Fenwick Island State Park                 12\n",
       "Rehoboth Beach                            12\n",
       "Dewey Beach                               12\n",
       "                                          ..\n",
       "Towers Beach                               1\n",
       "Cape Henlopen-Gordon's Pond State Park     1\n",
       "Broadkill                                  1\n",
       "C&D Canal - St Georges                     1\n",
       "Ted Harvey                                 1\n",
       "Name: Cleanup Site, Length: 138, dtype: int64"
      ]
     },
     "execution_count": 7,
     "metadata": {},
     "output_type": "execute_result"
    }
   ],
   "source": [
    "df[\"Cleanup Site\"].value_counts()"
   ]
  },
  {
   "cell_type": "code",
   "execution_count": 8,
   "id": "talented-hartford",
   "metadata": {},
   "outputs": [
    {
     "data": {
      "text/plain": [
       "09/16/2017    47\n",
       "09/17/2016    46\n",
       "09/19/2015    46\n",
       "09/20/2014    45\n",
       "09/14/2019    44\n",
       "09/21/2013    42\n",
       "09/22/2018    39\n",
       "09/15/2012    37\n",
       "09/17/2011    37\n",
       "09/25/2010    35\n",
       "09/19/2009    34\n",
       "09/20/2008    30\n",
       "09/18/2011     1\n",
       "09/24/2016     1\n",
       "09/27/2015     1\n",
       "10/04/2008     1\n",
       "09/13/2014     1\n",
       "09/12/2009     1\n",
       "06/18/2010     1\n",
       "11/12/2008     1\n",
       "10/10/2012     1\n",
       "09/13/2019     1\n",
       "09/16/2016     1\n",
       "09/15/2017     1\n",
       "Name: Cleanup Date, dtype: int64"
      ]
     },
     "execution_count": 8,
     "metadata": {},
     "output_type": "execute_result"
    }
   ],
   "source": [
    "df[\"Cleanup Date\"].value_counts()"
   ]
  },
  {
   "cell_type": "markdown",
   "id": "mental-collins",
   "metadata": {},
   "source": [
    "Looks like from 2008 to 2019 there's a big cleanup day in September at lots of different locations, and a few other days scattered about at individual sites"
   ]
  },
  {
   "cell_type": "code",
   "execution_count": 9,
   "id": "catholic-turtle",
   "metadata": {},
   "outputs": [
    {
     "data": {
      "text/plain": [
       "42.27732793522267"
      ]
     },
     "execution_count": 9,
     "metadata": {},
     "output_type": "execute_result"
    }
   ],
   "source": [
    "df[\"People\"].mean()"
   ]
  },
  {
   "cell_type": "code",
   "execution_count": 17,
   "id": "figured-sailing",
   "metadata": {},
   "outputs": [
    {
     "data": {
      "text/plain": [
       "array([[<AxesSubplot:title={'center':'People'}>]], dtype=object)"
      ]
     },
     "execution_count": 17,
     "metadata": {},
     "output_type": "execute_result"
    },
    {
     "data": {
      "image/png": "[encoded data removed]",
      "text/plain": [
       "<Figure size 432x288 with 1 Axes>"
      ]
     },
     "metadata": {
      "needs_background": "light"
     },
     "output_type": "display_data"
    }
   ],
   "source": [
    "df.hist(column = \"People\", bins=12)"
   ]
  },
  {
   "cell_type": "code",
   "execution_count": 22,
   "id": "proper-pioneer",
   "metadata": {},
   "outputs": [
    {
     "data": {
      "text/plain": [
       "275.2849190283401"
      ]
     },
     "execution_count": 22,
     "metadata": {},
     "output_type": "execute_result"
    }
   ],
   "source": [
    "df[\"Pounds\"].mean()"
   ]
  },
  {
   "cell_type": "code",
   "execution_count": 25,
   "id": "arabic-analyst",
   "metadata": {},
   "outputs": [
    {
     "data": {
      "text/plain": [
       "array([[<AxesSubplot:title={'center':'Pounds'}>]], dtype=object)"
      ]
     },
     "execution_count": 25,
     "metadata": {},
     "output_type": "execute_result"
    },
    {
     "data": {
      "image/png": "[encoded data removed]",
      "text/plain": [
       "<Figure size 432x288 with 1 Axes>"
      ]
     },
     "metadata": {
      "needs_background": "light"
     },
     "output_type": "display_data"
    }
   ],
   "source": [
    "df.hist(column = \"Pounds\", bins=15)"
   ]
  },
  {
   "cell_type": "code",
   "execution_count": 3,
   "id": "crude-angola",
   "metadata": {},
   "outputs": [
    {
     "data": {
      "text/plain": [
       "['County',\n",
       " 'Location Lat-Long',\n",
       " 'Cleanup Type',\n",
       " 'Cleanup Date',\n",
       " 'Cleanup Site',\n",
       " 'Adults',\n",
       " 'Children',\n",
       " 'People',\n",
       " 'Pounds',\n",
       " 'Miles',\n",
       " 'Bags',\n",
       " 'Cigarette Butts',\n",
       " 'Food Wrappers',\n",
       " 'Take Out/Away Containers (Plastic)',\n",
       " 'Take Out/Away Containers (Foam)',\n",
       " 'Bottle Caps (Plastic)',\n",
       " 'Bottle Caps (Metal)',\n",
       " 'Lids (Plastic)',\n",
       " 'Straws, Stirrers',\n",
       " 'Forks, Knives, Spoons',\n",
       " 'Beverage Bottles (Plastic)',\n",
       " 'Beverage Bottles (Glass)',\n",
       " 'Beverage Cans',\n",
       " 'Grocery Bags (Plastic)',\n",
       " 'Other Plastic Bags',\n",
       " 'Paper Bags',\n",
       " 'Cups, Plates (Paper)',\n",
       " 'Cups, Plates (Plastic)',\n",
       " 'Cups, Plates (Foam)',\n",
       " 'Fishing Buoys, Pots & Traps',\n",
       " 'Fishing Net & Pieces',\n",
       " 'Fishing Line',\n",
       " 'Rope',\n",
       " '6-Pack Holders',\n",
       " 'Other Plastic/Foam Packaging',\n",
       " 'Other Plastic Bottles',\n",
       " 'Strapping Bands',\n",
       " 'Tobacco Packaging/Wrap',\n",
       " 'Appliances',\n",
       " 'Balloons',\n",
       " 'Cigar Tips',\n",
       " 'Cigarette Lighters',\n",
       " 'Construction Materials',\n",
       " 'Fireworks',\n",
       " 'Tires',\n",
       " 'Toys',\n",
       " 'Condoms',\n",
       " 'Diapers',\n",
       " 'Syringes',\n",
       " 'Tampons/Tampon Applicators',\n",
       " 'Foam Pieces',\n",
       " 'Glass Pieces',\n",
       " 'Plastic Pieces',\n",
       " 'Clothing, Shoes',\n",
       " 'Shotgun Shells/Wadding',\n",
       " 'Light Bulbs/Tubes',\n",
       " 'Batteries',\n",
       " 'Cars/Car Parts',\n",
       " '55-Gallon Drums']"
      ]
     },
     "execution_count": 3,
     "metadata": {},
     "output_type": "execute_result"
    }
   ],
   "source": [
    "allCols = list(df)\n",
    "allCols"
   ]
  },
  {
   "cell_type": "code",
   "execution_count": 23,
   "id": "written-dubai",
   "metadata": {},
   "outputs": [
    {
     "data": {
      "text/html": [
       "<div>\n",
       "<style scoped>\n",
       "    .dataframe tbody tr th:only-of-type {\n",
       "        vertical-align: middle;\n",
       "    }\n",
       "\n",
       "    .dataframe tbody tr th {\n",
       "        vertical-align: top;\n",
       "    }\n",
       "\n",
       "    .dataframe thead th {\n",
       "        text-align: right;\n",
       "    }\n",
       "</style>\n",
       "<table border=\"1\" class=\"dataframe\">\n",
       "  <thead>\n",
       "    <tr style=\"text-align: right;\">\n",
       "      <th></th>\n",
       "      <th>Cleanup Date</th>\n",
       "      <th>Cigarette Butts</th>\n",
       "      <th>Tobacco Packaging/Wrap</th>\n",
       "      <th>Cigar Tips</th>\n",
       "      <th>Cigarette Lighters</th>\n",
       "    </tr>\n",
       "  </thead>\n",
       "  <tbody>\n",
       "    <tr>\n",
       "      <th>0</th>\n",
       "      <td>09/20/2008</td>\n",
       "      <td>8.0</td>\n",
       "      <td>4.0</td>\n",
       "      <td>16.0</td>\n",
       "      <td>27.0</td>\n",
       "    </tr>\n",
       "    <tr>\n",
       "      <th>1</th>\n",
       "      <td>09/20/2008</td>\n",
       "      <td>4.0</td>\n",
       "      <td>NaN</td>\n",
       "      <td>NaN</td>\n",
       "      <td>5.0</td>\n",
       "    </tr>\n",
       "    <tr>\n",
       "      <th>2</th>\n",
       "      <td>09/20/2008</td>\n",
       "      <td>172.0</td>\n",
       "      <td>11.0</td>\n",
       "      <td>4.0</td>\n",
       "      <td>8.0</td>\n",
       "    </tr>\n",
       "    <tr>\n",
       "      <th>3</th>\n",
       "      <td>09/20/2008</td>\n",
       "      <td>541.0</td>\n",
       "      <td>25.0</td>\n",
       "      <td>163.0</td>\n",
       "      <td>43.0</td>\n",
       "    </tr>\n",
       "    <tr>\n",
       "      <th>4</th>\n",
       "      <td>09/20/2008</td>\n",
       "      <td>75.0</td>\n",
       "      <td>5.0</td>\n",
       "      <td>9.0</td>\n",
       "      <td>7.0</td>\n",
       "    </tr>\n",
       "    <tr>\n",
       "      <th>...</th>\n",
       "      <td>...</td>\n",
       "      <td>...</td>\n",
       "      <td>...</td>\n",
       "      <td>...</td>\n",
       "      <td>...</td>\n",
       "    </tr>\n",
       "    <tr>\n",
       "      <th>489</th>\n",
       "      <td>09/14/2019</td>\n",
       "      <td>300.0</td>\n",
       "      <td>100.0</td>\n",
       "      <td>10.0</td>\n",
       "      <td>5.0</td>\n",
       "    </tr>\n",
       "    <tr>\n",
       "      <th>490</th>\n",
       "      <td>09/14/2019</td>\n",
       "      <td>17.0</td>\n",
       "      <td>12.0</td>\n",
       "      <td>0.0</td>\n",
       "      <td>0.0</td>\n",
       "    </tr>\n",
       "    <tr>\n",
       "      <th>491</th>\n",
       "      <td>09/14/2019</td>\n",
       "      <td>762.0</td>\n",
       "      <td>20.0</td>\n",
       "      <td>59.0</td>\n",
       "      <td>6.0</td>\n",
       "    </tr>\n",
       "    <tr>\n",
       "      <th>492</th>\n",
       "      <td>09/14/2019</td>\n",
       "      <td>109.0</td>\n",
       "      <td>21.0</td>\n",
       "      <td>12.0</td>\n",
       "      <td>2.0</td>\n",
       "    </tr>\n",
       "    <tr>\n",
       "      <th>493</th>\n",
       "      <td>09/14/2019</td>\n",
       "      <td>72.0</td>\n",
       "      <td>14.0</td>\n",
       "      <td>40.0</td>\n",
       "      <td>2.0</td>\n",
       "    </tr>\n",
       "  </tbody>\n",
       "</table>\n",
       "<p>494 rows × 5 columns</p>\n",
       "</div>"
      ],
      "text/plain": [
       "    Cleanup Date  Cigarette Butts  Tobacco Packaging/Wrap  Cigar Tips  \\\n",
       "0     09/20/2008              8.0                     4.0        16.0   \n",
       "1     09/20/2008              4.0                     NaN         NaN   \n",
       "2     09/20/2008            172.0                    11.0         4.0   \n",
       "3     09/20/2008            541.0                    25.0       163.0   \n",
       "4     09/20/2008             75.0                     5.0         9.0   \n",
       "..           ...              ...                     ...         ...   \n",
       "489   09/14/2019            300.0                   100.0        10.0   \n",
       "490   09/14/2019             17.0                    12.0         0.0   \n",
       "491   09/14/2019            762.0                    20.0        59.0   \n",
       "492   09/14/2019            109.0                    21.0        12.0   \n",
       "493   09/14/2019             72.0                    14.0        40.0   \n",
       "\n",
       "     Cigarette Lighters  \n",
       "0                  27.0  \n",
       "1                   5.0  \n",
       "2                   8.0  \n",
       "3                  43.0  \n",
       "4                   7.0  \n",
       "..                  ...  \n",
       "489                 5.0  \n",
       "490                 0.0  \n",
       "491                 6.0  \n",
       "492                 2.0  \n",
       "493                 2.0  \n",
       "\n",
       "[494 rows x 5 columns]"
      ]
     },
     "execution_count": 23,
     "metadata": {},
     "output_type": "execute_result"
    }
   ],
   "source": [
    "#Smoking related: 'Cigarette Butts', 'Tobacco Packaging/Wrap', 'Cigar Tips', 'Cigarette Lighters'\n",
    "smokingdf = df[['Cleanup Date','Cigarette Butts', 'Tobacco Packaging/Wrap', 'Cigar Tips', 'Cigarette Lighters']];\n",
    "smokingdf"
   ]
  },
  {
   "cell_type": "code",
   "execution_count": 25,
   "id": "danish-tattoo",
   "metadata": {},
   "outputs": [
    {
     "name": "stderr",
     "output_type": "stream",
     "text": [
      "<ipython-input-25-65fd65236513>:3: SettingWithCopyWarning: \n",
      "A value is trying to be set on a copy of a slice from a DataFrame.\n",
      "Try using .loc[row_indexer,col_indexer] = value instead\n",
      "\n",
      "See the caveats in the documentation: https://pandas.pydata.org/pandas-docs/stable/user_guide/indexing.html#returning-a-view-versus-a-copy\n",
      "  smokingdf['total smoking items'] = totalsmoke;\n"
     ]
    },
    {
     "data": {
      "text/html": [
       "<div>\n",
       "<style scoped>\n",
       "    .dataframe tbody tr th:only-of-type {\n",
       "        vertical-align: middle;\n",
       "    }\n",
       "\n",
       "    .dataframe tbody tr th {\n",
       "        vertical-align: top;\n",
       "    }\n",
       "\n",
       "    .dataframe thead th {\n",
       "        text-align: right;\n",
       "    }\n",
       "</style>\n",
       "<table border=\"1\" class=\"dataframe\">\n",
       "  <thead>\n",
       "    <tr style=\"text-align: right;\">\n",
       "      <th></th>\n",
       "      <th>Cleanup Date</th>\n",
       "      <th>Cigarette Butts</th>\n",
       "      <th>Tobacco Packaging/Wrap</th>\n",
       "      <th>Cigar Tips</th>\n",
       "      <th>Cigarette Lighters</th>\n",
       "      <th>total smoking items</th>\n",
       "    </tr>\n",
       "  </thead>\n",
       "  <tbody>\n",
       "    <tr>\n",
       "      <th>0</th>\n",
       "      <td>09/20/2008</td>\n",
       "      <td>8.0</td>\n",
       "      <td>4.0</td>\n",
       "      <td>16.0</td>\n",
       "      <td>27.0</td>\n",
       "      <td>55.0</td>\n",
       "    </tr>\n",
       "    <tr>\n",
       "      <th>1</th>\n",
       "      <td>09/20/2008</td>\n",
       "      <td>4.0</td>\n",
       "      <td>NaN</td>\n",
       "      <td>NaN</td>\n",
       "      <td>5.0</td>\n",
       "      <td>9.0</td>\n",
       "    </tr>\n",
       "    <tr>\n",
       "      <th>2</th>\n",
       "      <td>09/20/2008</td>\n",
       "      <td>172.0</td>\n",
       "      <td>11.0</td>\n",
       "      <td>4.0</td>\n",
       "      <td>8.0</td>\n",
       "      <td>195.0</td>\n",
       "    </tr>\n",
       "    <tr>\n",
       "      <th>3</th>\n",
       "      <td>09/20/2008</td>\n",
       "      <td>541.0</td>\n",
       "      <td>25.0</td>\n",
       "      <td>163.0</td>\n",
       "      <td>43.0</td>\n",
       "      <td>772.0</td>\n",
       "    </tr>\n",
       "    <tr>\n",
       "      <th>4</th>\n",
       "      <td>09/20/2008</td>\n",
       "      <td>75.0</td>\n",
       "      <td>5.0</td>\n",
       "      <td>9.0</td>\n",
       "      <td>7.0</td>\n",
       "      <td>96.0</td>\n",
       "    </tr>\n",
       "    <tr>\n",
       "      <th>...</th>\n",
       "      <td>...</td>\n",
       "      <td>...</td>\n",
       "      <td>...</td>\n",
       "      <td>...</td>\n",
       "      <td>...</td>\n",
       "      <td>...</td>\n",
       "    </tr>\n",
       "    <tr>\n",
       "      <th>489</th>\n",
       "      <td>09/14/2019</td>\n",
       "      <td>300.0</td>\n",
       "      <td>100.0</td>\n",
       "      <td>10.0</td>\n",
       "      <td>5.0</td>\n",
       "      <td>415.0</td>\n",
       "    </tr>\n",
       "    <tr>\n",
       "      <th>490</th>\n",
       "      <td>09/14/2019</td>\n",
       "      <td>17.0</td>\n",
       "      <td>12.0</td>\n",
       "      <td>0.0</td>\n",
       "      <td>0.0</td>\n",
       "      <td>29.0</td>\n",
       "    </tr>\n",
       "    <tr>\n",
       "      <th>491</th>\n",
       "      <td>09/14/2019</td>\n",
       "      <td>762.0</td>\n",
       "      <td>20.0</td>\n",
       "      <td>59.0</td>\n",
       "      <td>6.0</td>\n",
       "      <td>847.0</td>\n",
       "    </tr>\n",
       "    <tr>\n",
       "      <th>492</th>\n",
       "      <td>09/14/2019</td>\n",
       "      <td>109.0</td>\n",
       "      <td>21.0</td>\n",
       "      <td>12.0</td>\n",
       "      <td>2.0</td>\n",
       "      <td>144.0</td>\n",
       "    </tr>\n",
       "    <tr>\n",
       "      <th>493</th>\n",
       "      <td>09/14/2019</td>\n",
       "      <td>72.0</td>\n",
       "      <td>14.0</td>\n",
       "      <td>40.0</td>\n",
       "      <td>2.0</td>\n",
       "      <td>128.0</td>\n",
       "    </tr>\n",
       "  </tbody>\n",
       "</table>\n",
       "<p>494 rows × 6 columns</p>\n",
       "</div>"
      ],
      "text/plain": [
       "    Cleanup Date  Cigarette Butts  Tobacco Packaging/Wrap  Cigar Tips  \\\n",
       "0     09/20/2008              8.0                     4.0        16.0   \n",
       "1     09/20/2008              4.0                     NaN         NaN   \n",
       "2     09/20/2008            172.0                    11.0         4.0   \n",
       "3     09/20/2008            541.0                    25.0       163.0   \n",
       "4     09/20/2008             75.0                     5.0         9.0   \n",
       "..           ...              ...                     ...         ...   \n",
       "489   09/14/2019            300.0                   100.0        10.0   \n",
       "490   09/14/2019             17.0                    12.0         0.0   \n",
       "491   09/14/2019            762.0                    20.0        59.0   \n",
       "492   09/14/2019            109.0                    21.0        12.0   \n",
       "493   09/14/2019             72.0                    14.0        40.0   \n",
       "\n",
       "     Cigarette Lighters  total smoking items  \n",
       "0                  27.0                 55.0  \n",
       "1                   5.0                  9.0  \n",
       "2                   8.0                195.0  \n",
       "3                  43.0                772.0  \n",
       "4                   7.0                 96.0  \n",
       "..                  ...                  ...  \n",
       "489                 5.0                415.0  \n",
       "490                 0.0                 29.0  \n",
       "491                 6.0                847.0  \n",
       "492                 2.0                144.0  \n",
       "493                 2.0                128.0  \n",
       "\n",
       "[494 rows x 6 columns]"
      ]
     },
     "execution_count": 25,
     "metadata": {},
     "output_type": "execute_result"
    }
   ],
   "source": [
    "listOfSmokingColumns = ['Cleanup Date','Cigarette Butts', 'Tobacco Packaging/Wrap', 'Cigar Tips', 'Cigarette Lighters'];\n",
    "totalsmoke = df[listOfSmokingColumns].sum(axis=1);\n",
    "smokingdf['total smoking items'] = totalsmoke;\n",
    "smokingdf"
   ]
  },
  {
   "cell_type": "code",
   "execution_count": 53,
   "id": "supreme-blink",
   "metadata": {},
   "outputs": [
    {
     "ename": "NameError",
     "evalue": "name 'plot' is not defined",
     "output_type": "error",
     "traceback": [
      "\u001b[1;31m---------------------------------------------------------------------------\u001b[0m",
      "\u001b[1;31mNameError\u001b[0m                                 Traceback (most recent call last)",
      "\u001b[1;32m<ipython-input-53-767a0a92dd68>\u001b[0m in \u001b[0;36m<module>\u001b[1;34m\u001b[0m\n\u001b[0;32m      3\u001b[0m                       c='DarkBlue')\n\u001b[0;32m      4\u001b[0m \u001b[1;33m\u001b[0m\u001b[0m\n\u001b[1;32m----> 5\u001b[1;33m \u001b[0mplot\u001b[0m\u001b[1;33m.\u001b[0m\u001b[0mshow\u001b[0m\u001b[1;33m(\u001b[0m\u001b[1;33m)\u001b[0m\u001b[1;33m;\u001b[0m\u001b[1;33m\u001b[0m\u001b[1;33m\u001b[0m\u001b[0m\n\u001b[0m",
      "\u001b[1;31mNameError\u001b[0m: name 'plot' is not defined"
     ]
    },
    {
     "data": {
      "image/png": "[encoded data removed]",
      "text/plain": [
       "<Figure size 432x288 with 1 Axes>"
      ]
     },
     "metadata": {
      "needs_background": "light"
     },
     "output_type": "display_data"
    }
   ],
   "source": [
    "#ax1 = smokingdf.plot.scatter(x='Cleanup Date',\n",
    "  #                    y='total smoking items',\n",
    "  #                    c='DarkBlue')\n",
    "\n"
   ]
  },
  {
   "cell_type": "markdown",
   "id": "threaded-snowboard",
   "metadata": {},
   "source": [
    "Above, this scatter plot did not work as expected because I did not sum by cleanup date, so there are many points for each of the days\n",
    "\n",
    "Additionally, I don't want to include days that only collected at one site, I just want to include the big cleanup days\n",
    "\n",
    "these are the big cleanup day dates, with the number of sites\n",
    "\n",
    "09/16/2017    47\n",
    "09/17/2016    46\n",
    "09/19/2015    46\n",
    "09/20/2014    45\n",
    "09/14/2019    44\n",
    "09/21/2013    42\n",
    "09/22/2018    39\n",
    "09/15/2012    37\n",
    "09/17/2011    37\n",
    "09/25/2010    35\n",
    "09/19/2009    34\n",
    "09/20/2008    30"
   ]
  },
  {
   "cell_type": "code",
   "execution_count": 60,
   "id": "special-cinema",
   "metadata": {},
   "outputs": [
    {
     "data": {
      "image/png": "[encoded data removed]",
      "text/plain": [
       "<Figure size 432x288 with 1 Axes>"
      ]
     },
     "metadata": {
      "needs_background": "light"
     },
     "output_type": "display_data"
    }
   ],
   "source": [
    "smoke08 = smokingdf[smokingdf['Cleanup Date'] == '09/20/2008'];\n",
    "smoke08 = smoke08['total smoking items'].sum();\n",
    "\n",
    "smoke09 = smokingdf[smokingdf['Cleanup Date'] == '09/19/2009'];\n",
    "smoke09 = smoke09['total smoking items'].sum();\n",
    "\n",
    "smoke10 = smokingdf[smokingdf['Cleanup Date'] == '09/25/2010'];\n",
    "smoke10 = smoke10['total smoking items'].sum();\n",
    "\n",
    "smoke11 = smokingdf[smokingdf['Cleanup Date'] == '09/17/2011'];\n",
    "smoke11 = smoke11['total smoking items'].sum();\n",
    "\n",
    "smoke12 = smokingdf[smokingdf['Cleanup Date'] == '09/15/2012'];\n",
    "smoke12 = smoke12['total smoking items'].sum();\n",
    "\n",
    "smoke13 = smokingdf[smokingdf['Cleanup Date'] == '09/21/2013'];\n",
    "smoke13 = smoke13['total smoking items'].sum();\n",
    "\n",
    "smoke14 = smokingdf[smokingdf['Cleanup Date'] == '09/20/2014'];\n",
    "smoke14 = smoke14['total smoking items'].sum();\n",
    "\n",
    "smoke15 = smokingdf[smokingdf['Cleanup Date'] == '09/19/2015'];\n",
    "smoke15 = smoke15['total smoking items'].sum();\n",
    "\n",
    "smoke16 = smokingdf[smokingdf['Cleanup Date'] == '09/17/2016'];\n",
    "smoke16 = smoke16['total smoking items'].sum();\n",
    "\n",
    "smoke17 = smokingdf[smokingdf['Cleanup Date'] == '09/16/2017'];\n",
    "smoke17 = smoke17['total smoking items'].sum();\n",
    "\n",
    "smoke18 = smokingdf[smokingdf['Cleanup Date'] == '09/22/2018'];\n",
    "smoke18 = smoke18['total smoking items'].sum();\n",
    "\n",
    "smokeyeartotals = [smoke08,smoke09,smoke10,smoke11,smoke12,smoke13,smoke14,smoke15,smoke16,smoke17,smoke18]\n",
    "smokeyears = [2008,2009,2010,2011,2012,2013,2014,2015,2016,2017,2018]\n",
    "\n",
    "#df1 = pd.DataFrame(smokeyears);\n",
    "#df2 = pd.DataFrame(smokeyeartotals)\n",
    "\n",
    "smoketotalsdfunt = pd.DataFrame([smokeyears,smokeyeartotals]);\n",
    "smoketotalsdf = smoketotalsdfunt.T;\n",
    "smoketotalsdf.columns = ['Year', 'Number Of Smoking Items']\n",
    "\n",
    "smoketotalsdf\n",
    "\n",
    "ax1 = smoketotalsdf.plot.scatter(x='Year',\n",
    "                        y='Number Of Smoking Items',\n",
    "                      c='DarkBlue')"
   ]
  },
  {
   "cell_type": "markdown",
   "id": "delayed-dodge",
   "metadata": {},
   "source": [
    "Hmm defnitely not a clear correlation between year and number of smoking-related items retrieved. Let's try to see if the percent of recovered items that are smoking related increases or decreases"
   ]
  },
  {
   "cell_type": "code",
   "execution_count": null,
   "id": "molecular-compatibility",
   "metadata": {},
   "outputs": [],
   "source": []
  }
 ],
 "metadata": {
  "kernelspec": {
   "display_name": "Python 3",
   "language": "python",
   "name": "python3"
  },
  "language_info": {
   "codemirror_mode": {
    "name": "ipython",
    "version": 3
   },
   "file_extension": ".py",
   "mimetype": "text/x-python",
   "name": "python",
   "nbconvert_exporter": "python",
   "pygments_lexer": "ipython3",
   "version": "3.9.1"
  }
 },
 "nbformat": 4,
 "nbformat_minor": 5
}
