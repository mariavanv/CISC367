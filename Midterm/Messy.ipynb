{
 "cells": [
  {
   "cell_type": "markdown",
   "id": "appreciated-europe",
   "metadata": {},
   "source": [
    "# Messy Midterm \n",
    "\n",
    "Get the data into a dataframe:"
   ]
  },
  {
   "cell_type": "code",
   "execution_count": 3,
   "id": "south-character",
   "metadata": {},
   "outputs": [
    {
     "data": {
      "text/html": [
       "<div>\n",
       "<style scoped>\n",
       "    .dataframe tbody tr th:only-of-type {\n",
       "        vertical-align: middle;\n",
       "    }\n",
       "\n",
       "    .dataframe tbody tr th {\n",
       "        vertical-align: top;\n",
       "    }\n",
       "\n",
       "    .dataframe thead th {\n",
       "        text-align: right;\n",
       "    }\n",
       "</style>\n",
       "<table border=\"1\" class=\"dataframe\">\n",
       "  <thead>\n",
       "    <tr style=\"text-align: right;\">\n",
       "      <th></th>\n",
       "      <th>County</th>\n",
       "      <th>Location Lat-Long</th>\n",
       "      <th>Cleanup Type</th>\n",
       "      <th>Cleanup Date</th>\n",
       "      <th>Cleanup Site</th>\n",
       "      <th>Adults</th>\n",
       "      <th>Children</th>\n",
       "      <th>People</th>\n",
       "      <th>Pounds</th>\n",
       "      <th>Miles</th>\n",
       "      <th>...</th>\n",
       "      <th>Tampons/Tampon Applicators</th>\n",
       "      <th>Foam Pieces</th>\n",
       "      <th>Glass Pieces</th>\n",
       "      <th>Plastic Pieces</th>\n",
       "      <th>Clothing, Shoes</th>\n",
       "      <th>Shotgun Shells/Wadding</th>\n",
       "      <th>Light Bulbs/Tubes</th>\n",
       "      <th>Batteries</th>\n",
       "      <th>Cars/Car Parts</th>\n",
       "      <th>55-Gallon Drums</th>\n",
       "    </tr>\n",
       "  </thead>\n",
       "  <tbody>\n",
       "    <tr>\n",
       "      <th>0</th>\n",
       "      <td>Kent</td>\n",
       "      <td>(39.102739, -75.402356)</td>\n",
       "      <td>Beach</td>\n",
       "      <td>09/20/2008</td>\n",
       "      <td>Kitts Hummock</td>\n",
       "      <td>NaN</td>\n",
       "      <td>NaN</td>\n",
       "      <td>45</td>\n",
       "      <td>1500.0</td>\n",
       "      <td>1.0</td>\n",
       "      <td>...</td>\n",
       "      <td>15.0</td>\n",
       "      <td>NaN</td>\n",
       "      <td>NaN</td>\n",
       "      <td>NaN</td>\n",
       "      <td>11.0</td>\n",
       "      <td>70.0</td>\n",
       "      <td>1.0</td>\n",
       "      <td>NaN</td>\n",
       "      <td>4.0</td>\n",
       "      <td>3.0</td>\n",
       "    </tr>\n",
       "    <tr>\n",
       "      <th>1</th>\n",
       "      <td>Kent</td>\n",
       "      <td>(39.085748, -75.421875)</td>\n",
       "      <td>Beach</td>\n",
       "      <td>09/20/2008</td>\n",
       "      <td>Ted Harvey WLA/ Ted Harvey Wildlife Area</td>\n",
       "      <td>NaN</td>\n",
       "      <td>NaN</td>\n",
       "      <td>45</td>\n",
       "      <td>165.0</td>\n",
       "      <td>2.0</td>\n",
       "      <td>...</td>\n",
       "      <td>NaN</td>\n",
       "      <td>NaN</td>\n",
       "      <td>NaN</td>\n",
       "      <td>NaN</td>\n",
       "      <td>4.0</td>\n",
       "      <td>33.0</td>\n",
       "      <td>2.0</td>\n",
       "      <td>NaN</td>\n",
       "      <td>NaN</td>\n",
       "      <td>NaN</td>\n",
       "    </tr>\n",
       "    <tr>\n",
       "      <th>2</th>\n",
       "      <td>New Castle</td>\n",
       "      <td>(39.738765, -75.53939)</td>\n",
       "      <td>Beach</td>\n",
       "      <td>09/20/2008</td>\n",
       "      <td>E. 7th Street - Barbiarz Park</td>\n",
       "      <td>NaN</td>\n",
       "      <td>NaN</td>\n",
       "      <td>18</td>\n",
       "      <td>180.0</td>\n",
       "      <td>1.0</td>\n",
       "      <td>...</td>\n",
       "      <td>NaN</td>\n",
       "      <td>NaN</td>\n",
       "      <td>NaN</td>\n",
       "      <td>NaN</td>\n",
       "      <td>20.0</td>\n",
       "      <td>NaN</td>\n",
       "      <td>2.0</td>\n",
       "      <td>4.0</td>\n",
       "      <td>3.0</td>\n",
       "      <td>NaN</td>\n",
       "    </tr>\n",
       "    <tr>\n",
       "      <th>3</th>\n",
       "      <td>New Castle</td>\n",
       "      <td>(39.664715, -75.557785)</td>\n",
       "      <td>Beach</td>\n",
       "      <td>09/20/2008</td>\n",
       "      <td>Battery Park</td>\n",
       "      <td>NaN</td>\n",
       "      <td>NaN</td>\n",
       "      <td>51</td>\n",
       "      <td>892.0</td>\n",
       "      <td>0.5</td>\n",
       "      <td>...</td>\n",
       "      <td>48.0</td>\n",
       "      <td>NaN</td>\n",
       "      <td>NaN</td>\n",
       "      <td>NaN</td>\n",
       "      <td>37.0</td>\n",
       "      <td>12.0</td>\n",
       "      <td>2.0</td>\n",
       "      <td>0.0</td>\n",
       "      <td>19.0</td>\n",
       "      <td>0.0</td>\n",
       "    </tr>\n",
       "    <tr>\n",
       "      <th>4</th>\n",
       "      <td>New Castle</td>\n",
       "      <td>(39.504724, -75.580976)</td>\n",
       "      <td>Beach</td>\n",
       "      <td>09/20/2008</td>\n",
       "      <td>Augustine Beach Boat Ramp</td>\n",
       "      <td>NaN</td>\n",
       "      <td>NaN</td>\n",
       "      <td>70</td>\n",
       "      <td>2200.0</td>\n",
       "      <td>1.0</td>\n",
       "      <td>...</td>\n",
       "      <td>5.0</td>\n",
       "      <td>NaN</td>\n",
       "      <td>NaN</td>\n",
       "      <td>NaN</td>\n",
       "      <td>14.0</td>\n",
       "      <td>NaN</td>\n",
       "      <td>NaN</td>\n",
       "      <td>NaN</td>\n",
       "      <td>2.0</td>\n",
       "      <td>NaN</td>\n",
       "    </tr>\n",
       "  </tbody>\n",
       "</table>\n",
       "<p>5 rows × 59 columns</p>\n",
       "</div>"
      ],
      "text/plain": [
       "       County        Location Lat-Long Cleanup Type Cleanup Date  \\\n",
       "0        Kent  (39.102739, -75.402356)        Beach   09/20/2008   \n",
       "1        Kent  (39.085748, -75.421875)        Beach   09/20/2008   \n",
       "2  New Castle   (39.738765, -75.53939)        Beach   09/20/2008   \n",
       "3  New Castle  (39.664715, -75.557785)        Beach   09/20/2008   \n",
       "4  New Castle  (39.504724, -75.580976)        Beach   09/20/2008   \n",
       "\n",
       "                               Cleanup Site  Adults  Children  People  Pounds  \\\n",
       "0                             Kitts Hummock     NaN       NaN      45  1500.0   \n",
       "1  Ted Harvey WLA/ Ted Harvey Wildlife Area     NaN       NaN      45   165.0   \n",
       "2             E. 7th Street - Barbiarz Park     NaN       NaN      18   180.0   \n",
       "3                              Battery Park     NaN       NaN      51   892.0   \n",
       "4                 Augustine Beach Boat Ramp     NaN       NaN      70  2200.0   \n",
       "\n",
       "   Miles  ...  Tampons/Tampon Applicators  Foam Pieces  Glass Pieces  \\\n",
       "0    1.0  ...                        15.0          NaN           NaN   \n",
       "1    2.0  ...                         NaN          NaN           NaN   \n",
       "2    1.0  ...                         NaN          NaN           NaN   \n",
       "3    0.5  ...                        48.0          NaN           NaN   \n",
       "4    1.0  ...                         5.0          NaN           NaN   \n",
       "\n",
       "   Plastic Pieces  Clothing, Shoes  Shotgun Shells/Wadding  Light Bulbs/Tubes  \\\n",
       "0             NaN             11.0                    70.0                1.0   \n",
       "1             NaN              4.0                    33.0                2.0   \n",
       "2             NaN             20.0                     NaN                2.0   \n",
       "3             NaN             37.0                    12.0                2.0   \n",
       "4             NaN             14.0                     NaN                NaN   \n",
       "\n",
       "   Batteries  Cars/Car Parts  55-Gallon Drums  \n",
       "0        NaN             4.0              3.0  \n",
       "1        NaN             NaN              NaN  \n",
       "2        4.0             3.0              NaN  \n",
       "3        0.0            19.0              0.0  \n",
       "4        NaN             2.0              NaN  \n",
       "\n",
       "[5 rows x 59 columns]"
      ]
     },
     "execution_count": 3,
     "metadata": {},
     "output_type": "execute_result"
    }
   ],
   "source": [
    "import pandas as pd \n",
    "\n",
    "df = pd.read_csv(\"Delaware_Coastal_Cleanup_Results.csv\") \n",
    "    \n",
    "df.head()\n",
    "    "
   ]
  },
  {
   "cell_type": "markdown",
   "id": "blond-filing",
   "metadata": {},
   "source": [
    "I want to get some general information to help me better understand the data set"
   ]
  },
  {
   "cell_type": "code",
   "execution_count": 5,
   "id": "recreational-corpus",
   "metadata": {},
   "outputs": [
    {
     "data": {
      "text/plain": [
       "Sussex        277\n",
       "Kent          139\n",
       "New Castle     78\n",
       "Name: County, dtype: int64"
      ]
     },
     "execution_count": 5,
     "metadata": {},
     "output_type": "execute_result"
    }
   ],
   "source": [
    "df[\"County\"].value_counts()"
   ]
  },
  {
   "cell_type": "code",
   "execution_count": 6,
   "id": "otherwise-hostel",
   "metadata": {},
   "outputs": [
    {
     "data": {
      "text/plain": [
       "Beach                                 312\n",
       "Land (beach, shoreline and inland)    180\n",
       "Watercraft                              2\n",
       "Name: Cleanup Type, dtype: int64"
      ]
     },
     "execution_count": 6,
     "metadata": {},
     "output_type": "execute_result"
    }
   ],
   "source": [
    "df[\"Cleanup Type\"].value_counts()"
   ]
  },
  {
   "cell_type": "markdown",
   "id": "european-marijuana",
   "metadata": {},
   "source": [
    "Mostly beach and land, just 2 by watercraft"
   ]
  },
  {
   "cell_type": "code",
   "execution_count": 7,
   "id": "hundred-banner",
   "metadata": {},
   "outputs": [
    {
     "data": {
      "text/plain": [
       "Bethany Beach                             13\n",
       "Battery Park                              12\n",
       "Fenwick Island State Park                 12\n",
       "Rehoboth Beach                            12\n",
       "Dewey Beach                               12\n",
       "                                          ..\n",
       "Towers Beach                               1\n",
       "Cape Henlopen-Gordon's Pond State Park     1\n",
       "Broadkill                                  1\n",
       "C&D Canal - St Georges                     1\n",
       "Ted Harvey                                 1\n",
       "Name: Cleanup Site, Length: 138, dtype: int64"
      ]
     },
     "execution_count": 7,
     "metadata": {},
     "output_type": "execute_result"
    }
   ],
   "source": [
    "df[\"Cleanup Site\"].value_counts()"
   ]
  },
  {
   "cell_type": "code",
   "execution_count": 8,
   "id": "arctic-palestine",
   "metadata": {},
   "outputs": [
    {
     "data": {
      "text/plain": [
       "09/16/2017    47\n",
       "09/17/2016    46\n",
       "09/19/2015    46\n",
       "09/20/2014    45\n",
       "09/14/2019    44\n",
       "09/21/2013    42\n",
       "09/22/2018    39\n",
       "09/15/2012    37\n",
       "09/17/2011    37\n",
       "09/25/2010    35\n",
       "09/19/2009    34\n",
       "09/20/2008    30\n",
       "09/18/2011     1\n",
       "09/24/2016     1\n",
       "09/27/2015     1\n",
       "10/04/2008     1\n",
       "09/13/2014     1\n",
       "09/12/2009     1\n",
       "06/18/2010     1\n",
       "11/12/2008     1\n",
       "10/10/2012     1\n",
       "09/13/2019     1\n",
       "09/16/2016     1\n",
       "09/15/2017     1\n",
       "Name: Cleanup Date, dtype: int64"
      ]
     },
     "execution_count": 8,
     "metadata": {},
     "output_type": "execute_result"
    }
   ],
   "source": [
    "df[\"Cleanup Date\"].value_counts()"
   ]
  },
  {
   "cell_type": "markdown",
   "id": "hourly-rebecca",
   "metadata": {},
   "source": [
    "Looks like from 2008 to 2019 there's a big cleanup day in September at lots of different locations, and a few other days scattered about at individual sites"
   ]
  },
  {
   "cell_type": "code",
   "execution_count": 9,
   "id": "allied-mileage",
   "metadata": {},
   "outputs": [
    {
     "data": {
      "text/plain": [
       "42.27732793522267"
      ]
     },
     "execution_count": 9,
     "metadata": {},
     "output_type": "execute_result"
    }
   ],
   "source": [
    "df[\"People\"].mean()"
   ]
  },
  {
   "cell_type": "code",
   "execution_count": 17,
   "id": "broad-pride",
   "metadata": {},
   "outputs": [
    {
     "data": {
      "text/plain": [
       "array([[<AxesSubplot:title={'center':'People'}>]], dtype=object)"
      ]
     },
     "execution_count": 17,
     "metadata": {},
     "output_type": "execute_result"
    },
    {
     "data": {
      "image/png": "[encoded data removed]",
      "text/plain": [
       "<Figure size 432x288 with 1 Axes>"
      ]
     },
     "metadata": {
      "needs_background": "light"
     },
     "output_type": "display_data"
    }
   ],
   "source": [
    "df.hist(column = \"People\", bins=12)"
   ]
  },
  {
   "cell_type": "code",
   "execution_count": 22,
   "id": "declared-implement",
   "metadata": {},
   "outputs": [
    {
     "data": {
      "text/plain": [
       "275.2849190283401"
      ]
     },
     "execution_count": 22,
     "metadata": {},
     "output_type": "execute_result"
    }
   ],
   "source": [
    "df[\"Pounds\"].mean()"
   ]
  },
  {
   "cell_type": "code",
   "execution_count": 25,
   "id": "authorized-extent",
   "metadata": {},
   "outputs": [
    {
     "data": {
      "text/plain": [
       "array([[<AxesSubplot:title={'center':'Pounds'}>]], dtype=object)"
      ]
     },
     "execution_count": 25,
     "metadata": {},
     "output_type": "execute_result"
    },
    {
     "data": {
      "image/png": "[encoded data removed]",
      "text/plain": [
       "<Figure size 432x288 with 1 Axes>"
      ]
     },
     "metadata": {
      "needs_background": "light"
     },
     "output_type": "display_data"
    }
   ],
   "source": [
    "df.hist(column = \"Pounds\", bins=15)"
   ]
  },
  {
   "cell_type": "code",
   "execution_count": null,
   "id": "acceptable-jackson",
   "metadata": {},
   "outputs": [],
   "source": []
  }
 ],
 "metadata": {
  "kernelspec": {
   "display_name": "Python 3",
   "language": "python",
   "name": "python3"
  },
  "language_info": {
   "codemirror_mode": {
    "name": "ipython",
    "version": 3
   },
   "file_extension": ".py",
   "mimetype": "text/x-python",
   "name": "python",
   "nbconvert_exporter": "python",
   "pygments_lexer": "ipython3",
   "version": "3.9.1"
  }
 },
 "nbformat": 4,
 "nbformat_minor": 5
}
